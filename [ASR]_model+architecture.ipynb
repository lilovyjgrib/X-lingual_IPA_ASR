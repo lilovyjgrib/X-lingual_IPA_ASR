{
  "nbformat": 4,
  "nbformat_minor": 0,
  "metadata": {
    "colab": {
      "provenance": []
    },
    "kernelspec": {
      "name": "python3",
      "display_name": "Python 3"
    },
    "language_info": {
      "name": "python"
    }
  },
  "cells": [
    {
      "cell_type": "code",
      "source": [
        "from google.colab import drive\n",
        "drive.mount('/content/drive', force_remount = True)\n",
        "\n",
        "import os\n",
        "os.chdir('./drive/MyDrive')"
      ],
      "metadata": {
        "colab": {
          "base_uri": "https://localhost:8080/"
        },
        "id": "kzQFlleGTFJ2",
        "outputId": "82d7c825-e254-45a8-bfe8-26152e6c5e77"
      },
      "execution_count": 1,
      "outputs": [
        {
          "output_type": "stream",
          "name": "stdout",
          "text": [
            "Mounted at /content/drive\n"
          ]
        }
      ]
    },
    {
      "cell_type": "markdown",
      "source": [
        "#### import"
      ],
      "metadata": {
        "id": "f9_8U10qZ03H"
      }
    },
    {
      "cell_type": "code",
      "source": [
        "!pip install params"
      ],
      "metadata": {
        "colab": {
          "base_uri": "https://localhost:8080/"
        },
        "id": "Og37GU8EYXQt",
        "outputId": "9ac124d6-76e0-49e8-e655-cac47c9183dd"
      },
      "execution_count": 2,
      "outputs": [
        {
          "output_type": "stream",
          "name": "stdout",
          "text": [
            "Collecting params\n",
            "  Downloading params-0.9.0-py3-none-any.whl.metadata (631 bytes)\n",
            "Requirement already satisfied: six in /usr/local/lib/python3.11/dist-packages (from params) (1.17.0)\n",
            "Downloading params-0.9.0-py3-none-any.whl (11 kB)\n",
            "Installing collected packages: params\n",
            "Successfully installed params-0.9.0\n"
          ]
        }
      ]
    },
    {
      "cell_type": "code",
      "source": [
        "!pip install jiwer"
      ],
      "metadata": {
        "colab": {
          "base_uri": "https://localhost:8080/"
        },
        "id": "7ya7kMqgJv_K",
        "outputId": "07bbfe1d-1633-4bb4-ab43-c23e78182c8f"
      },
      "execution_count": 3,
      "outputs": [
        {
          "output_type": "stream",
          "name": "stdout",
          "text": [
            "Collecting jiwer\n",
            "  Downloading jiwer-4.0.0-py3-none-any.whl.metadata (3.3 kB)\n",
            "Requirement already satisfied: click>=8.1.8 in /usr/local/lib/python3.11/dist-packages (from jiwer) (8.2.1)\n",
            "Collecting rapidfuzz>=3.9.7 (from jiwer)\n",
            "  Downloading rapidfuzz-3.13.0-cp311-cp311-manylinux_2_17_x86_64.manylinux2014_x86_64.whl.metadata (12 kB)\n",
            "Downloading jiwer-4.0.0-py3-none-any.whl (23 kB)\n",
            "Downloading rapidfuzz-3.13.0-cp311-cp311-manylinux_2_17_x86_64.manylinux2014_x86_64.whl (3.1 MB)\n",
            "\u001b[2K   \u001b[90m━━━━━━━━━━━━━━━━━━━━━━━━━━━━━━━━━━━━━━━━\u001b[0m \u001b[32m3.1/3.1 MB\u001b[0m \u001b[31m14.1 MB/s\u001b[0m eta \u001b[36m0:00:00\u001b[0m\n",
            "\u001b[?25hInstalling collected packages: rapidfuzz, jiwer\n",
            "Successfully installed jiwer-4.0.0 rapidfuzz-3.13.0\n"
          ]
        }
      ]
    },
    {
      "cell_type": "code",
      "execution_count": 4,
      "metadata": {
        "id": "MBgjbdM6-GvG"
      },
      "outputs": [],
      "source": [
        "import torch\n",
        "import torch.nn as nn\n",
        "import torch.nn.functional as F\n",
        "from torch.utils.data import Dataset, DataLoader\n",
        "\n",
        "# import tensorflow as tf\n",
        "# from tensorflow import keras\n",
        "# from tensorflow.keras import layers\n",
        "\n",
        "from sklearn.model_selection import train_test_split\n",
        "\n",
        "import numpy as np\n",
        "import matplotlib.pyplot\n",
        "from IPython import display\n",
        "from jiwer import wer\n",
        "import params\n",
        "import time\n"
      ]
    },
    {
      "cell_type": "markdown",
      "source": [
        "#### read data\n",
        "define help function"
      ],
      "metadata": {
        "id": "2eh1FR-obeeY"
      }
    },
    {
      "cell_type": "code",
      "source": [
        "def read_TIMIT(path):\n",
        "  '''\n",
        "  args:\n",
        "    path: path of TIMIT data(mfcc features, phoneme labels)\n",
        "  return:\n",
        "    feats: list of list for each audio samples\n",
        "    labels: list of list for each audio samples\n",
        "  '''\n",
        "\n",
        "  feats, labels = [], []\n",
        "  length_feats, length_labels = [], []\n",
        "\n",
        "  # read processed TIMIT data\n",
        "  # list of dictionarys with keys being 'mfcc', 'phonemes', 'path'\n",
        "  samples = torch.load(path, weights_only = False)\n",
        "  for idx in range(len(samples)):\n",
        "    feats.append(samples[idx]['mfcc'])\n",
        "    labels.append(samples[idx]['phonemes'])\n",
        "  return feats, labels\n"
      ],
      "metadata": {
        "id": "5DBThAEHbhhf"
      },
      "execution_count": 101,
      "outputs": []
    },
    {
      "cell_type": "markdown",
      "source": [
        "execute and review"
      ],
      "metadata": {
        "id": "hgNIqdSed4aw"
      }
    },
    {
      "cell_type": "code",
      "source": [
        "os.listdir()[-2]"
      ],
      "metadata": {
        "colab": {
          "base_uri": "https://localhost:8080/",
          "height": 35
        },
        "id": "tO_ghkWBJ3mq",
        "outputId": "ec088513-ae8b-4b14-ad75-fc16dc4221b7"
      },
      "execution_count": 102,
      "outputs": [
        {
          "output_type": "execute_result",
          "data": {
            "text/plain": [
              "'timit_mfcc_data.pt'"
            ],
            "application/vnd.google.colaboratory.intrinsic+json": {
              "type": "string"
            }
          },
          "metadata": {},
          "execution_count": 102
        }
      ]
    },
    {
      "cell_type": "code",
      "source": [
        "# split train / dev data\n",
        "path = r'timit_mfcc_data.pt'\n",
        "feats, labels = read_TIMIT(path)\n",
        "\n",
        "train_feats, dev_feats, train_labels, dev_labels = train_test_split(feats, labels)"
      ],
      "metadata": {
        "id": "ESPf-sMUdkMc"
      },
      "execution_count": 103,
      "outputs": []
    },
    {
      "cell_type": "code",
      "source": [
        "# check mfcc feature matrix dimension\n",
        "print(f'MFCC feature matrix Shape(one audio sample):\\t{train_feats[-1].shape}')\n",
        "# check IPA repository\n",
        "print(f'phoneme labels(one audio sample):\\t{train_labels[-1]}')\n",
        "\n",
        "# seems like 'h#' marks sos and eos"
      ],
      "metadata": {
        "colab": {
          "base_uri": "https://localhost:8080/"
        },
        "id": "7l2g0WQoKorH",
        "outputId": "4cdfa798-f52b-4fda-a8e0-5e7096f8362f"
      },
      "execution_count": 104,
      "outputs": [
        {
          "output_type": "stream",
          "name": "stdout",
          "text": [
            "MFCC feature matrix Shape(one audio sample):\t(80, 39)\n",
            "phoneme labels(one audio sample):\t['h#', 'dh', 'ix', 's', 'ih', 's', 'tcl', 't', 'ax', 'm', 'w', 'er', 'kcl', 'k', 's', 'q', 'eh', 'z', 'ix', 'n', 'ix', 'm', 'pcl', 'p', 'er', 's', 'epi', 'en', 'el', 'm', 'eh', 'kcl', 'k', 'ix', 'n', 'ih', 'z', 'ax', 'm', 'h#']\n"
          ]
        }
      ]
    },
    {
      "cell_type": "code",
      "source": [
        "print('\\n'.join([f'num_frames:\\t{len(train_feats[0])}', f'num_labels:\\t{len(train_labels[0])}']))"
      ],
      "metadata": {
        "colab": {
          "base_uri": "https://localhost:8080/"
        },
        "id": "IXGaIdZoL6VY",
        "outputId": "98af1b6e-764d-4c5e-fbff-a612d6e1a732"
      },
      "execution_count": 105,
      "outputs": [
        {
          "output_type": "stream",
          "name": "stdout",
          "text": [
            "num_frames:\t154\n",
            "num_labels:\t60\n"
          ]
        }
      ]
    },
    {
      "cell_type": "code",
      "source": [
        "# mark max length for mfcc features and labels\n",
        "max_len_feats = max([len(feat) for feat in feats])\n",
        "max_len_labels = max([len(label) for label in labels])\n",
        "\n",
        "## max_len = 100"
      ],
      "metadata": {
        "id": "AthoPcjfR2Xk"
      },
      "execution_count": 106,
      "outputs": []
    },
    {
      "cell_type": "markdown",
      "source": [
        "#### create IPA dictionary"
      ],
      "metadata": {
        "id": "MYRPHzmYKjn-"
      }
    },
    {
      "cell_type": "markdown",
      "source": [
        "define help function"
      ],
      "metadata": {
        "id": "SqvguFlNKd8l"
      }
    },
    {
      "cell_type": "code",
      "source": [
        "def create_IPAdictionary(labels):\n",
        "  '''\n",
        "  args:\n",
        "    labels: list of list\n",
        "  return: ipa2idx\n",
        "        dictionary of IPA_label: index\n",
        "  '''\n",
        "  ipas = set()\n",
        "  for label in labels:\n",
        "    ipas = ipas.union(set(label))\n",
        "  ipas = sorted(ipas)\n",
        "  ipas.remove('pau') # blank symbol substitues 'pau'\n",
        "  ipas.remove('h#') # to assign index 1 to 'h#' (begin / end marker)\n",
        "  ipas.remove('epi') # to assign index 2 to 'epi' (epenthetic silence)\n",
        "\n",
        "  ipa2idx = {ipa:(idx+2) for idx, ipa in enumerate(ipas)}\n",
        "  ipa2idx['<blank>'] = 0\n",
        "  ipa2idx['h#'] = 1\n",
        "  ipa2idx['epi'] = 2\n",
        "\n",
        "  return ipa2idx"
      ],
      "metadata": {
        "id": "rSTzPtvEKdZe"
      },
      "execution_count": 107,
      "outputs": []
    },
    {
      "cell_type": "markdown",
      "source": [
        "execute and review"
      ],
      "metadata": {
        "id": "NR9kwdQSLldm"
      }
    },
    {
      "cell_type": "code",
      "source": [
        "ipa2idx = create_IPAdictionary(labels)\n",
        "print(*sorted(ipa2idx))"
      ],
      "metadata": {
        "colab": {
          "base_uri": "https://localhost:8080/"
        },
        "id": "ZzCExD7TOt5k",
        "outputId": "da1df398-0a61-4bcd-9d7f-e43e186e14de"
      },
      "execution_count": 108,
      "outputs": [
        {
          "output_type": "stream",
          "name": "stdout",
          "text": [
            "<blank> aa ae ah ao aw ax ax-h axr ay b bcl ch d dcl dh dx eh el em en eng epi er ey f g gcl h# hh hv ih ix iy jh k kcl l m n ng nx ow oy p pcl q r s sh t tcl th uh uw ux v w y z zh\n"
          ]
        }
      ]
    },
    {
      "cell_type": "code",
      "source": [
        "print(f'the number of IPA labels in TIMIT:\\t {len(ipa2idx)}')\n",
        "print(f'Index of blank symbol <blank>\":\\t {ipa2idx[\"<blank>\"]}')\n",
        "print(f'Index of sos/eos label \"h#\":\\t {ipa2idx[\"h#\"]}')"
      ],
      "metadata": {
        "colab": {
          "base_uri": "https://localhost:8080/"
        },
        "id": "7ValF7gQOpW5",
        "outputId": "9134d216-9d2d-493f-bcdf-a4756a68038b"
      },
      "execution_count": 109,
      "outputs": [
        {
          "output_type": "stream",
          "name": "stdout",
          "text": [
            "the number of IPA labels in TIMIT:\t 61\n",
            "Index of blank symbol <blank>\":\t 0\n",
            "Index of sos/eos label \"h#\":\t 1\n"
          ]
        }
      ]
    },
    {
      "cell_type": "code",
      "source": [
        "# compare phonemic / phonetic symbols between\n",
        "# provided TIMIT phonecode and transcription data\n",
        "# https://catalog.ldc.upenn.edu/docs/LDC96S32/PHONCODE.TXT\n",
        "\n",
        "existing = set(ipa2idx.keys())\n",
        "\n",
        "phonecode = set(['b', 'd', 'g', 'p', 't', 'k', 'dx', 'q', # stops\n",
        "             'jh', 'ch', # affricates\n",
        "             's', 'sh', 'z', 'zh', 'f', 'th', 'v', 'dh', # frcatives\n",
        "             'm', 'n', 'ng', 'em', 'en', 'eng', 'nx', # nasals\n",
        "             'l', 'r', 'w', 'y', 'hh', 'hv', 'el', # semivowels and glides\n",
        "             'iy', 'ih', 'eh', 'ey', 'ae', 'aa', 'aw', 'ay', 'ah', 'ao', 'oy', 'ow', 'uh', 'uw', 'ux', 'er', 'ax', 'ix', 'axr', 'ax-h', # vowels\n",
        "             'pau', 'epi', 'h#', '1', '2',# others # epi: epenthetic silence # h# : begin/ end marker # 1 : primary stress marker # 2 : secondary stress marker\n",
        "             ])"
      ],
      "metadata": {
        "id": "mX_mm_nWC0Rw"
      },
      "execution_count": 110,
      "outputs": []
    },
    {
      "cell_type": "code",
      "source": [
        "print(*sorted(existing.union(phonecode) - (existing & phonecode)))\n",
        "print(*sorted((existing - phonecode)))\n",
        "print(*sorted((phonecode - existing)))"
      ],
      "metadata": {
        "colab": {
          "base_uri": "https://localhost:8080/"
        },
        "id": "LDnTZeQJDNIG",
        "outputId": "4ae3d8c8-cc82-4dad-8748-c38f31d2277e"
      },
      "execution_count": 111,
      "outputs": [
        {
          "output_type": "stream",
          "name": "stdout",
          "text": [
            "1 2 <blank> bcl dcl gcl kcl pau pcl tcl\n",
            "<blank> bcl dcl gcl kcl pcl tcl\n",
            "1 2 pau\n"
          ]
        }
      ]
    },
    {
      "cell_type": "code",
      "source": [
        "# review\n",
        "# in data, there is no stress markers > not important to our model\n",
        "# in data, there is additional phone symbols, bcl, dcl, gcl, kcl, pcl, tcl"
      ],
      "metadata": {
        "id": "Ecb_pW9FDQ1S"
      },
      "execution_count": 94,
      "outputs": []
    },
    {
      "cell_type": "code",
      "source": [
        "# handling bcl, dcl, gcl, kcl, pcl, tcl\n",
        "# used as abbreviation for voiceless stop or plosive with closure\n",
        "# e.g. bcl : bilbial closure, tcl : alveolar closure"
      ],
      "metadata": {
        "id": "I94DWwPyDURo"
      },
      "execution_count": 95,
      "outputs": []
    },
    {
      "cell_type": "markdown",
      "source": [
        "handling diphthongs"
      ],
      "metadata": {
        "id": "m2F4Ce37M8CU"
      }
    },
    {
      "cell_type": "code",
      "source": [
        "# diphthongs\n",
        "# ey 'bait'\n",
        "# aw 'bout'\n",
        "# ay 'bite'\n",
        "# oy 'boy'\n",
        "# ow 'boat'\n",
        "\n",
        "diphthongs = ['ey', 'aw', 'ay', 'ow']\n",
        "# ey, aw, ay, ow : just split\n",
        "# oy : oh + y"
      ],
      "metadata": {
        "id": "wgcxU-NhFg9O"
      },
      "execution_count": 96,
      "outputs": []
    },
    {
      "cell_type": "code",
      "source": [
        "import re\n",
        "\n",
        "diphthong_regex = re.compile('|'.join(sorted(map(re.escape, diphthongs),\n",
        "                                              key = len, reverse = True)))\n",
        "\n",
        "def split_diphthongs(label):\n",
        "  label = ' '.join(label)\n",
        "  label_split = diphthong_regex.sub(lambda x: ' '.join(x.group()), label).split()\n",
        "  return label_split\n",
        "\n",
        "\n",
        "# additionaly handling 'oy'\n",
        "oy_regex = re.compile('oy')\n",
        "\n",
        "def split_oy(label):\n",
        "  label = ' '.join(label)\n",
        "  oy_split = oy_regex.sub('oh y', label).split()\n",
        "  return oy_split"
      ],
      "metadata": {
        "id": "s2ZVED3pKxPL"
      },
      "execution_count": 97,
      "outputs": []
    },
    {
      "cell_type": "markdown",
      "source": [
        "execute and review"
      ],
      "metadata": {
        "id": "mW0xzKRxM5kl"
      }
    },
    {
      "cell_type": "code",
      "source": [
        "labels_split = []\n",
        "for label in labels:\n",
        "  label_split = split_diphthongs(label)\n",
        "  label_split = split_oy(label_split)\n",
        "  labels_split.append(label_split)\n",
        ""
      ],
      "metadata": {
        "id": "xsV9eAfEMXMK"
      },
      "execution_count": 98,
      "outputs": []
    },
    {
      "cell_type": "code",
      "source": [
        "for i in range(len(labels)):\n",
        "  if 'oy' in labels[i]:\n",
        "    print(*labels[i])\n",
        "    print(*labels_split[i])"
      ],
      "metadata": {
        "colab": {
          "base_uri": "https://localhost:8080/"
        },
        "id": "QzuU8WDRMrOK",
        "outputId": "e4c81521-3135-47b7-f982-ace16a994471"
      },
      "execution_count": 82,
      "outputs": [
        {
          "output_type": "stream",
          "name": "stdout",
          "text": [
            "h# d ah nx ae s epi m ih kcl k eh r iy ix nx ix q oy l iy r ae gcl g l ay kcl dh ae tcl h#\n",
            "h# d ah nx ae s epi m ih kcl k eh r iy ix nx ix q oh y l iy r ae gcl g l a y kcl dh ae tcl h#\n",
            "h# d ow n tcl ae s kcl m iy tcl t ix kcl k eh r iy q ax n oy l iy r ae gcl g l ay kcl k dh ae tcl h#\n",
            "h# d o w n tcl ae s kcl m iy tcl t ix kcl k eh r iy q ax n oh y l iy r ae gcl g l a y kcl k dh ae tcl h#\n",
            "h# d ow nx ae s kcl m ix dx ix kcl k ae r iy ix n oy l iy r ae gcl l ay kcl dh ae tcl h#\n",
            "h# d o w nx ae s kcl m ix dx ix kcl k ae r iy ix n oh y l iy r ae gcl l a y kcl dh ae tcl h#\n",
            "h# hh aw oy l iy dcl d ix y ux l ay kcl k y axr s ae l ix dcl d r ah s eng h#\n",
            "h# hh a w oh y l iy dcl d ix y ux l a y kcl k y axr s ae l ix dcl d r ah s eng h#\n",
            "h# d ow nx aw s kcl k m ih dx ix kcl k ae r ih y ix n oy l ix r ae gcl g l ay kcl dh ah q h#\n",
            "h# d o w nx a w s kcl k m ih dx ix kcl k ae r ih y ix n oh y l ix r ae gcl g l a y kcl dh ah q h#\n",
            "h# q ax kcl k aa n ax s er w el ix n dcl jh oy dh ix s sh eh l f ax sh dcl d ax sh h#\n",
            "h# q ax kcl k aa n ax s er w el ix n dcl jh oh y dh ix s sh eh l f ax sh dcl d ax sh h#\n",
            "h# d ow nx ae s epi m iy tcl t ix kcl k eh r iy ix n oy l iy r ae gcl g l ay kcl dh ae tcl t h#\n",
            "h# d o w nx ae s epi m iy tcl t ix kcl k eh r iy ix n oh y l iy r ae gcl g l a y kcl dh ae tcl t h#\n",
            "h# d ow nx ae s kcl m ix dx ix kcl k ae r iy ih n oy l iy r ae gcl g l ay kcl dh ae tcl h#\n",
            "h# d o w nx ae s kcl m ix dx ix kcl k ae r iy ih n oh y l iy r ae gcl g l a y kcl dh ae tcl h#\n",
            "h# d ow nx ae s kcl k m iy dx ix kcl k eh r ix ix n q oy l ix r ae gcl l ay kcl th ae tcl h#\n",
            "h# d o w nx ae s kcl k m iy dx ix kcl k eh r ix ix n q oh y l ix r ae gcl l a y kcl th ae tcl h#\n",
            "h# y axr v oy s ix z dcl d ax l ay tcl f el hh iy ix pcl p r ux v dcl d w ix dh ax w ao r m s m ay l h#\n",
            "h# y axr v oh y s ix z dcl d ax l a y tcl f el hh iy ix pcl p r ux v dcl d w ix dh ax w ao r m s m a y l h#\n",
            "h# d ow q ae s kcl k m iy tcl t ix kcl k ih r iy ix nx oy l iy r ae gcl g l ay kcl dh ae tcl t h#\n",
            "h# d o w q ae s kcl k m iy tcl t ix kcl k ih r iy ix nx oh y l iy r ae gcl g l a y kcl dh ae tcl t h#\n",
            "h# s tcl t iy v kcl k ax l eh kcl k s epi r eh er q eh n aa v el kcl k oy n epi s h#\n",
            "h# s tcl t iy v kcl k ax l eh kcl k s epi r eh er q eh n aa v el kcl k oh y n epi s h#\n",
            "h# dh ix pcl p ey pcl p ax bcl b oy bcl b ao tcl t ux ae pcl p el z ix n dcl th r iy ay s ax-h s h#\n",
            "h# dh ix pcl p e y pcl p ax bcl b oh y bcl b ao tcl t ux ae pcl p el z ix n dcl th r iy a y s ax-h s h#\n",
            "h# d ow nx ae s kcl m iy tcl t ix kcl k ae r iy ix nx oy l iy r ae gcl g l ay kcl dh ae tcl h#\n",
            "h# d o w nx ae s kcl m iy tcl t ix kcl k ae r iy ix nx oh y l iy r ae gcl g l a y kcl dh ae tcl h#\n",
            "h# q ay gcl g ey v dh eh m s eh v r el tcl ch oy s eh z q ax n l eh tcl dh eh m epi s eh tcl dh ax pcl p r ay ao axr dx iy s h#\n",
            "h# q a y gcl g e y v dh eh m s eh v r el tcl ch oh y s eh z q ax n l eh tcl dh eh m epi s eh tcl dh ax pcl p r a y ao axr dx iy s h#\n",
            "h# t ow f ux ih z m ey dcl f r ax m pcl p r aa s eh s tcl s oy bcl b iy n s h#\n",
            "h# t o w f ux ih z m e y dcl f r ax m pcl p r aa s eh s tcl s oh y bcl b iy n s h#\n",
            "h# d ow nx ae s kcl m iy dx ih kcl k eh r iy ix n q oy l iy r ae gcl g l ay kcl k dh ae tcl t h#\n",
            "h# d o w nx ae s kcl m iy dx ih kcl k eh r iy ix n q oh y l iy r ae gcl g l a y kcl k dh ae tcl t h#\n",
            "h# dh ax m oy sh er q ih n m ay ay z q ix z f r ah m pau q ay dcl d r aa f s pau n aa tcl f r ax m tcl t iy ix z h#\n",
            "h# dh ax m oh y sh er q ih n m a y a y z q ix z f r ah m pau q a y dcl d r aa f s pau n aa tcl f r ax m tcl t iy ix z h#\n",
            "h# d ow nx ae s kcl m iy dx ix kcl k ae r ih eh n q oy l iy r ae gcl l ay kcl dh ae tcl h#\n",
            "h# d o w nx ae s kcl m iy dx ix kcl k ae r ih eh n q oh y l iy r ae gcl l a y kcl dh ae tcl h#\n",
            "h# d ow nx ae s kcl m ix dx ix kcl k eh r ih ix nx oy l ix r ae gcl l ay kcl k dh ae tcl h#\n",
            "h# d o w nx ae s kcl m ix dx ix kcl k eh r ih ix nx oh y l ix r ae gcl l a y kcl k dh ae tcl h#\n",
            "h# d ow n tcl ae s epi m iy dx ix kcl k eh r iy ax n q oy l iy r ae gcl g l ay kcl k dh ae tcl h#\n",
            "h# d o w n tcl ae s epi m iy dx ix kcl k eh r iy ax n q oh y l iy r ae gcl g l a y kcl k dh ae tcl h#\n",
            "h# d ow nx ae s epi m iy dx ix kcl k eh r iy ix n oy l iy r ae gcl g l ay kcl k dh ae tcl t h#\n",
            "h# d o w nx ae s epi m iy dx ix kcl k eh r iy ix n oh y l iy r ae gcl g l a y kcl k dh ae tcl t h#\n",
            "h# hh aw q oy l iy dcl d ux y uw l ay kcl k y axr s ae l ax dcl d r eh s ix ng h#\n",
            "h# hh a w q oh y l iy dcl d ux y uw l a y kcl k y axr s ae l ax dcl d r eh s ix ng h#\n",
            "h# d ow n tcl q ae s epi m iy tcl t ux kcl k eh r iy ix n oy l iy r ae gcl l ay kcl dh ae tcl h#\n",
            "h# d o w n tcl q ae s epi m iy tcl t ux kcl k eh r iy ix n oh y l iy r ae gcl l a y kcl dh ae tcl h#\n",
            "h# ix kcl k aa nx ah s uh er w uh l q ix n dcl jh oy dh ih s pau sh eh l f ih sh pau d ih sh h#\n",
            "h# ix kcl k aa nx ah s uh er w uh l q ix n dcl jh oh y dh ih s pau sh eh l f ih sh pau d ih sh h#\n",
            "h# dh iy q ow v ax w ey tcl ch aa r m ax kcl k ux dcl d s epi l ih pcl p oy z ih n q ih n tcl t uw q eh n iy w ah n z tcl t iy h#\n",
            "h# dh iy q o w v ax w e y tcl ch aa r m ax kcl k ux dcl d s epi l ih pcl p oh y z ih n q ih n tcl t uw q eh n iy w ah n z tcl t iy h#\n",
            "h# d ow n q ae s kcl m ix tcl t ax-h kcl k ae r iy ix n q oy l ix r ae gcl ix l ay kcl dh ae q h#\n",
            "h# d o w n q ae s kcl m ix tcl t ax-h kcl k ae r iy ix n q oh y l ix r ae gcl ix l a y kcl dh ae q h#\n",
            "h# d ow nx ae s kcl m ix dx ix kcl k eh r iy ix nx oy l iy r ae gcl g l ay kcl k dh ae tcl h#\n",
            "h# d o w nx ae s kcl m ix dx ix kcl k eh r iy ix nx oh y l iy r ae gcl g l a y kcl k dh ae tcl h#\n",
            "h# q ay q ey tcl q eh v r iy q oy s tcl t axr aa n ao axr z pcl p l ey q h#\n",
            "h# q a y q e y tcl q eh v r iy q oh y s tcl t axr aa n ao axr z pcl p l e y q h#\n",
            "h# d ow nx ae s kcl m iy dx ix kcl k eh r iy ix nx oy l iy r ae gcl g l ay kcl dh ae tcl h#\n",
            "h# d o w nx ae s kcl m iy dx ix kcl k eh r iy ix nx oh y l iy r ae gcl g l a y kcl dh ae tcl h#\n",
            "h# d ow nx ae s kcl m ih dx ix kcl k ae r iy ix n q oy l iy r ae gcl g l ay kcl dh ae tcl h#\n",
            "h# d o w nx ae s kcl m ih dx ix kcl k ae r iy ix n q oh y l iy r ae gcl g l a y kcl dh ae tcl h#\n",
            "h# d ow n ae s kcl k m iy dx ix kcl k ae r iy ix n q oy l iy epi r ae gcl g l ay kcl k dh ae tcl t h#\n",
            "h# d o w n ae s kcl k m iy dx ix kcl k ae r iy ix n q oh y l iy epi r ae gcl g l a y kcl k dh ae tcl t h#\n",
            "h# d ow n ae s kcl k m ix dx ix kcl k ae r iy ix n oy l iy r ae gcl g l ay kcl k dh ae tcl h#\n",
            "h# d o w n ae s kcl k m ix dx ix kcl k ae r iy ix n oh y l iy r ae gcl g l a y kcl k dh ae tcl h#\n",
            "h# d ow n ae s epi m ix dx ix kcl k ae r iy ix n oy l iy r ae gcl l ay kcl dh ae tcl h#\n",
            "h# d o w n ae s epi m ix dx ix kcl k ae r iy ix n oh y l iy r ae gcl l a y kcl dh ae tcl h#\n",
            "h# q ix m pcl p l oy iy l ey ao f s kcl k ow ix n s ay dx ix dcl w ix dh iy kcl k ah m pcl p ix n iy z r iy ao r gcl g ix nx ix z ey sh ix n h#\n",
            "h# q ix m pcl p l oh y iy l e y ao f s kcl k o w ix n s a y dx ix dcl w ix dh iy kcl k ah m pcl p ix n iy z r iy ao r gcl g ix nx ix z e y sh ix n h#\n",
            "h# d ow n tcl t ae s kcl m ih tcl t ix kcl k ae r ih ix n q oy l ix r ae gcl g l ay kcl dh ae q h#\n",
            "h# d o w n tcl t ae s kcl m ih tcl t ix kcl k ae r ih ix n q oh y l ix r ae gcl g l a y kcl dh ae q h#\n",
            "h# d ay ae n m ey s pcl p l er dcl jh ix n bcl b ay ax tcl t er kcl k oy s epi n eh kcl k l ax s h#\n",
            "h# d a y ae n m e y s pcl p l er dcl jh ix n bcl b a y ax tcl t er kcl k oh y s epi n eh kcl k l ax s h#\n",
            "h# d ow n ae s epi m iy tcl t ix kcl k eh r iy ih n oy l iy r ae gcl g l ay kcl dh ae tcl t h#\n",
            "h# d o w n ae s epi m iy tcl t ix kcl k eh r iy ih n oh y l iy r ae gcl g l a y kcl dh ae tcl t h#\n",
            "h# d ow n q ae s kcl m ix dx ix kcl k ae r iy ix n q oy l ix r ae gcl g l ay kcl dh ae q h#\n",
            "h# d o w n q ae s kcl m ix dx ix kcl k ae r iy ix n q oh y l ix r ae gcl g l a y kcl dh ae q h#\n",
            "h# d ow n ae s kcl m ix dx ix kcl k ae r ih ix nx oy l iy r ae gcl l ay kcl dh ae tcl h#\n",
            "h# d o w n ae s kcl m ix dx ix kcl k ae r ih ix nx oh y l iy r ae gcl l a y kcl dh ae tcl h#\n",
            "h# t uh r n ey dx ih z aa f ix n d ix sh tcl t r oy q ey kcl k er z ah f aa r m l ae n dcl d h#\n",
            "h# t uh r n e y dx ih z aa f ix n d ix sh tcl t r oh y q e y kcl k er z ah f aa r m l ae n dcl d h#\n",
            "h# d ah nx eh s kcl m ix dx ix kcl k ae r ih ix nx oy l iy r ae gcl g l ay kcl dh ae tcl h#\n",
            "h# d ah nx eh s kcl m ix dx ix kcl k ae r ih ix nx oh y l iy r ae gcl g l a y kcl dh ae tcl h#\n",
            "h# q ey l oy er w ax dh ah pcl p oy n tcl t ix dcl t ix q eh kcl k s ix kcl k y ux tcl hv er w ih l h#\n",
            "h# q e y l oh y er w ax dh ah pcl p oh y n tcl t ix dcl t ix q eh kcl k s ix kcl k y ux tcl hv er w ih l h#\n",
            "h# d ow nx ae s kcl m iy tcl t ux kcl k ae r iy q ix n q oy l iy r ae gcl g l ay kcl dh ae tcl h#\n",
            "h# d o w nx ae s kcl m iy tcl t ux kcl k ae r iy q ix n q oh y l iy r ae gcl g l a y kcl dh ae tcl h#\n",
            "h# d ow nx ae s kcl k m iy dx ix kcl k eh r iy ix n q oy l ih r ae gcl g l ay kcl dh ae tcl h#\n",
            "h# d o w nx ae s kcl k m iy dx ix kcl k eh r iy ix n q oh y l ih r ae gcl g l a y kcl dh ae tcl h#\n",
            "h# dh ix m oy sh er ix m ay ay z ix z f r ax m ay dcl d r aa pcl s pau n aa q f r em tcl t ih axr z h#\n",
            "h# dh ix m oh y sh er ix m a y a y z ix z f r ax m a y dcl d r aa pcl s pau n aa q f r em tcl t ih axr z h#\n",
            "h# d ow nx ae s kcl m iy dx ix kcl k ae r iy ix nx oy l ix r ae gcl l ay kcl dh ae tcl h#\n",
            "h# d o w nx ae s kcl m iy dx ix kcl k ae r iy ix nx oh y l ix r ae gcl l a y kcl dh ae tcl h#\n",
            "h# d ow nx ae s kcl m iy dx ix kcl k eh r iy ix n q oy l iy r ae gcl g l ay kcl k dh ae tcl t h#\n",
            "h# d o w nx ae s kcl m iy dx ix kcl k eh r iy ix n q oh y l iy r ae gcl g l a y kcl k dh ae tcl t h#\n",
            "h# d ow n ae s kcl m ix dx ix kcl k eh r ih n q oy l ih r ae gcl g l ay kcl dh ae tcl h#\n",
            "h# d o w n ae s kcl m ix dx ix kcl k eh r ih n q oh y l ih r ae gcl g l a y kcl dh ae tcl h#\n",
            "h# d ow nx ae s kcl m iy dx ih kcl k ae r iy ix nx oy l iy r ae gcl l ay kcl dh ae tcl h#\n",
            "h# d o w nx ae s kcl m iy dx ih kcl k ae r iy ix nx oh y l iy r ae gcl l a y kcl dh ae tcl h#\n",
            "h# m aa kcl k r ow q ao gcl ix n ih z em z pau q aa q ao f tcl t ih n axr s pcl p aa n s bcl b el f ao dh ax r ae pcl p ih dcl s pcl p oy l ih dcl jh pau q ax v f uw dcl s h#\n",
            "h# m aa kcl k r o w q ao gcl ix n ih z em z pau q aa q ao f tcl t ih n axr s pcl p aa n s bcl b el f ao dh ax r ae pcl p ih dcl s pcl p oh y l ih dcl jh pau q ax v f uw dcl s h#\n",
            "h# p l iy z sh ao r q en dh ix s kcl k er tcl t f axr dcl jh oy s h#\n",
            "h# p l iy z sh ao r q en dh ix s kcl k er tcl t f axr dcl jh oh y s h#\n",
            "h# d ow n tcl ae s kcl m iy dx ix kcl k eh r ix n q oy l iy r ae gcl g l ay kcl dh ae tcl h#\n",
            "h# d o w n tcl ae s kcl m iy dx ix kcl k eh r ix n q oh y l iy r ae gcl g l a y kcl dh ae tcl h#\n",
            "h# p l iy z sh ao r tcl en dh ih s kcl k er tcl t f axr dcl jh oy s h#\n",
            "h# p l iy z sh ao r tcl en dh ih s kcl k er tcl t f axr dcl jh oh y s h#\n",
            "h# d ow nx ae s kcl m iy tcl t ix kcl k eh r ih ix n oy l ix r ae gcl g l ay kcl k dh ae tcl h#\n",
            "h# d o w nx ae s kcl m iy tcl t ix kcl k eh r ih ix n oh y l ix r ae gcl g l a y kcl k dh ae tcl h#\n",
            "h# jh ao r dcl jh ix z pcl p er ix n oy dx ix bcl b aw dx ix f ux tcl ch axr gcl g ae sh ao r dx ix dcl jh h#\n",
            "h# jh ao r dcl jh ix z pcl p er ix n oh y dx ix bcl b a w dx ix f ux tcl ch axr gcl g ae sh ao r dx ix dcl jh h#\n",
            "h# d ow nx ae s kcl m iy dx ix kcl k eh r iy ix n oy l iy r ae gcl g l ay kcl dh ae tcl h#\n",
            "h# d o w nx ae s kcl m iy dx ix kcl k eh r iy ix n oh y l iy r ae gcl g l a y kcl dh ae tcl h#\n",
            "h# d ow nx ae s kcl m ih dx ix kcl k eh r ih ix nx oy l ix r ae gcl g l ay kcl k dh ae q h#\n",
            "h# d o w nx ae s kcl m ih dx ix kcl k eh r ih ix nx oh y l ix r ae gcl g l a y kcl k dh ae q h#\n",
            "h# d ow n q ae s kcl m iy dx ix kcl k eh r iy q ix n q oy l iy r ae gcl g l ay kcl dh ae tcl t h#\n",
            "h# d o w n q ae s kcl m iy dx ix kcl k eh r iy q ix n q oh y l iy r ae gcl g l a y kcl dh ae tcl t h#\n",
            "h# hh iy m oy s ax n d ix z l ih pcl p s ah n iy z ax l ix h#\n",
            "h# hh iy m oh y s ax n d ix z l ih pcl p s ah n iy z ax l ix h#\n",
            "h# d ow n ae s epi m ix dx ix kcl k eh r iy ix n oy l iy r ae gcl g l ay kcl dh ae tcl h#\n",
            "h# d o w n ae s epi m ix dx ix kcl k eh r iy ix n oh y l iy r ae gcl g l a y kcl dh ae tcl h#\n",
            "h# d ow n ae s kcl k m iy tcl t ux kcl k eh r iy eh n q oy l iy r ae gcl g pau l ay kcl dh ae q h#\n",
            "h# d o w n ae s kcl k m iy tcl t ux kcl k eh r iy eh n q oh y l iy r ae gcl g pau l a y kcl dh ae q h#\n",
            "h# d ow nx ae s kcl m iy dx ix kcl k eh r iy nx oy l iy r ae gcl g l ay kcl dh ae tcl h#\n",
            "h# d o w nx ae s kcl m iy dx ix kcl k eh r iy nx oh y l iy r ae gcl g l a y kcl dh ae tcl h#\n",
            "h# jh eh f s tcl t oy gcl g ow kcl k aa r tcl n eh v axr w er kcl t h#\n",
            "h# jh eh f s tcl t oh y gcl g o w kcl k aa r tcl n eh v axr w er kcl t h#\n",
            "h# d ow n ae s epi m iy dx ix kcl k eh r iy ix n q oy l iy r ae gcl g l ay kcl dh ae tcl t h#\n",
            "h# d o w n ae s epi m iy dx ix kcl k eh r iy ix n q oh y l iy r ae gcl g l a y kcl dh ae tcl t h#\n",
            "h# dh iy ow v axr w ey tcl ch aa r m axr kcl k ix dcl s l ix pcl p oy z en ih n dcl d ix q ih nx iy w ah n z tcl t iy h#\n",
            "h# dh iy o w v axr w e y tcl ch aa r m axr kcl k ix dcl s l ix pcl p oh y z en ih n dcl d ix q ih nx iy w ah n z tcl t iy h#\n",
            "h# d ow n ae s kcl k m iy tcl t ix kcl k eh r iy ix n q oy l iy r ae gcl g l ay kcl k dh ae tcl h#\n",
            "h# d o w n ae s kcl k m iy tcl t ix kcl k eh r iy ix n q oh y l iy r ae gcl g l a y kcl k dh ae tcl h#\n",
            "h# d ow n tcl t q ae s kcl k m iy dx ux kcl k eh r iy ix n oy l iy r ae gcl g l ay kcl k th ae tcl h#\n",
            "h# d o w n tcl t q ae s kcl k m iy dx ux kcl k eh r iy ix n oh y l iy r ae gcl g l a y kcl k th ae tcl h#\n",
            "h# d ow n tcl q ae s kcl m iy dx ix kcl k eh r ix q eh n oy l iy r ae gcl g l ay kcl k dh ae q h#\n",
            "h# d o w n tcl q ae s kcl m iy dx ix kcl k eh r ix q eh n oh y l iy r ae gcl g l a y kcl k dh ae q h#\n",
            "h# dh ax pcl p ey pcl p axr bcl b oy bcl b ao tcl t ux ae pcl p el z en epi th r iy ay s ix z h#\n",
            "h# dh ax pcl p e y pcl p axr bcl b oh y bcl b ao tcl t ux ae pcl p el z en epi th r iy a y s ix z h#\n",
            "h# d ow nx ae s kcl m iy dx ix kcl k eh r ih n q oy l iy r ae gcl g l ay kcl dh ae tcl h#\n",
            "h# d o w nx ae s kcl m iy dx ix kcl k eh r ih n q oh y l iy r ae gcl g l a y kcl dh ae tcl h#\n",
            "h# d ow n q ae s kcl k m iy tcl t ux kcl k eh r iy ix nx oy l iy r ae gcl g l ay kcl dh ae q h#\n",
            "h# d o w n q ae s kcl k m iy tcl t ux kcl k eh r iy ix nx oh y l iy r ae gcl g l a y kcl dh ae q h#\n",
            "h# dh ix bcl b eh r ih kcl k ux dx ah r iy kcl k oy l dcl d pau f r ax m dh ax s er pcl p ix n tcl s pcl p oy z en ih s f ae ng z h#\n",
            "h# dh ix bcl b eh r ih kcl k ux dx ah r iy kcl k oh y l dcl d pau f r ax m dh ax s er pcl p ix n tcl s pcl p oh y z en ih s f ae ng z h#\n",
            "h# q ay q ey tcl q eh v r iy q oy s tcl t axr q ao n ao r ax z pcl p l ey tcl h#\n",
            "h# q a y q e y tcl q eh v r iy q oh y s tcl t axr q ao n ao r ax z pcl p l e y tcl h#\n",
            "h# d ow n q ae s kcl k m ix dx ix kcl k eh r iy eh n q oy l iy r ae gcl g l ay kcl dh ae tcl h#\n",
            "h# d o w n q ae s kcl k m ix dx ix kcl k eh r iy eh n q oh y l iy r ae gcl g l a y kcl dh ae tcl h#\n",
            "h# d ow nx ae s kcl m iy dx ix kcl k eh r iy ix n q oy l iy r ae gcl g l ay kcl k dh ae tcl h#\n",
            "h# d o w nx ae s kcl m iy dx ix kcl k eh r iy ix n q oh y l iy r ae gcl g l a y kcl k dh ae tcl h#\n",
            "h# dh iy ih n oy ix ng r ae kcl k ux n s epi l ih pcl t ih n dcl d ax f ih l z gcl g aa r dcl en q eh v r ix n ay tcl h#\n",
            "h# dh iy ih n oh y ix ng r ae kcl k ux n s epi l ih pcl t ih n dcl d ax f ih l z gcl g aa r dcl en q eh v r ix n a y tcl h#\n",
            "h# d ow nx ae s kcl m iy dx ix kcl k er iy ih nx oy l iy r ae gcl g l ay kcl dh ae tcl t h#\n",
            "h# d o w nx ae s kcl m iy dx ix kcl k er iy ih nx oh y l iy r ae gcl g l a y kcl dh ae tcl t h#\n",
            "h# d ow nx ae s kcl k m iy tcl t ax kcl k eh r iy ix n q oy l iy r ae gcl g l ay kcl k dh ae tcl t h#\n",
            "h# d o w nx ae s kcl k m iy tcl t ax kcl k eh r iy ix n q oh y l iy r ae gcl g l a y kcl k dh ae tcl t h#\n",
            "h# hh iy m ey hv ae v ax pcl p oy n q ix n q er dcl jh iy ng dh ae tcl d eh kcl k en q pau th iy m z bcl b iy gcl g ih v ix n f y ux axr pcl p r ay z ix z h#\n",
            "h# hh iy m e y hv ae v ax pcl p oh y n q ix n q er dcl jh iy ng dh ae tcl d eh kcl k en q pau th iy m z bcl b iy gcl g ih v ix n f y ux axr pcl p r a y z ix z h#\n",
            "h# ey l oy er w ax z ax pcl p oy nx ix dcl t ix q eh kcl k s ax-h kcl k y ux dcl hv axr w ih l h#\n",
            "h# e y l oh y er w ax z ax pcl p oh y nx ix dcl t ix q eh kcl k s ax-h kcl k y ux dcl hv axr w ih l h#\n",
            "h# d ow n ae s kcl m iy tcl t ix kcl k eh r ih n q oy l ix r ae gcl l ay kcl k dh ae tcl h#\n",
            "h# d o w n ae s kcl m iy tcl t ix kcl k eh r ih n q oh y l ix r ae gcl l a y kcl k dh ae tcl h#\n",
            "h# d ow nx ae s kcl m iy dx ix kcl k eh r ix nx oy l ix r ae gcl g l ay kcl dh ae tcl h#\n",
            "h# d o w nx ae s kcl m iy dx ix kcl k eh r ix nx oh y l ix r ae gcl g l a y kcl dh ae tcl h#\n",
            "h# d ow n ae s kcl m iy dx ix kcl k eh r iy ix n q oy l iy r ae gcl l ay kcl dh ae tcl t h#\n",
            "h# d o w n ae s kcl m iy dx ix kcl k eh r iy ix n q oh y l iy r ae gcl l a y kcl dh ae tcl t h#\n",
            "h# d ow nx ae s epi m iy dx ix kcl k eh r ih ix n oy l ih r ae gcl l ay kcl dh ae tcl h#\n",
            "h# d o w nx ae s epi m iy dx ix kcl k eh r ih ix n oh y l ih r ae gcl l a y kcl dh ae tcl h#\n",
            "h# m aa l ah s kcl s aa r ax kcl k ey s en pcl p oy n tcl h#\n",
            "h# m aa l ah s kcl s aa r ax kcl k e y s en pcl p oh y n tcl h#\n",
            "h# d ow nx ae s kcl k m iy tcl t ix kcl k eh r ih ix n oy l ih r ae gcl g l ay kcl k dh ae tcl t h#\n",
            "h# d o w nx ae s kcl k m iy tcl t ix kcl k eh r ih ix n oh y l ih r ae gcl g l a y kcl k dh ae tcl t h#\n",
            "h# d ow n q ae s kcl m iy tcl t ix kcl k ih r iy ix n q oy l ih r ae gcl g l ay kcl dh ae q h#\n",
            "h# d o w n q ae s kcl m iy tcl t ix kcl k ih r iy ix n q oh y l ih r ae gcl g l a y kcl dh ae q h#\n",
            "h# d ah nx eh s epi m iy dcl d ix kcl k eh r iy ix nx oy l ix r ae gcl g l ay kcl dh ae tcl h#\n",
            "h# d ah nx eh s epi m iy dcl d ix kcl k eh r iy ix nx oh y l ix r ae gcl g l a y kcl dh ae tcl h#\n",
            "h# q ao l dh eh tcl t ay m r ay f el v eh r ax l z axr pcl p oy nx ih n ah n w ey v axr ix ng l ih eh dx ih z hh eh dx ix n bcl b aa dx ix h#\n",
            "h# q ao l dh eh tcl t a y m r a y f el v eh r ax l z axr pcl p oh y nx ih n ah n w e y v axr ix ng l ih eh dx ih z hh eh dx ix n bcl b aa dx ix h#\n",
            "h# hh aa dx uw oy s tcl t axr z epi m ey kcl p er l epi s h#\n",
            "h# hh aa dx uw oh y s tcl t axr z epi m e y kcl p er l epi s h#\n",
            "h# d ow nx ae s kcl k m ih dx ih kcl k ih r ih ae nx ax q oy l ix r ae gcl l ay kcl dh ae h#\n",
            "h# d o w nx ae s kcl k m ih dx ih kcl k ih r ih ae nx ax q oh y l ix r ae gcl l a y kcl dh ae h#\n",
            "h# d ow nx ae s kcl m iy dx ih kcl k ih r iy ix nx ax q oy l iy r ae gcl g l ay kcl k dh ae tcl h#\n",
            "h# d o w nx ae s kcl m iy dx ih kcl k ih r iy ix nx ax q oh y l iy r ae gcl g l a y kcl k dh ae tcl h#\n",
            "h# d ow n q ae s epi m iy dx ix kcl k eh r iy ix n oy l iy r ae gcl g l ay kcl dh ae tcl h#\n",
            "h# d o w n q ae s epi m iy dx ix kcl k eh r iy ix n oh y l iy r ae gcl g l a y kcl dh ae tcl h#\n",
            "h# d ow n q ae s kcl m ix dx ix kcl k ih r iy eh nx oy l ix r ae gcl g l ay kcl dh ae tcl h#\n",
            "h# d o w n q ae s kcl m ix dx ix kcl k ih r iy eh nx oh y l ix r ae gcl g l a y kcl dh ae tcl h#\n",
            "h# ow n l iy dh ix bcl b eh s pcl p l ey er z ix n jh oy pcl p aa pcl p y ax l eh axr dx iy h#\n",
            "h# o w n l iy dh ix bcl b eh s pcl p l e y er z ix n jh oh y pcl p aa pcl p y ax l eh axr dx iy h#\n",
            "h# d ow nx ae s kcl m iy tcl t ax-h kcl k eh r iy q ix n q oy l iy r ae gcl l ay kcl dh ae tcl h#\n",
            "h# d o w nx ae s kcl m iy tcl t ax-h kcl k eh r iy q ix n q oh y l iy r ae gcl l a y kcl dh ae tcl h#\n",
            "h# d ow nx ae s epi m iy dx ix kcl k er iy ix n oy l iy r ae gcl l ay kcl dh ae tcl h#\n",
            "h# d o w nx ae s epi m iy dx ix kcl k er iy ix n oh y l iy r ae gcl l a y kcl dh ae tcl h#\n",
            "h# d ow n ae s kcl m iy dx ix kcl k eh r ih ix n q oy l ih r ae gcl g l ay kcl k dh ae tcl h#\n",
            "h# d o w n ae s kcl m iy dx ix kcl k eh r ih ix n q oh y l ih r ae gcl g l a y kcl k dh ae tcl h#\n",
            "h# d ow n ae s kcl m ix dx ix kcl k eh r iy ix n oy l ix r ae gcl g l ay kcl k dh ae tcl h#\n",
            "h# d o w n ae s kcl m ix dx ix kcl k eh r iy ix n oh y l ix r ae gcl g l a y kcl k dh ae tcl h#\n",
            "h# d ow n ae s kcl m iy tcl t ax-h kcl k ae r iy ix q n oy l iy r ae gcl g l ay kcl dh ae tcl h#\n",
            "h# d o w n ae s kcl m iy tcl t ax-h kcl k ae r iy ix q n oh y l iy r ae gcl g l a y kcl dh ae tcl h#\n",
            "h# d ow n tcl t q ae s kcl m iy tcl t ax-h kcl k eh r iy ix n q oy l iy r ae gcl g l ay kcl dh ae tcl t h#\n",
            "h# d o w n tcl t q ae s kcl m iy tcl t ax-h kcl k eh r iy ix n q oh y l iy r ae gcl g l a y kcl dh ae tcl t h#\n",
            "h# dh ax m oy s sh er ix n m ay ay z ix z f axr m ay dcl d r aa pcl s n aa tcl f axr m tcl t ih er z h#\n",
            "h# dh ax m oh y s sh er ix n m a y a y z ix z f axr m a y dcl d r aa pcl s n aa tcl f axr m tcl t ih er z h#\n",
            "h# d ow n t ae s kcl k m iy dx ix kcl k eh r iy ix n q oy l ih r ae gcl l ay kcl dh ae tcl h#\n",
            "h# d o w n t ae s kcl k m iy dx ix kcl k eh r iy ix n q oh y l ih r ae gcl l a y kcl dh ae tcl h#\n",
            "h# d ow n ae s epi m iy tcl t ix kcl k eh r iy ax n oy l iy r ae gcl g l ay kcl dh ae tcl h#\n",
            "h# d o w n ae s epi m iy tcl t ix kcl k eh r iy ax n oh y l iy r ae gcl g l a y kcl dh ae tcl h#\n",
            "h# dh ax w iy l ah v s ow sh el l ay f s pcl p ah nx axr r aw n dh ax r oy el q ao axr r ix s tcl t ax-h kcl k r ae dx ix kcl k s eh nx axr h#\n",
            "h# dh ax w iy l ah v s o w sh el l a y f s pcl p ah nx axr r a w n dh ax r oh y el q ao axr r ix s tcl t ax-h kcl k r ae dx ix kcl k s eh nx axr h#\n",
            "h# d ow nx ae s kcl m iy dx ix kcl k eh r iy ix n oy l iy r ae gcl l ay kcl dh ae tcl h#\n",
            "h# d o w nx ae s kcl m iy dx ix kcl k eh r iy ix n oh y l iy r ae gcl l a y kcl dh ae tcl h#\n",
            "h# s tcl t iy v kcl k ax l eh kcl k s epi r eh er q eh n aa v el kcl k oy n z h#\n",
            "h# s tcl t iy v kcl k ax l eh kcl k s epi r eh er q eh n aa v el kcl k oh y n z h#\n",
            "h# d ow n q ae s kcl m iy tcl t ux kcl k eh r iy ix nx ax q oy l iy r ae gcl g l ay kcl dh ae tcl t h#\n",
            "h# d o w n q ae s kcl m iy tcl t ux kcl k eh r iy ix nx ax q oh y l iy r ae gcl g l a y kcl dh ae tcl t h#\n",
            "h# jh ao r dcl jh ix z pcl p eh r ih n oy dx ix bcl b aa dx ix f y ux tcl ch axr gcl g ae sh ao r dx ih dcl jh h#\n",
            "h# jh ao r dcl jh ix z pcl p eh r ih n oh y dx ix bcl b aa dx ix f y ux tcl ch axr gcl g ae sh ao r dx ih dcl jh h#\n",
            "h# d ow n ae s kcl m iy tcl t ix kcl k eh r iy eh nx oy l iy r ae gcl g l ay kcl dh ae tcl t h#\n",
            "h# d o w n ae s kcl m iy tcl t ix kcl k eh r iy eh nx oh y l iy r ae gcl g l a y kcl dh ae tcl t h#\n",
            "h# d ow nx ae s kcl m ih kcl k eh r ix n oy l ix r ae gcl l ay kcl k dh ae tcl h#\n",
            "h# d o w nx ae s kcl m ih kcl k eh r ix n oh y l ix r ae gcl l a y kcl k dh ae tcl h#\n",
            "h# q ay ix s ux m oy sh tcl ch er w el dcl d ae m ix dcl jh dh ih sh ih pcl p s hh ah l h#\n",
            "h# q a y ix s ux m oh y sh tcl ch er w el dcl d ae m ix dcl jh dh ih sh ih pcl p s hh ah l h#\n",
            "h# d ah n ae s kcl m iy dx ix kcl k eh r iy ix n oy l iy r ae gcl g l ay kcl k dh ae tcl h#\n",
            "h# d ah n ae s kcl m iy dx ix kcl k eh r iy ix n oh y l iy r ae gcl g l a y kcl k dh ae tcl h#\n",
            "h# r oy ih gcl g n ao r dcl dh ax s pcl p er iy ix s dcl d ey dx ax pcl p oy n tcl t s ix n dcl d r ao ix ng dh ax gcl g r ae f h#\n",
            "h# r oh y ih gcl g n ao r dcl dh ax s pcl p er iy ix s dcl d e y dx ax pcl p oh y n tcl t s ix n dcl d r ao ix ng dh ax gcl g r ae f h#\n",
            "h# ow n l ix dh ix bcl b eh s tcl p l ey er z ix n dcl jh oy pcl p aa pcl p y ix l eh er tcl t iy h#\n",
            "h# o w n l ix dh ix bcl b eh s tcl p l e y er z ix n dcl jh oh y pcl p aa pcl p y ix l eh er tcl t iy h#\n",
            "h# d uh n ae s kcl m iy dx ix kcl k eh r iy ix n q oy l iy r ae gcl l ay kcl k dh ae tcl h#\n",
            "h# d uh n ae s kcl m iy dx ix kcl k eh r iy ix n q oh y l iy r ae gcl l a y kcl k dh ae tcl h#\n",
            "h# d ow nx ae s epi m iy dx ix kcl k eh r iy ix n oy l iy r ae gcl g l ay kcl dh ae tcl h#\n",
            "h# d o w nx ae s epi m iy dx ix kcl k eh r iy ix n oh y l iy r ae gcl g l a y kcl dh ae tcl h#\n",
            "h# d ow nx ae s epi m iy dx ix kcl k eh r iy ix nx oy l ix r ae gcl g l ay kcl dh ae tcl t h#\n",
            "h# d o w nx ae s epi m iy dx ix kcl k eh r iy ix nx oh y l ix r ae gcl g l a y kcl dh ae tcl t h#\n",
            "h# d ow nx ae s epi m iy dx iy kcl k ih r ih n oy l iy r ae gcl l ay kcl dh ae tcl h#\n",
            "h# d o w nx ae s epi m iy dx iy kcl k ih r ih n oh y l iy r ae gcl l a y kcl dh ae tcl h#\n",
            "h# dh iy ih n oy ix n r ae kcl k ux n s epi l ih pcl t ix n tcl t ux f ih l z gcl g aa r dx en eh v r ix n ay q h#\n",
            "h# dh iy ih n oh y ix n r ae kcl k ux n s epi l ih pcl t ix n tcl t ux f ih l z gcl g aa r dx en eh v r ix n a y q h#\n",
            "h# d ow nx ae s epi m iy dx iy kcl k er iy ix n oy l iy r ae gcl ix l ay kcl dh ae tcl h#\n",
            "h# d o w nx ae s epi m iy dx iy kcl k er iy ix n oh y l iy r ae gcl ix l a y kcl dh ae tcl h#\n",
            "h# q aw w iy s iy v dcl d ix dcl jh oy n q ax pcl p oy n q m ix n ix n iy bcl b ay aa l ax dcl jh iy q eh n dh iy eh n dcl jh ix n er ix ng dcl d ix pcl p aa r q m ix n tcl s h#\n",
            "h# q a w w iy s iy v dcl d ix dcl jh oh y n q ax pcl p oh y n q m ix n ix n iy bcl b a y aa l ax dcl jh iy q eh n dh iy eh n dcl jh ix n er ix ng dcl d ix pcl p aa r q m ix n tcl s h#\n",
            "h# d ow n ae s kcl m ix dx ix kcl k eh r ih n oy l ih r ae gcl l ay kcl k ae tcl h#\n",
            "h# d o w n ae s kcl m ix dx ix kcl k eh r ih n oh y l ih r ae gcl l a y kcl k ae tcl h#\n",
            "h# w ax l w er kcl f ao r aw r kcl k iy pcl dh ax bcl b oy s eh dx iy gcl axr l iy h#\n",
            "h# w ax l w er kcl f ao r a w r kcl k iy pcl dh ax bcl b oh y s eh dx iy gcl axr l iy h#\n",
            "h# d ow n ae s kcl m iy tcl t ux kcl k eh r iy eh n oy l iy r ae gcl l ay kcl dh ae tcl t h#\n",
            "h# d o w n ae s kcl m iy tcl t ux kcl k eh r iy eh n oh y l iy r ae gcl l a y kcl dh ae tcl t h#\n",
            "h# d ow n q ae s kcl m ix dx ix kcl k eh r iy ix n q oy l iy r ae gcl g l ay kcl k dh ae tcl h#\n",
            "h# d o w n q ae s kcl m ix dx ix kcl k eh r iy ix n q oh y l iy r ae gcl g l a y kcl k dh ae tcl h#\n",
            "h# dh ix bcl b eh r ix kcl k ux dx axr r iy kcl k oy l dcl f r ax n dh ax s er pcl p ix n tcl s pcl p oy z en ix s f ae ng s h#\n",
            "h# dh ix bcl b eh r ix kcl k ux dx axr r iy kcl k oh y l dcl f r ax n dh ax s er pcl p ix n tcl s pcl p oh y z en ix s f ae ng s h#\n",
            "h# d ow n ae s kcl m iy dx ix kcl k eh r iy ix n q oy l iy r ae gcl g l ay kcl dh ae tcl t h#\n",
            "h# d o w n ae s kcl m iy dx ix kcl k eh r iy ix n q oh y l iy r ae gcl g l a y kcl dh ae tcl t h#\n",
            "h# n aw ah dcl d ix s tcl t ih ng w ix sh tcl t ow l dcl m ae n kcl k ao l dx aa n ay n dcl d ix v ih nx ih tcl t iy z tcl t ax-h kcl k ah m ix n dcl jh oy n ix epi s h#\n",
            "h# n a w ah dcl d ix s tcl t ih ng w ix sh tcl t o w l dcl m ae n kcl k ao l dx aa n a y n dcl d ix v ih nx ih tcl t iy z tcl t ax-h kcl k ah m ix n dcl jh oh y n ix epi s h#\n",
            "h# w aa tcl ch ix tcl b ih gcl g sh aa tcl q ey hh ao r s epi v oy s y eh l dcl b ae kcl k h#\n",
            "h# w aa tcl ch ix tcl b ih gcl g sh aa tcl q e y hh ao r s epi v oh y s y eh l dcl b ae kcl k h#\n",
            "h# dh iy ow v axr w ey tcl ch aa r m axr kcl k ix dcl s l ih pcl p oy z en ih n tcl t ux eh nx iy w ah n z tcl t iy h#\n",
            "h# dh iy o w v axr w e y tcl ch aa r m axr kcl k ix dcl s l ih pcl p oh y z en ih n tcl t ux eh nx iy w ah n z tcl t iy h#\n",
            "h# d ow nx ae s kcl m iy dx ix kcl k eh r iy ix n q oy l iy r ae gcl g l ay kcl dh ae tcl h#\n",
            "h# d o w nx ae s kcl m iy dx ix kcl k eh r iy ix n q oh y l iy r ae gcl g l a y kcl dh ae tcl h#\n",
            "h# ay ey tcl t q eh v r iy q oy s tcl t er q ao n ao r ih z pcl p l ey tcl h#\n",
            "h# a y e y tcl t q eh v r iy q oh y s tcl t er q ao n ao r ih z pcl p l e y tcl h#\n",
            "h# d ow nx ae s epi m ix dx ix kcl k eh r iy eh nx ax q oy l iy r ae gcl g l ay kcl k dh ae tcl h#\n",
            "h# d o w nx ae s epi m ix dx ix kcl k eh r iy eh nx ax q oh y l iy r ae gcl g l a y kcl k dh ae tcl h#\n",
            "h# d ow n tcl q ae s kcl k m ix dx ix kcl k ih r iy q ix n oy l iy r ae gcl g l ay kcl k dh ae tcl h#\n",
            "h# d o w n tcl q ae s kcl k m ix dx ix kcl k ih r iy q ix n oh y l iy r ae gcl g l a y kcl k dh ae tcl h#\n",
            "h# g ah s ao pcl p ay n tcl t r iy z ih n r eh dcl w uh dcl d z pau q ao nx ix z epi w ao kcl k th ux s ix kcl k w oy ih n ae sh epi n el f ao r ix s tcl t h#\n",
            "h# g ah s ao pcl p a y n tcl t r iy z ih n r eh dcl w uh dcl d z pau q ao nx ix z epi w ao kcl k th ux s ix kcl k w oh y ih n ae sh epi n el f ao r ix s tcl t h#\n",
            "h# d ow n ae s kcl m iy dx ix kcl k eh r iy ih n q oy l iy r ae gcl g l ay kcl k dh ae tcl h#\n",
            "h# d o w n ae s kcl m iy dx ix kcl k eh r iy ih n q oh y l iy r ae gcl g l a y kcl k dh ae tcl h#\n",
            "h# dh iy uh v axr w ey q ch aa r m axr kcl k ix dcl d s l ih pcl p oy z en ih n tcl t ux q eh n iy w ax n z tcl t iy h#\n",
            "h# dh iy uh v axr w e y q ch aa r m axr kcl k ix dcl d s l ih pcl p oh y z en ih n tcl t ux q eh n iy w ax n z tcl t iy h#\n",
            "h# d ow nx ae s kcl k m iy dx ih kcl k ih r iy nx oy l ih r ae gcl l ay kcl dh ae tcl h#\n",
            "h# d o w nx ae s kcl k m iy dx ih kcl k ih r iy nx oh y l ih r ae gcl l a y kcl dh ae tcl h#\n",
            "h# ay gcl g ey v dh eh m s eh v r ah tcl ch oy s ih z ax n l eh tcl dh eh m s eh tcl dh ax pcl p r ay ao axr dx iy z h#\n",
            "h# a y gcl g e y v dh eh m s eh v r ah tcl ch oh y s ih z ax n l eh tcl dh eh m s eh tcl dh ax pcl p r a y ao axr dx iy z h#\n",
            "h# t ow f uw ix z m ey dcl f r ax m pcl p r aa s eh s oy bcl b iy n z h#\n",
            "h# t o w f uw ix z m e y dcl f r ax m pcl p r aa s eh s oh y bcl b iy n z h#\n",
            "h# d ow n q ae s kcl m iy tcl t ux kcl k eh r iy eh n q oy l iy r ae gcl g l ay kcl k dh ae tcl h#\n",
            "h# d o w n q ae s kcl m iy tcl t ux kcl k eh r iy eh n q oh y l iy r ae gcl g l a y kcl k dh ae tcl h#\n",
            "h# d ux y ux hv ae v dh iy y eh l ow q oy n q m ix n q r eh dx iy h#\n",
            "h# d ux y ux hv ae v dh iy y eh l o w q oh y n q m ix n q r eh dx iy h#\n",
            "h# d ow nx ae s kcl m ix dx ix kcl k eh r ih ix nx oy l ix r ae gcl g l ay kcl k dh ae tcl t h#\n",
            "h# d o w nx ae s kcl m ix dx ix kcl k eh r ih ix nx oh y l ix r ae gcl g l a y kcl k dh ae tcl t h#\n",
            "h# d ow n ae s kcl m ix dx ix kcl k eh r iy ix n oy l ix r ae gcl g l ay kcl dh ae tcl h#\n",
            "h# d o w n ae s kcl m ix dx ix kcl k eh r iy ix n oh y l ix r ae gcl g l a y kcl dh ae tcl h#\n",
            "h# d ay ae n m ey s pcl p l er dcl jh ix n bcl b ay ix tcl t er kcl k oy z n eh kcl k l ix s h#\n",
            "h# d a y ae n m e y s pcl p l er dcl jh ix n bcl b a y ix tcl t er kcl k oh y z n eh kcl k l ix s h#\n",
            "h# dh ix bcl b eh axr kcl k ux dx ix r ix kcl k oy l dcl d f axr m dh ax s er pcl p ih n tcl t s pcl p oy z n ix s f ae ng z h#\n",
            "h# dh ix bcl b eh axr kcl k ux dx ix r ix kcl k oh y l dcl d f axr m dh ax s er pcl p ih n tcl t s pcl p oh y z n ix s f ae ng z h#\n",
            "h# d ow n tcl q ae s kcl k m iy tcl t kcl k ih r iy ix n oy l iy r ae gcl g l ay kcl k dh ae tcl h#\n",
            "h# d o w n tcl q ae s kcl k m iy tcl t kcl k ih r iy ix n oh y l iy r ae gcl g l a y kcl k dh ae tcl h#\n",
            "h# d ow nx ae s kcl m iy dx ix kcl k eh r iy ix n oy l iy r ae gcl g l ay kcl dh ae q h#\n",
            "h# d o w nx ae s kcl m iy dx ix kcl k eh r iy ix n oh y l iy r ae gcl g l a y kcl dh ae q h#\n",
            "h# aw r axr s iy v dcl d ix dcl jh oy nx ax pcl p oy m ix n tcl ix n ax bcl b ay aa l ax dcl jh iy ih n iy eh n dcl jh ix n ih axr ng dcl d ax-h pcl p aa r q m en tcl t s h#\n",
            "h# a w r axr s iy v dcl d ix dcl jh oh y nx ax pcl p oh y m ix n tcl ix n ax bcl b a y aa l ax dcl jh iy ih n iy eh n dcl jh ix n ih axr ng dcl d ax-h pcl p aa r q m en tcl t s h#\n",
            "h# dh iy ey ng gcl g r iy bcl b oy q ae n tcl s axr dcl b ix tcl d ix dx en q l uh kcl k ah pcl h#\n",
            "h# dh iy e y ng gcl g r iy bcl b oh y q ae n tcl s axr dcl b ix tcl d ix dx en q l uh kcl k ah pcl h#\n",
            "h# d ow n ae s epi m iy dx iy kcl k eh r eh n q oy l iy r ae gcl l ay kcl dh ae tcl h#\n",
            "h# d o w n ae s epi m iy dx iy kcl k eh r eh n q oh y l iy r ae gcl l a y kcl dh ae tcl h#\n",
            "h# d ow n ae s kcl m iy tcl t ix kcl k eh r iy ix n q oy l iy r ae gcl g l ay kcl k dh ae q h#\n",
            "h# d o w n ae s kcl m iy tcl t ix kcl k eh r iy ix n q oh y l iy r ae gcl g l a y kcl k dh ae q h#\n",
            "h# d ow n ae s epi m iy dx ix kcl k ih r iy ix n q oy l iy r ae gcl g l ay kcl dh ae tcl t h#\n",
            "h# d o w n ae s epi m iy dx ix kcl k ih r iy ix n q oh y l iy r ae gcl g l a y kcl dh ae tcl t h#\n",
            "h# d ow n q ae s kcl m iy tcl t ix kcl k eh r iy ix n q oy l iy r ae gcl g l ay kcl dh ae tcl t h#\n",
            "h# d o w n q ae s kcl m iy tcl t ix kcl k eh r iy ix n q oh y l iy r ae gcl g l a y kcl dh ae tcl t h#\n",
            "h# w uh dcl d ih tcl t aa m bcl b oy q ao f tcl t ix n pcl p l ey aw tcl d ao er z h#\n",
            "h# w uh dcl d ih tcl t aa m bcl b oh y q ao f tcl t ix n pcl p l e y a w tcl d ao er z h#\n",
            "h# d ow n q ae s epi m iy dx ix kcl k eh r iy ix n q oy l ix r ae gcl g l ay kcl k dh ae tcl h#\n",
            "h# d o w n q ae s epi m iy dx ix kcl k eh r iy ix n q oh y l ix r ae gcl g l a y kcl k dh ae tcl h#\n",
            "h# d ow n ae s kcl m ix dx ih kcl k ih r iy ix n q oy l iy r ae gcl g l ay kcl dh ae tcl t h#\n",
            "h# d o w n ae s kcl m ix dx ih kcl k ih r iy ix n q oh y l iy r ae gcl g l a y kcl dh ae tcl t h#\n",
            "h# d ow nx ae s epi m iy dx iy kcl k eh r ih ix n ax oy l iy r ae gcl g l ay kcl dh ae tcl h#\n",
            "h# d o w nx ae s epi m iy dx iy kcl k eh r ih ix n ax oh y l iy r ae gcl g l a y kcl dh ae tcl h#\n",
            "h# dh iy ow v axr w ey tcl ch aa r m axr kcl k ux dcl s l ih pcl p oy z ix n ix n tcl t ix q eh nx iy w ah n z tcl t iy h#\n",
            "h# dh iy o w v axr w e y tcl ch aa r m axr kcl k ux dcl s l ih pcl p oh y z ix n ix n tcl t ix q eh nx iy w ah n z tcl t iy h#\n",
            "h# d ow nx ae s epi m ix tcl t ix kcl k eh r ih ix n oy l ix r ae gcl l ay kcl dh ae tcl h#\n",
            "h# d o w nx ae s epi m ix tcl t ix kcl k eh r ih ix n oh y l ix r ae gcl l a y kcl dh ae tcl h#\n",
            "h# jh eh f s tcl t oy gcl g ow kcl k aa r tcl n eh v er w er kcl t h#\n",
            "h# jh eh f s tcl t oh y gcl g o w kcl k aa r tcl n eh v er w er kcl t h#\n",
            "h# dh ax kcl k aw bcl b oy kcl k ao l dcl dh ih s bcl b r iy dx ix v kcl k ae dx el m ae gcl p ay epi s h#\n",
            "h# dh ax kcl k a w bcl b oh y kcl k ao l dcl dh ih s bcl b r iy dx ix v kcl k ae dx el m ae gcl p a y epi s h#\n",
            "h# d ow n tcl q ae s kcl m iy dcl d ix kcl k ih r iy ix n q oy l iy r ae gcl g l ay kcl k dh ae tcl t h#\n",
            "h# d o w n tcl q ae s kcl m iy dcl d ix kcl k ih r iy ix n q oh y l iy r ae gcl g l a y kcl k dh ae tcl t h#\n",
            "h# d ow nx ae s kcl m iy tcl t ax kcl k eh r iy ax n oy l iy r ae gcl g l ay kcl k dh ae tcl h#\n",
            "h# d o w nx ae s kcl m iy tcl t ax kcl k eh r iy ax n oh y l iy r ae gcl g l a y kcl k dh ae tcl h#\n",
            "h# d ow nx ae s kcl m iy dx ix kcl k eh r iy q ix n oy l ih r ae gcl l ay kcl k dh ae tcl h#\n",
            "h# d o w nx ae s kcl m iy dx ix kcl k eh r iy q ix n oh y l ih r ae gcl l a y kcl k dh ae tcl h#\n",
            "h# d ow n ae s kcl m iy tcl t ix kcl k eh r iy ix n q oy l ih r ae gcl g l ay kcl dh ae tcl h#\n",
            "h# d o w n ae s kcl m iy tcl t ix kcl k eh r iy ix n q oh y l ih r ae gcl g l a y kcl dh ae tcl h#\n",
            "h# ix f y ux dcl d ih s sh r oy kcl k aa f ax nx ix s ix n bcl b ae ng kcl k s pau y ix dcl d ux s ah m th ix ng tcl t ux dh iy kcl k aa n ix m iy hv iy s eh dcl h#\n",
            "h# ix f y ux dcl d ih s sh r oh y kcl k aa f ax nx ix s ix n bcl b ae ng kcl k s pau y ix dcl d ux s ah m th ix ng tcl t ux dh iy kcl k aa n ix m iy hv iy s eh dcl h#\n",
            "h# d ow n ae s kcl m ix dx ix kcl k ih r ih ix n oy l ih r ae gcl g l ay kcl k dh ae tcl h#\n",
            "h# d o w n ae s kcl m ix dx ix kcl k ih r ih ix n oh y l ih r ae gcl g l a y kcl k dh ae tcl h#\n",
            "h# d ow nx ae s kcl m ix dx ih kcl k eh r ih ix n q oy l iy r ae gcl g l ay kcl dh ae tcl t h#\n",
            "h# d o w nx ae s kcl m ix dx ih kcl k eh r ih ix n q oh y l iy r ae gcl g l a y kcl dh ae tcl t h#\n",
            "h# q aa m gcl g oy ng tcl t ih s er tcl ch epi dh ih s hh aw epi s h#\n",
            "h# q aa m gcl g oh y ng tcl t ih s er tcl ch epi dh ih s hh a w epi s h#\n",
            "h# d ow nx ae s epi m ix dx ix kcl k er ih ix n oy l iy r ae gcl g l ay kcl k dh ae tcl h#\n",
            "h# d o w nx ae s epi m ix dx ix kcl k er ih ix n oh y l iy r ae gcl g l a y kcl k dh ae tcl h#\n",
            "h# s tcl t iy v kcl k el eh kcl k s r eh axr eh n aa v el kcl k oy n z h#\n",
            "h# s tcl t iy v kcl k el eh kcl k s r eh axr eh n aa v el kcl k oh y n z h#\n",
            "h# w ah n w ay tcl t hh ae n dcl p oy z dcl d ix s tcl t ih kcl k ax bcl b ah v hh ih z dcl d eh s kcl k h#\n",
            "h# w ah n w a y tcl t hh ae n dcl p oh y z dcl d ix s tcl t ih kcl k ax bcl b ah v hh ih z dcl d eh s kcl k h#\n",
            "h# d ow n ae s kcl m iy tcl t ix kcl k eh r iy ix n q oy l iy r ae gcl g l ay kcl dh ae tcl h#\n",
            "h# d o w n ae s kcl m iy tcl t ix kcl k eh r iy ix n q oh y l iy r ae gcl g l a y kcl dh ae tcl h#\n",
            "h# q ow n l iy dh ax bcl b eh s tcl p l ey axr z ix n dcl jh oy pcl p aa pcl p y ix l eh axr dx iy h#\n",
            "h# q o w n l iy dh ax bcl b eh s tcl p l e y axr z ix n dcl jh oh y pcl p aa pcl p y ix l eh axr dx iy h#\n",
            "h# d ow n q ae s kcl k m iy tcl t ix kcl k eh r iy ix n q oy l iy r ae gcl g l ay kcl k dh ae tcl h#\n",
            "h# d o w n q ae s kcl k m iy tcl t ix kcl k eh r iy ix n q oh y l iy r ae gcl g l a y kcl k dh ae tcl h#\n",
            "h# d ow n ae s epi m iy tcl t ux kcl k eh r iy q ae n oy l iy r ae gcl g l ay kcl dh ae tcl h#\n",
            "h# d o w n ae s epi m iy tcl t ux kcl k eh r iy q ae n oh y l iy r ae gcl g l a y kcl dh ae tcl h#\n",
            "h# d ow n ae s kcl m iy tcl t ux kcl k eh r iy q eh n oy ax l iy r ae gcl g l ay kcl k dh ae q h#\n",
            "h# d o w n ae s kcl m iy tcl t ux kcl k eh r iy q eh n oh y ax l iy r ae gcl g l a y kcl k dh ae q h#\n",
            "h# q ay gcl g ey v dh ih m s eh v el tcl ch oy s ix z en l ah tcl dh ax m epi s eh tcl dh ax pcl p r ay ao r ix dx iy z h#\n",
            "h# q a y gcl g e y v dh ih m s eh v el tcl ch oh y s ix z en l ah tcl dh ax m epi s eh tcl dh ax pcl p r a y ao r ix dx iy z h#\n",
            "h# t ow f uw ih z epi m ey dcl f ax m pcl p r aa s eh s tcl s oy bcl b iy n z h#\n",
            "h# t o w f uw ih z epi m e y dcl f ax m pcl p r aa s eh s tcl s oh y bcl b iy n z h#\n",
            "h# d ow n tcl t aa s kcl k m iy dx ih kcl k ae r iy ix n ix q oy l iy r ae gcl g l ay kcl dh ae tcl h#\n",
            "h# d o w n tcl t aa s kcl k m iy dx ih kcl k ae r iy ix n ix q oh y l iy r ae gcl g l a y kcl dh ae tcl h#\n",
            "h# d ow nx ae s kcl m ix dcl d ix kcl k eh r iy ix n oy l ix r ae gcl g l ay kcl k dh ae tcl h#\n",
            "h# d o w nx ae s kcl m ix dcl d ix kcl k eh r iy ix n oh y l ix r ae gcl g l a y kcl k dh ae tcl h#\n",
            "h# d ow nx ae s kcl m iy dx ix kcl k eh r iy ix n q oy l iy r ae gcl g l ay kcl dh ae tcl t h#\n",
            "h# d o w nx ae s kcl m iy dx ix kcl k eh r iy ix n q oh y l iy r ae gcl g l a y kcl dh ae tcl t h#\n",
            "h# dh ax bcl b eh r ix kcl k ux dx ah r iy kcl k oy l dcl d f r ah m dh ax s er pcl p ax n tcl s pcl p oy z ix n ix s f ae ng epi z h#\n",
            "h# dh ax bcl b eh r ix kcl k ux dx ah r iy kcl k oh y l dcl d f r ah m dh ax s er pcl p ax n tcl s pcl p oh y z ix n ix s f ae ng epi z h#\n",
            "h# d ow n dcl d ae s kcl m iy dcl d ix kcl k eh r iy ix n oy l ix r ae gcl g l ay kcl dh ae tcl t h#\n",
            "h# d o w n dcl d ae s kcl m iy dcl d ix kcl k eh r iy ix n oh y l ix r ae gcl g l a y kcl dh ae tcl t h#\n",
            "h# d ow nx ae s kcl m ix dx ix kcl k eh r iy ix nx oy l iy r ae gcl g l ay kcl dh ae tcl h#\n",
            "h# d o w nx ae s kcl m ix dx ix kcl k eh r iy ix nx oh y l iy r ae gcl g l a y kcl dh ae tcl h#\n",
            "h# d ow n q ae s epi m iy tcl t ix kcl k eh r iy ix n q oy l iy r ae gcl g l ay kcl dh ae tcl h#\n",
            "h# d o w n q ae s epi m iy tcl t ix kcl k eh r iy ix n q oh y l iy r ae gcl g l a y kcl dh ae tcl h#\n",
            "h# ix f dcl d ih s ax bcl b ey dcl pau dh axr r ix z ah l q ix z tcl t er m oy l q ix n dcl d kcl k ey aa epi s h#\n",
            "h# ix f dcl d ih s ax bcl b e y dcl pau dh axr r ix z ah l q ix z tcl t er m oh y l q ix n dcl d kcl k e y aa epi s h#\n",
            "h# d ow n ae s kcl m ix dx ix kcl k eh r ih ix n oy l iy r eh gcl g l ay kcl dh eh tcl h#\n",
            "h# d o w n ae s kcl m ix dx ix kcl k eh r ih ix n oh y l iy r eh gcl g l a y kcl dh eh tcl h#\n",
            "h# d ow n tcl t ae s kcl m iy dx ix kcl k eh r iy ix n oy l iy r ae gcl g l ay kcl k dh ae tcl h#\n",
            "h# d o w n tcl t ae s kcl m iy dx ix kcl k eh r iy ix n oh y l iy r ae gcl g l a y kcl k dh ae tcl h#\n",
            "h# d ow n ae s kcl m iy tcl t ix kcl k eh r iy eh n oy l ix r ae gcl g l ay kcl dh ae tcl h#\n",
            "h# d o w n ae s kcl m iy tcl t ix kcl k eh r iy eh n oh y l ix r ae gcl g l a y kcl dh ae tcl h#\n",
            "h# q ao hv eh v ey s kcl k ux pcl p ih v dh ae eh gcl g z aa dx ih kcl p er pcl p el ix n tcl t er kcl k oy sh er bcl b axr tcl h#\n",
            "h# q ao hv eh v e y s kcl k ux pcl p ih v dh ae eh gcl g z aa dx ih kcl p er pcl p el ix n tcl t er kcl k oh y sh er bcl b axr tcl h#\n",
            "h# dh ih q iy z iy gcl g ow eh ng z uw aa l ix dcl jh ix s tcl t r ix l ae kcl k s th r ux aw tcl dh ax v oy ix dcl jh h#\n",
            "h# dh ih q iy z iy gcl g o w eh ng z uw aa l ix dcl jh ix s tcl t r ix l ae kcl k s th r ux a w tcl dh ax v oh y ix dcl jh h#\n",
            "h# d ow nx ae s kcl m ix dcl d ix kcl k eh r ih ah n q oy l ix r ae gcl g l ah kcl dh ae tcl h#\n",
            "h# d o w nx ae s kcl m ix dcl d ix kcl k eh r ih ah n q oh y l ix r ae gcl g l ah kcl dh ae tcl h#\n",
            "h# d ow nx ae s epi m iy dx ix kcl k eh r iy ix n q oy l iy r ae gcl g l ay kcl dh ae tcl hh h#\n",
            "h# d o w nx ae s epi m iy dx ix kcl k eh r iy ix n q oh y l iy r ae gcl g l a y kcl dh ae tcl hh h#\n",
            "h# d ow nx ae s tcl t m iy dx ix kcl k ih r ih ix n oy l iy r ae gcl l ay kcl dh ae tcl t h#\n",
            "h# d o w nx ae s tcl t m iy dx ix kcl k ih r ih ix n oh y l iy r ae gcl l a y kcl dh ae tcl t h#\n",
            "h# t ao r n ey dcl d ow z ao f tcl t ix n dcl d ih s tcl t r oy q ey kcl k axr z q ax v f aa r m l ae n dcl t h#\n",
            "h# t ao r n e y dcl d o w z ao f tcl t ix n dcl d ih s tcl t r oh y q e y kcl k axr z q ax v f aa r m l ae n dcl t h#\n",
            "h# dh ae tcl s tcl t ih ng iy n v ey pcl p axr w ax z kcl k ao z dcl b ay kcl k l ao r oy dcl d v ey pcl p axr ix z ey sh ax n h#\n",
            "h# dh ae tcl s tcl t ih ng iy n v e y pcl p axr w ax z kcl k ao z dcl b a y kcl k l ao r oh y dcl d v e y pcl p axr ix z e y sh ax n h#\n",
            "h# q ih tcl m ey dcl n ow dcl d ih f r ih n s dh ix tcl m ow s tcl t q eh v ax dcl d ih n s epi p oy n tcl t s tcl t uw ax n aa pcl p ix s ih tcl k ix n kcl k l uw zh ix n h#\n",
            "h# q ih tcl m e y dcl n o w dcl d ih f r ih n s dh ix tcl m o w s tcl t q eh v ax dcl d ih n s epi p oh y n tcl t s tcl t uw ax n aa pcl p ix s ih tcl k ix n kcl k l uw zh ix n h#\n",
            "h# d ow n ae s epi m iy dx ix kcl k eh r iy q ix n q oy l iy r ae gcl g l ay kcl dh ae tcl h#\n",
            "h# d o w n ae s epi m iy dx ix kcl k eh r iy q ix n q oh y l iy r ae gcl g l a y kcl dh ae tcl h#\n",
            "h# d uh nx ae s epi m iy dx ix kcl k eh r iy ix nx oy l iy r ae gcl g l ay kcl k dh ae q h#\n",
            "h# d uh nx ae s epi m iy dx ix kcl k eh r iy ix nx oh y l iy r ae gcl g l a y kcl k dh ae q h#\n",
            "h# d ow n ae s epi m ix dx ix kcl k er iy ix n oy l ix r ae gcl g l ay kcl k dh ae tcl h#\n",
            "h# d o w n ae s epi m ix dx ix kcl k er iy ix n oh y l ix r ae gcl g l a y kcl k dh ae tcl h#\n",
            "h# d ow n tcl t q ae s kcl k epi m iy tcl t ux kcl k eh r iy eh n q oy l iy r ae gcl g pau l ay kcl k dh ae tcl h#\n",
            "h# d o w n tcl t q ae s kcl k epi m iy tcl t ux kcl k eh r iy eh n q oh y l iy r ae gcl g pau l a y kcl k dh ae tcl h#\n",
            "h# q ae l r ix s iy v dcl d q ix dcl jh oy n tcl t ix pcl p oy n tcl m ih n tcl q ix n dh ah bcl b ay ae l ah dcl jh iy q ae n dh ix q ix n dcl jh ix n ih r ih ng dcl d ix pcl p aa r tcl m ix n tcl s h#\n",
            "h# q ae l r ix s iy v dcl d q ix dcl jh oh y n tcl t ix pcl p oh y n tcl m ih n tcl q ix n dh ah bcl b a y ae l ah dcl jh iy q ae n dh ix q ix n dcl jh ix n ih r ih ng dcl d ix pcl p aa r tcl m ix n tcl s h#\n",
            "h# hh ay gcl g ey dh ax m s eh v r el tcl ch oy s ih z q ax n l eh tcl dh ix m s eh tcl dh ax pcl p r ay er r axr dx iy s h#\n",
            "h# hh a y gcl g e y dh ax m s eh v r el tcl ch oh y s ih z q ax n l eh tcl dh ix m s eh tcl dh ax pcl p r a y er r axr dx iy s h#\n",
            "h# t ow f uw q ih z m ey dcl d f r em pcl p r aa s eh s oy bcl b iy n tcl t s h#\n",
            "h# t o w f uw q ih z m e y dcl d f r em pcl p r aa s eh s oh y bcl b iy n tcl t s h#\n",
            "h# d ow nx ae s epi m ih dx ih kcl k eh r iy ix nx oy l iy r ae gcl g l ay kcl dh ae tcl t h#\n",
            "h# d o w nx ae s epi m ih dx ih kcl k eh r iy ix nx oh y l iy r ae gcl g l a y kcl dh ae tcl t h#\n",
            "h# dh iy ow v axr w ey tcl ch aa r m axr kcl k ix dcl d s l ih pcl p oy z en ih n tcl t ix q ih n iy w ah n z tcl t iy h#\n",
            "h# dh iy o w v axr w e y tcl ch aa r m axr kcl k ix dcl d s l ih pcl p oh y z en ih n tcl t ix q ih n iy w ah n z tcl t iy h#\n",
            "h# d ow n tcl t ae s kcl m iy tcl t ux kcl k eh r ih n oy l ih r ae gcl g l ay kcl k dh ae tcl t h#\n",
            "h# d o w n tcl t ae s kcl m iy tcl t ux kcl k eh r ih n oh y l ih r ae gcl g l a y kcl k dh ae tcl t h#\n",
            "h# d ow nx ae s kcl k m ih dx ih kcl k eh r iy ix n oy l iy r ae gcl g l ay kcl k dh ae tcl t h#\n",
            "h# d o w nx ae s kcl k m ih dx ih kcl k eh r iy ix n oh y l iy r ae gcl g l a y kcl k dh ae tcl t h#\n",
            "h# hh aw q eh v er q ah bcl b oy z l ay v l iy q ay z m ay q r ow v h#\n",
            "h# hh a w q eh v er q ah bcl b oh y z l a y v l iy q a y z m a y q r o w v h#\n",
            "h# q ay ey tcl t epi q eh v r iy q oy s tcl t axr q ao n ao r ah s pcl p l ey h#\n",
            "h# q a y e y tcl t epi q eh v r iy q oh y s tcl t axr q ao n ao r ah s pcl p l e y h#\n",
            "h# d ow n tcl t epi q ae s kcl m iy tcl t ix kcl k eh r iy ix n q oy l iy r ae gcl g l ay kcl k dh ae tcl t h#\n",
            "h# d o w n tcl t epi q ae s kcl m iy tcl t ix kcl k eh r iy ix n q oh y l iy r ae gcl g l a y kcl k dh ae tcl t h#\n",
            "h# w ix th ih s pau n ow l oy ih l s ih dx ix s ax n kcl k en kcl k w ao r el h#\n",
            "h# w ix th ih s pau n o w l oh y ih l s ih dx ix s ax n kcl k en kcl k w ao r el h#\n",
            "h# b oy y uw ey n tcl f uw l ax n ow bcl b ah dx iy bcl b ah tcl jh axr s eh l f h#\n",
            "h# b oh y y uw e y n tcl f uw l ax n o w bcl b ah dx iy bcl b ah tcl jh axr s eh l f h#\n",
            "h# d ow n ae s epi m iy dx ix kcl k eh r iy ix n oy l iy r ae gcl g l ay kcl dh ae tcl h#\n",
            "h# d o w n ae s epi m iy dx ix kcl k eh r iy ix n oh y l iy r ae gcl g l a y kcl dh ae tcl h#\n",
            "h# d ow n ae s kcl m iy tcl t ix kcl k eh r ih ix nx oy l iy r ae gcl g l ay kcl k dh ae tcl t h#\n",
            "h# d o w n ae s kcl m iy tcl t ix kcl k eh r ih ix nx oh y l iy r ae gcl g l a y kcl k dh ae tcl t h#\n",
            "h# d ow n ae s tcl t m iy dx ix kcl k eh r ih ix n q oy l ih r ey gcl g l ay kcl dh ae tcl t h#\n",
            "h# d o w n ae s tcl t m iy dx ix kcl k eh r ih ix n q oh y l ih r e y gcl g l a y kcl dh ae tcl t h#\n",
            "h# dh ix iy z iy gcl g ow ix ng z uw ao l ax dcl jh ih s tcl t r iy l ae kcl s th r ax aw tcl dh ax v oy dcl jh h#\n",
            "h# dh ix iy z iy gcl g o w ix ng z uw ao l ax dcl jh ih s tcl t r iy l ae kcl s th r ax a w tcl dh ax v oh y dcl jh h#\n",
            "h# d ow n q ae s kcl m iy tcl t ix kcl k ih r iy ix n oy l iy r ae gcl g l ay kcl k dh ae tcl t h#\n",
            "h# d o w n q ae s kcl m iy tcl t ix kcl k ih r iy ix n oh y l iy r ae gcl g l a y kcl k dh ae tcl t h#\n",
            "h# q oy l f iy l dcl d w er kcl k axr z w axr ix r ah f tcl t ah f l aa tcl h#\n",
            "h# q oh y l f iy l dcl d w er kcl k axr z w axr ix r ah f tcl t ah f l aa tcl h#\n",
            "h# hh iy r ih pcl d aw n ax s eh l ax f ey n kcl k eh r f el iy pau eh n l ey dcl th r iy dcl d ao gcl g z ah n ax tcl t ix n f oy l h#\n",
            "h# hh iy r ih pcl d a w n ax s eh l ax f e y n kcl k eh r f el iy pau eh n l e y dcl th r iy dcl d ao gcl g z ah n ax tcl t ix n f oh y l h#\n",
            "h# dh ix ae ng gcl g r ix bcl b oy ae n s axr dcl b ix tcl d ix q en l uh kcl k ah pcl p h#\n",
            "h# dh ix ae ng gcl g r ix bcl b oh y ae n s axr dcl b ix tcl d ix q en l uh kcl k ah pcl p h#\n",
            "h# k eh s tcl t axr oy l m ey dcl f r em kcl k ae s tcl t axr bcl b iy n z hh eh z gcl g ao nx aw dx ix v s tcl t ay l eh z ix m eh dx ix s epi en h#\n",
            "h# k eh s tcl t axr oh y l m e y dcl f r em kcl k ae s tcl t axr bcl b iy n z hh eh z gcl g ao nx a w dx ix v s tcl t a y l eh z ix m eh dx ix s epi en h#\n",
            "h# d ow dx ae s kcl m iy dx ih kcl k eh r iy ix n oy l iy r ae gcl g l ay kcl k dh ae tcl h#\n",
            "h# d o w dx ae s kcl m iy dx ih kcl k eh r iy ix n oh y l iy r ae gcl g l a y kcl k dh ae tcl h#\n",
            "h# d ow nx ae s kcl m iy tcl t ux kcl k eh r iy q ih n oy l iy r ae gcl g l ay kcl dh ae tcl h#\n",
            "h# d o w nx ae s kcl m iy tcl t ux kcl k eh r iy q ih n oh y l iy r ae gcl g l a y kcl dh ae tcl h#\n",
            "h# ix m pcl p l oy iy l ey ao s kcl k ow ix n s ay dx ix dcl w ix th ix kcl k ah m pcl p ix nx iy z r iy ao r gcl ix n ix z ey sh en h#\n",
            "h# ix m pcl p l oh y iy l e y ao s kcl k o w ix n s a y dx ix dcl w ix th ix kcl k ah m pcl p ix nx iy z r iy ao r gcl ix n ix z e y sh en h#\n",
            "h# q ow l iy dh ix bcl b eh s tcl p l ey axr z ix n dcl jh oy pcl p aa pcl p ix l eh axr dx iy h#\n",
            "h# q o w l iy dh ix bcl b eh s tcl p l e y axr z ix n dcl jh oh y pcl p aa pcl p ix l eh axr dx iy h#\n",
            "h# dh ax-h kcl k ae bcl b oy z hh y ux m er s epi n ey m epi f r ax kcl k aw gcl g ix v ix ng m ih l kcl k w ah z ix m ih l kcl p ix tcl ch axr h#\n",
            "h# dh ax-h kcl k ae bcl b oh y z hh y ux m er s epi n e y m epi f r ax kcl k a w gcl g ix v ix ng m ih l kcl k w ah z ix m ih l kcl p ix tcl ch axr h#\n",
            "h# d ow n ae s kcl m ih tcl t ih kcl k eh r iy eh n oy l iy r ae gcl g l ay kcl k dh ae q h#\n",
            "h# d o w n ae s kcl m ih tcl t ih kcl k eh r iy eh n oh y l iy r ae gcl g l a y kcl k dh ae q h#\n",
            "h# q aa m ax n dcl d z ix m pcl p ix s tcl t ae sh ow n ah tcl t s epi aa r n aa tcl t s ow hv ay ix n q oy l bcl b uh dx aa r ix tcl ch en pcl p r ow tcl t iy n h#\n",
            "h# q aa m ax n dcl d z ix m pcl p ix s tcl t ae sh o w n ah tcl t s epi aa r n aa tcl t s o w hv a y ix n q oh y l bcl b uh dx aa r ix tcl ch en pcl p r o w tcl t iy n h#\n",
            "h# d ow n ae s kcl m iy tcl t ux kcl k eh r iy ix n q oy l ix r ae gcl g l ay kcl dh ae tcl h#\n",
            "h# d o w n ae s kcl m iy tcl t ux kcl k eh r iy ix n q oh y l ix r ae gcl g l a y kcl dh ae tcl h#\n",
            "h# d ow nx ae s kcl m iy dx ix kcl k eh r iy ix n q oy l iy r ae gcl g l ay kcl dh ae tcl t h#\n",
            "h# d o w nx ae s kcl m iy dx ix kcl k eh r iy ix n q oh y l iy r ae gcl g l a y kcl dh ae tcl t h#\n",
            "h# dcl d ow n tcl t q ae s kcl k m ix dcl d ix kcl k eh r ih ix nx oy l ix r ae gcl l ay kcl k dh ae tcl h#\n",
            "h# dcl d o w n tcl t q ae s kcl k m ix dcl d ix kcl k eh r ih ix nx oh y l ix r ae gcl l a y kcl k dh ae tcl h#\n",
            "h# d ix y ux hv ae v dh ix y eh l ow q oy q m ix n tcl r eh dx iy h#\n",
            "h# d ix y ux hv ae v dh ix y eh l o w q oh y q m ix n tcl r eh dx iy h#\n",
            "h# d ow nx ae s kcl m ih dx ix kcl k eh r ih nx oy l ix r ae gcl g l ay kcl k dh ae tcl h#\n",
            "h# d o w nx ae s kcl m ih dx ix kcl k eh r ih nx oh y l ix r ae gcl g l a y kcl k dh ae tcl h#\n",
            "h# d ow nx ae s epi m ix dx iy kcl k ih r iy ix n oy l iy r ae gcl g l ay kcl dh ae tcl h#\n",
            "h# d o w nx ae s epi m ix dx iy kcl k ih r iy ix n oh y l iy r ae gcl g l a y kcl dh ae tcl h#\n",
            "h# q ay ix s ux m oy s tcl ch er w el dcl d ae m ix dcl jh dh ih sh ih pcl p s hh ah l h#\n",
            "h# q a y ix s ux m oh y s tcl ch er w el dcl d ae m ix dcl jh dh ih sh ih pcl p s hh ah l h#\n",
            "h# d ow n q ae s kcl m iy dx ix kcl k eh r iy ix nx ax q oy l ih r ae gcl g l ay kcl dh ae tcl h#\n",
            "h# d o w n q ae s kcl m iy dx ix kcl k eh r iy ix nx ax q oh y l ih r ae gcl g l a y kcl dh ae tcl h#\n",
            "h# r oy ih gcl n ao r dcl dh s pcl p er iy ix s dcl d ey dx ax pcl p oy n tcl s pau ih n dcl d r ao ih ng dh ix gcl g r ae f h#\n",
            "h# r oh y ih gcl n ao r dcl dh s pcl p er iy ix s dcl d e y dx ax pcl p oh y n tcl s pau ih n dcl d r ao ih ng dh ix gcl g r ae f h#\n",
            "h# d ow n ae s kcl m iy dx ix kcl k eh r iy ix n q oy l iy r ae gcl g l ay kcl k th ae tcl t h#\n",
            "h# d o w n ae s kcl m iy dx ix kcl k eh r iy ix n q oh y l iy r ae gcl g l a y kcl k th ae tcl t h#\n",
            "h# k iy pcl p y axr s iy tcl s bcl b oy z pau ay dcl jh ih s epi w ah n tcl t ax pcl p uh tcl s em f ix n ih sh eng tcl t ah tcl ch ix z ao n dh ax s th ix ng h#\n",
            "h# k iy pcl p y axr s iy tcl s bcl b oh y z pau a y dcl jh ih s epi w ah n tcl t ax pcl p uh tcl s em f ix n ih sh eng tcl t ah tcl ch ix z ao n dh ax s th ix ng h#\n",
            "h# d ow n ae s kcl m ix dx ix kcl k eh r ih ix nx oy l ix r ae gcl l ay kcl dh ae tcl h#\n",
            "h# d o w n ae s kcl m ix dx ix kcl k eh r ih ix nx oh y l ix r ae gcl l a y kcl dh ae tcl h#\n",
            "h# d ow nx ae s kcl k m iy tcl t ix kcl k eh r iy ix n oy l ih r ae gcl g l ay kcl k dh ae tcl t h#\n",
            "h# d o w nx ae s kcl k m iy tcl t ix kcl k eh r iy ix n oh y l ih r ae gcl g l a y kcl k dh ae tcl t h#\n",
            "h# ax l oy er w ax z ax pcl p oy nx ix t uw eh kcl k s ix k y ux t hh axr w ih l h#\n",
            "h# ax l oh y er w ax z ax pcl p oh y nx ix t uw eh kcl k s ix k y ux t hh axr w ih l h#\n",
            "h# d ow nx ae s kcl k m ix dx ix kcl k eh r ih eh n oy l ix r ae gcl g l ay kcl k dh ae tcl h#\n",
            "h# d o w nx ae s kcl k m ix dx ix kcl k eh r ih eh n oh y l ix r ae gcl g l a y kcl k dh ae tcl h#\n",
            "h# dh ax n ay f l ay kcl p ey n ix n ix z gcl g r oy n ih r l ix bcl b r ao tcl t hh ix m dcl d aw n ix gcl g eh n h#\n",
            "h# dh ax n a y f l a y kcl p e y n ix n ix z gcl g r oh y n ih r l ix bcl b r ao tcl t hh ix m dcl d a w n ix gcl g eh n h#\n",
            "h# d ow n ae s kcl m iy dx ix kcl k eh r iy nx oy l iy r ae gcl g l ay kcl dh ae tcl h#\n",
            "h# d o w n ae s kcl m iy dx ix kcl k eh r iy nx oh y l iy r ae gcl g l a y kcl dh ae tcl h#\n",
            "h# q ay ix s ux m oy s tcl ch axr w el dcl d ae m ix dcl jh dh ih s sh ih pcl p s hh ah l h#\n",
            "h# q a y ix s ux m oh y s tcl ch axr w el dcl d ae m ix dcl jh dh ih s sh ih pcl p s hh ah l h#\n",
            "h# d ow n tcl ae s kcl m iy tcl t ix kcl k eh r iy eh n q oy l iy r ae gcl l ay kcl dh ae tcl t h#\n",
            "h# d o w n tcl ae s kcl m iy tcl t ix kcl k eh r iy eh n q oh y l iy r ae gcl l a y kcl dh ae tcl t h#\n",
            "h# r oy q ih gcl n ao r dcl dh ix s pcl p ih r iy ix s dcl d ey tcl t ah pcl p oy n tcl t s ix n dcl d r ao ix ng dh ix gcl g r ae f h#\n",
            "h# r oh y q ih gcl n ao r dcl dh ix s pcl p ih r iy ix s dcl d e y tcl t ah pcl p oh y n tcl t s ix n dcl d r ao ix ng dh ix gcl g r ae f h#\n",
            "h# dh ax pcl p ey pcl p axr bcl b oy bcl b ao tcl t ux q ae pcl p el z q eh n epi th r iy q ay s ix s h#\n",
            "h# dh ax pcl p e y pcl p axr bcl b oh y bcl b ao tcl t ux q ae pcl p el z q eh n epi th r iy q a y s ix s h#\n",
            "h# d ow n q ae s kcl m ix dx ix kcl k eh r iy ix n q oy l iy r ae gcl l ay kcl k dh ae tcl h#\n",
            "h# d o w n q ae s kcl m ix dx ix kcl k eh r iy ix n q oh y l iy r ae gcl l a y kcl k dh ae tcl h#\n",
            "h# eh m pcl p l oy iy l ey ao f s kcl k ow ax n s ay dx ix dcl d w ix th ix kcl k ah m pcl p ix n iy z r iy ao r gcl g ix n ix z ey sh ix n h#\n",
            "h# eh m pcl p l oh y iy l e y ao f s kcl k o w ax n s a y dx ix dcl d w ix th ix kcl k ah m pcl p ix n iy z r iy ao r gcl g ix n ix z e y sh ix n h#\n",
            "h# k l iy n d kcl k l ao th pau m ax s bcl b iy pcl p axr tcl t eh kcl t ix dx ix gcl g ih n s tcl dh axr r iy dcl d eh pcl p ax z ih sh en ax v dcl d ix s pcl p er s tcl t s oy l h#\n",
            "h# k l iy n d kcl k l ao th pau m ax s bcl b iy pcl p axr tcl t eh kcl t ix dx ix gcl g ih n s tcl dh axr r iy dcl d eh pcl p ax z ih sh en ax v dcl d ix s pcl p er s tcl t s oh y l h#\n",
            "h# d ow n ae s kcl m iy dx ih kcl k eh r ih ix n ax q oy l ix r ae gcl l ay kcl dh ae tcl h#\n",
            "h# d o w n ae s kcl m iy dx ih kcl k eh r ih ix n ax q oh y l ix r ae gcl l a y kcl dh ae tcl h#\n",
            "h# q ay ey dx eh v r iy q oy s tcl ch axr ao n ao r ix z pcl p l ey tcl t h#\n",
            "h# q a y e y dx eh v r iy q oh y s tcl ch axr ao n ao r ix z pcl p l e y tcl t h#\n",
            "h# d ow nx ae s kcl m ix dx ix kcl k eh r ix n oy l ix r ae gcl l ay kcl dh ae tcl h#\n",
            "h# d o w nx ae s kcl m ix dx ix kcl k eh r ix n oh y l ix r ae gcl l a y kcl dh ae tcl h#\n",
            "h# d ow nx ae s kcl m iy tcl t ix kcl k eh r ih ix n q oy l iy r ae gcl g l ay kcl k dh ae q h#\n",
            "h# d o w nx ae s kcl m iy tcl t ix kcl k eh r ih ix n q oh y l iy r ae gcl g l a y kcl k dh ae q h#\n",
            "h# hh axr l ih pcl s pau m oy s tcl t ix n pcl p aa r dx ix dcl pau s pcl p ow kcl k ih z n ey m h#\n",
            "h# hh axr l ih pcl s pau m oh y s tcl t ix n pcl p aa r dx ix dcl pau s pcl p o w kcl k ih z n e y m h#\n",
            "h# d ah n aa s kcl m ix dx ix kcl k eh r iy ah n oy l iy r ae gcl g l ay kcl dh ae q h#\n",
            "h# d ah n aa s kcl m ix dx ix kcl k eh r iy ah n oh y l iy r ae gcl g l a y kcl dh ae q h#\n",
            "h# d ow n tcl t ae s kcl m iy tcl t ux kcl k eh r iy ix n q oy l iy r ae gcl g l ay kcl dh ae tcl t h#\n",
            "h# d o w n tcl t ae s kcl m iy tcl t ux kcl k eh r iy ix n q oh y l iy r ae gcl g l a y kcl dh ae tcl t h#\n",
            "h# d ow nx ae s kcl m iy dcl d ix kcl k eh r iy ix n oy l iy r ae gcl g l ay kcl k dh ae tcl h#\n",
            "h# d o w nx ae s kcl m iy dcl d ix kcl k eh r iy ix n oh y l iy r ae gcl g l a y kcl k dh ae tcl h#\n",
            "h# d ow n ae s epi m iy dx ix kcl k eh r iy ix n q oy l iy r ae gcl g l ay kcl dh ae tcl h#\n",
            "h# d o w n ae s epi m iy dx ix kcl k eh r iy ix n q oh y l iy r ae gcl g l a y kcl dh ae tcl h#\n",
            "h# d ow n ae s epi m iy tcl t ux kcl k eh r iy ix n q oy l iy r ae gcl g l ay kcl k dh ae tcl t h#\n",
            "h# d o w n ae s epi m iy tcl t ux kcl k eh r iy ix n q oh y l iy r ae gcl g l a y kcl k dh ae tcl t h#\n",
            "h# t ao r n ey dx ow z q aa f ix n d ih s tcl t r oy q ey kcl k axr z ax v f aa r m l ae n dcl d h#\n",
            "h# t ao r n e y dx o w z q aa f ix n d ih s tcl t r oh y q e y kcl k axr z ax v f aa r m l ae n dcl d h#\n",
            "h# d ow n tcl q ae s kcl m ix dx ix kcl k eh r ix eh n q oy l ix r ae gcl g l ay kcl dh ae tcl h#\n",
            "h# d o w n tcl q ae s kcl m ix dx ix kcl k eh r ix eh n q oh y l ix r ae gcl g l a y kcl dh ae tcl h#\n",
            "h# d ow n ae s kcl m iy dx ix kcl k eh r iy ix n oy l ix r ae gcl l ay kcl k dh ae tcl h#\n",
            "h# d o w n ae s kcl m iy dx ix kcl k eh r iy ix n oh y l ix r ae gcl l a y kcl k dh ae tcl h#\n",
            "h# g ah s epi ao pcl p ay n tcl t r iy z q eh n r eh dcl d w uh dcl z aa n hv ix z epi w aa kcl th r ux s ix kcl k oy ix n ae sh epi n el f ao r ix s tcl t h#\n",
            "h# g ah s epi ao pcl p a y n tcl t r iy z q eh n r eh dcl d w uh dcl z aa n hv ix z epi w aa kcl th r ux s ix kcl k oh y ix n ae sh epi n el f ao r ix s tcl t h#\n",
            "h# dcl ow n ae s kcl m iy tcl t ix kcl k eh r iy eh n q oy l iy r ae gcl g l ay kcl dh ae tcl h#\n",
            "h# dcl o w n ae s kcl m iy tcl t ix kcl k eh r iy eh n q oh y l iy r ae gcl g l a y kcl dh ae tcl h#\n",
            "h# d ow nx ae s epi m ix dx ix kcl k eh r ix n oy l iy r ae gcl g l ay kcl k dh ae tcl h#\n",
            "h# d o w nx ae s epi m ix dx ix kcl k eh r ix n oh y l iy r ae gcl g l a y kcl k dh ae tcl h#\n",
            "h# d ow n q ae s epi m iy dx ix kcl k eh r iy ix n q oy l iy r ae gcl g l ay kcl k dh ae q h#\n",
            "h# d o w n q ae s epi m iy dx ix kcl k eh r iy ix n q oh y l iy r ae gcl g l a y kcl k dh ae q h#\n",
            "h# d ow n ae s kcl m iy dx ix kcl k eh r iy ix n q oy l iy r ae gcl g l ay kcl dh ae tcl t h#\n",
            "h# d o w n ae s kcl m iy dx ix kcl k eh r iy ix n q oh y l iy r ae gcl g l a y kcl dh ae tcl t h#\n",
            "h# d ix nx ae s kcl m ix dcl d ix kcl k eh r iy n oy l iy r ey gcl g l ay kcl dh ae tcl h#\n",
            "h# d ix nx ae s kcl m ix dcl d ix kcl k eh r iy n oh y l iy r e y gcl g l a y kcl dh ae tcl h#\n",
            "h# d ow nx ae s m iy dx ix kcl k eh r iy ix nx oy l iy r ae gcl g l ay kcl dh ae tcl h#\n",
            "h# d o w nx ae s m iy dx ix kcl k eh r iy ix nx oh y l iy r ae gcl g l a y kcl dh ae tcl h#\n",
            "h# m ay bcl b ax l ah v ix dcl w ao r m ay pcl p axr r eh n iy ix l gcl g ae dcl f l ay s eh dcl dh ax w ay n ix ng v oy s h#\n",
            "h# m a y bcl b ax l ah v ix dcl w ao r m a y pcl p axr r eh n iy ix l gcl g ae dcl f l a y s eh dcl dh ax w a y n ix ng v oh y s h#\n",
            "h# d ow n ae s kcl m iy dx iy kcl k eh r iy ih n q oy l iy r ae gcl l ay kcl dh ae tcl h#\n",
            "h# d o w n ae s kcl m iy dx iy kcl k eh r iy ih n q oh y l iy r ae gcl l a y kcl dh ae tcl h#\n",
            "h# d ow nx ae s kcl m iy dx ix kcl k eh r iy ix n oy l iy r ae gcl g l ay kcl k dh ae tcl h#\n",
            "h# d o w nx ae s kcl m iy dx ix kcl k eh r iy ix n oh y l iy r ae gcl g l a y kcl k dh ae tcl h#\n",
            "h# d ow n ae s epi m ix dx ix kcl k eh r ih ix n q oy l iy r ae gcl l ay kcl dh ae tcl h#\n",
            "h# d o w n ae s epi m ix dx ix kcl k eh r ih ix n q oh y l iy r ae gcl l a y kcl dh ae tcl h#\n",
            "h# hh iy bcl b ax l iy v dh eh tcl b r ey v bcl b oy z dcl d ih dcl en tcl k r ay h#\n",
            "h# hh iy bcl b ax l iy v dh eh tcl b r e y v bcl b oh y z dcl d ih dcl en tcl k r a y h#\n",
            "h# d ow n q ae s kcl m iy tcl t ix kcl k eh r iy ix n q oy l ih r ae gcl l ay kcl k dh ae tcl h#\n",
            "h# d o w n q ae s kcl m iy tcl t ix kcl k eh r iy ix n q oh y l ih r ae gcl l a y kcl k dh ae tcl h#\n",
            "h# q ow n l ih dh ix bcl b eh s pcl p l ey er z en dcl jh oy pcl p aa pcl p ix l eh er dx iy h#\n",
            "h# q o w n l ih dh ix bcl b eh s pcl p l e y er z en dcl jh oh y pcl p aa pcl p ix l eh er dx iy h#\n",
            "h# hh iy l uh kcl t l ey z iy s pcl p oy l dcl d pau ax l ih dx el kcl k w ao r el ax s h#\n",
            "h# hh iy l uh kcl t l e y z iy s pcl p oh y l dcl d pau ax l ih dx el kcl k w ao r el ax s h#\n",
            "h# d ow nx ae s kcl k m iy dx iy kcl k eh r iy ix nx q oy l ix r ae gcl g l ay kcl dh ae tcl h#\n",
            "h# d o w nx ae s kcl k m iy dx iy kcl k eh r iy ix nx q oh y l ix r ae gcl g l a y kcl dh ae tcl h#\n",
            "h# d ow nx ae s epi m iy dx ix kcl k ih r iy ix n q oy l iy r ae gcl g l ay kcl dh ae tcl h#\n",
            "h# d o w nx ae s epi m iy dx ix kcl k ih r iy ix n q oh y l iy r ae gcl g l a y kcl dh ae tcl h#\n",
            "h# p l iy sh ao r tcl en ix s kcl k er tcl t f axr dcl jh oy s h#\n",
            "h# p l iy sh ao r tcl en ix s kcl k er tcl t f axr dcl jh oh y s h#\n",
            "h# d ow n tcl q ae s kcl m ix tcl t ix kcl k eh r ix n q oy l ix r ae gcl g l ay kcl dh ae tcl h#\n",
            "h# d o w n tcl q ae s kcl m ix tcl t ix kcl k eh r ix n q oh y l ix r ae gcl g l a y kcl dh ae tcl h#\n",
            "h# hh ey s tcl t ix l iy dh ax bcl b oy s w ih tcl ch tcl t ao n ax s iy l ih ng l ay tcl t h#\n",
            "h# hh e y s tcl t ix l iy dh ax bcl b oh y s w ih tcl ch tcl t ao n ax s iy l ih ng l a y tcl t h#\n",
            "h# d ow n ae s kcl m iy dx ax kcl k eh r ih ax n q oy l ih r ae gcl l ay kcl dh ae tcl t h#\n",
            "h# d o w n ae s kcl m iy dx ax kcl k eh r ih ax n q oh y l ih r ae gcl l a y kcl dh ae tcl t h#\n",
            "h# dh ax tcl t r ay eh m f ax n tcl w oy y er ix gcl g z ix bcl b ix dcl d ih dcl d n ay iy v hh eh r ow ix z ax m h#\n",
            "h# dh ax tcl t r a y eh m f ax n tcl w oh y y er ix gcl g z ix bcl b ix dcl d ih dcl d n a y iy v hh eh r o w ix z ax m h#\n",
            "h# d ow n tcl t ae s kcl m iy tcl t ix kcl k eh r ih ix n oy l ix r ae gcl g l ay kcl k dh ae tcl t h#\n",
            "h# d o w n tcl t ae s kcl m iy tcl t ix kcl k eh r ih ix n oh y l ix r ae gcl g l a y kcl k dh ae tcl t h#\n",
            "h# d ow q ae s epi m iy dx iy kcl k eh r iy ix n q oy l iy r ae gcl g l ay kcl dh ae tcl h#\n",
            "h# d o w q ae s epi m iy dx iy kcl k eh r iy ix n q oh y l iy r ae gcl g l a y kcl dh ae tcl h#\n",
            "h# d ow n ae s epi m iy dx ix kcl k ih r iy ix nx oy l iy r ae gcl g l ay kcl k dh ae tcl h#\n",
            "h# d o w n ae s epi m iy dx ix kcl k ih r iy ix nx oh y l iy r ae gcl g l a y kcl k dh ae tcl h#\n",
            "h# d ow nx ae s kcl m iy dx ix kcl k eh r iy ix nx oy l ih r ae gcl g l ay kcl dh ae tcl h#\n",
            "h# d o w nx ae s kcl m iy dx ix kcl k eh r iy ix nx oh y l ih r ae gcl g l a y kcl dh ae tcl h#\n",
            "h# dcl d ow dx ae s kcl m iy dx ax kcl k eh r iy ax n oy l iy r ae gcl g l ay kcl k dh ae tcl t h#\n",
            "h# dcl d o w dx ae s kcl m iy dx ax kcl k eh r iy ax n oh y l iy r ae gcl g l a y kcl k dh ae tcl t h#\n",
            "h# g ah s ao pcl p ay n tcl t r iy z ix n r eh dcl w uh dcl z aa n ix z w ao kcl th r ux s ix kcl k oy y ix n ae sh n el f ao r ix s tcl t h#\n",
            "h# g ah s ao pcl p a y n tcl t r iy z ix n r eh dcl w uh dcl z aa n ix z w ao kcl th r ux s ix kcl k oh y y ix n ae sh n el f ao r ix s tcl t h#\n",
            "h# p l iy z pau sh ao r tcl en dh ih s epi s kcl k er tcl f axr dcl jh oy s h#\n",
            "h# p l iy z pau sh ao r tcl en dh ih s epi s kcl k er tcl f axr dcl jh oh y s h#\n",
            "h# d ow n tcl q ae s kcl k m iy tcl t ix kcl k eh r iy ix n q oy l iy q r ae gcl g l ay kcl dh ae tcl t h#\n",
            "h# d o w n tcl q ae s kcl k m iy tcl t ix kcl k eh r iy ix n q oh y l iy q r ae gcl g l a y kcl dh ae tcl t h#\n",
            "h# d ow n q ae s epi m iy tcl t ix kcl k eh r iy q ix n q oy l iy r ae gcl g l ay kcl dh ae tcl t h#\n",
            "h# d o w n q ae s epi m iy tcl t ix kcl k eh r iy q ix n q oh y l iy r ae gcl g l a y kcl dh ae tcl t h#\n",
            "h# q ay eh s ux m oy sh tcl ch axr w el dcl d ae m ih dcl jh dh ix sh ih pcl p s hh ao l h#\n",
            "h# q a y eh s ux m oh y sh tcl ch axr w el dcl d ae m ih dcl jh dh ix sh ih pcl p s hh ao l h#\n",
            "h# d ow n tcl t ae s kcl k m iy tcl t ux kcl k eh r iy ix n oy l iy r ae gcl g l ay kcl k dh ae q h#\n",
            "h# d o w n tcl t ae s kcl k m iy tcl t ux kcl k eh r iy ix n oh y l iy r ae gcl g l a y kcl k dh ae q h#\n",
            "h# r oy q ih gcl n ao r dcl dh ix s pcl p er iy ih s dcl d ey dx ax pcl p oy n tcl t s ix n dcl d r ao ix ng dh ix gcl g r ae f h#\n",
            "h# r oh y q ih gcl n ao r dcl dh ix s pcl p er iy ih s dcl d e y dx ax pcl p oh y n tcl t s ix n dcl d r ao ix ng dh ix gcl g r ae f h#\n",
            "h# d ow n q ae s kcl k m iy dcl d ih kcl k eh r iy ix n q oy l ih r ae gcl g l ay kcl dh ae tcl h#\n",
            "h# d o w n q ae s kcl k m iy dcl d ih kcl k eh r iy ix n q oh y l ih r ae gcl g l a y kcl dh ae tcl h#\n",
            "h# s tcl t iy v kcl k ax l eh kcl k s r eh r q ix n aa v el kcl k oy n s h#\n",
            "h# s tcl t iy v kcl k ax l eh kcl k s r eh r q ix n aa v el kcl k oh y n s h#\n",
            "h# dh ax m oy s tcl ch er en m aa q ay z ix z f em q ay dcl d r aa pcl s pau n aa tcl f em tcl t ih axr z h#\n",
            "h# dh ax m oh y s tcl ch er en m aa q a y z ix z f em q a y dcl d r aa pcl s pau n aa tcl f em tcl t ih axr z h#\n",
            "h# d ow nx ae s epi m iy dx ix kcl k ih r ix n q oy l iy r ae gcl g l ay kcl dh ae q h#\n",
            "h# d o w nx ae s epi m iy dx ix kcl k ih r ix n q oh y l iy r ae gcl g l a y kcl dh ae q h#\n",
            "h# d ow nx ae s epi m iy tcl t ux kcl k eh r iy q eh n q oy l iy r ae gcl g l ay kcl dh ae tcl t h#\n",
            "h# d o w nx ae s epi m iy tcl t ux kcl k eh r iy q eh n q oh y l iy r ae gcl g l a y kcl dh ae tcl t h#\n",
            "h# d ow nx ae s kcl k m iy tcl t ix kcl k eh r iy ix n q oy l iy r ae gcl g l ay kcl dh ae tcl t h#\n",
            "h# d o w nx ae s kcl k m iy tcl t ix kcl k eh r iy ix n q oh y l iy r ae gcl g l a y kcl dh ae tcl t h#\n",
            "h# hh ae f s epi l ay l iy hv iy ix n dcl jh oy dcl s iy ix ng hv axr sh tcl t ux pcl t ax l ih f tcl t ax th ih ng z h#\n",
            "h# hh ae f s epi l a y l iy hv iy ix n dcl jh oh y dcl s iy ix ng hv axr sh tcl t ux pcl t ax l ih f tcl t ax th ih ng z h#\n",
            "h# dh ih n oy ix ng r ae kcl k ux n s l ih pcl d ix n dcl d ax f ih l z gcl g aa r dcl en eh v r ix n ay tcl t h#\n",
            "h# dh ih n oh y ix ng r ae kcl k ux n s l ih pcl d ix n dcl d ax f ih l z gcl g aa r dcl en eh v r ix n a y tcl t h#\n",
            "h# dh ax bcl b eh er kcl k ux dx ih r iy kcl k ao dcl d f r ax m ax s er pcl p ix n z pcl p oy z en ih s f ae ng gcl s h#\n",
            "h# dh ax bcl b eh er kcl k ux dx ih r iy kcl k ao dcl d f r ax m ax s er pcl p ix n z pcl p oh y z en ih s f ae ng gcl s h#\n",
            "h# d ow n tcl q ae s kcl m iy tcl t ix kcl k eh r iy ix n q oy l iy r ae gcl g l ay kcl k dh ae tcl h#\n",
            "h# d o w n tcl q ae s kcl m iy tcl t ix kcl k eh r iy ix n q oh y l iy r ae gcl g l a y kcl k dh ae tcl h#\n",
            "h# f ao r s w iy tcl t s aw er s ao s pau k uh kcl k q ah n y ix n ih n q oy l en tcl t ih l s ao f tcl t h#\n",
            "h# f ao r s w iy tcl t s a w er s ao s pau k uh kcl k q ah n y ix n ih n q oh y l en tcl t ih l s ao f tcl t h#\n",
            "h# q ah kcl k aa n ix s uw axr w ax l ix n dcl jh oy dh ih s pau sh eh l f ih sh dcl d ih sh h#\n",
            "h# q ah kcl k aa n ix s uw axr w ax l ix n dcl jh oh y dh ih s pau sh eh l f ih sh dcl d ih sh h#\n",
            "h# jh eh f s tcl t oy gcl g ow kcl k aa r tcl n eh v axr w er kcl t h#\n",
            "h# jh eh f s tcl t oh y gcl g o w kcl k aa r tcl n eh v axr w er kcl t h#\n",
            "h# d ow n ae s kcl m iy tcl t ix kcl k eh r iy ix n ax q oy l iy r ae gcl g l ay kcl dh ae tcl t h#\n",
            "h# d o w n ae s kcl m iy tcl t ix kcl k eh r iy ix n ax q oh y l iy r ae gcl g l a y kcl dh ae tcl t h#\n",
            "h# d ow nx ae s epi m iy tcl t ix kcl k eh r iy q eh n q oy l iy r ae gcl g l ay kcl k dh ae tcl h#\n",
            "h# d o w nx ae s epi m iy tcl t ix kcl k eh r iy q eh n q oh y l iy r ae gcl g l a y kcl k dh ae tcl h#\n",
            "h# dh ow bcl b r iy f pau q ih tcl hv ae z ey sh aa r pcl pau d r ax m ae dx ih kcl k q eh dcl jh eh ng gcl g r ey tcl pau p oy n y eh n tcl s iy h#\n",
            "h# dh o w bcl b r iy f pau q ih tcl hv ae z e y sh aa r pcl pau d r ax m ae dx ih kcl k q eh dcl jh eh ng gcl g r e y tcl pau p oh y n y eh n tcl s iy h#\n",
            "h# w uh dx ey tcl t aa m bcl b oy q ao f tcl t ix n pcl p l ey aw q dcl d ao axr s h#\n",
            "h# w uh dx e y tcl t aa m bcl b oh y q ao f tcl t ix n pcl p l e y a w q dcl d ao axr s h#\n",
            "h# sh aw l w ih f l ih pcl ax kcl k oy n tcl t ix s iy hh w ih tcl ch ix v ah s gcl g ow s f er s tcl t h#\n",
            "h# sh a w l w ih f l ih pcl ax kcl k oh y n tcl t ix s iy hh w ih tcl ch ix v ah s gcl g o w s f er s tcl t h#\n",
            "h# d ow nx ae s kcl m iy dx ax kcl k eh r ix nx ax q oy l ih r ae gcl l ay kcl dh ae q h#\n",
            "h# d o w nx ae s kcl m iy dx ax kcl k eh r ix nx ax q oh y l ih r ae gcl l a y kcl dh ae q h#\n",
            "h# w ix dx ix tcl t aa m bcl b oy ao f en pcl p l ey aw tcl d ow ax z h#\n",
            "h# w ix dx ix tcl t aa m bcl b oh y ao f en pcl p l e y a w tcl d o w ax z h#\n",
            "h# ix m pcl p l oy iy l ey ao f s kcl k ow ax n s ay dx ix dcl w ih th iy pau k ah m pcl p n iy z epi r iy ao gcl n ix z ey sh en h#\n",
            "h# ix m pcl p l oh y iy l e y ao f s kcl k o w ax n s a y dx ix dcl w ih th iy pau k ah m pcl p n iy z epi r iy ao gcl n ix z e y sh en h#\n",
            "h# d ux y ux hv ae v dh iy y eh l ow q oy n tcl m ix tcl r eh dx iy h#\n",
            "h# d ux y ux hv ae v dh iy y eh l o w q oh y n tcl m ix tcl r eh dx iy h#\n",
            "h# d ow n q ae s kcl k m iy tcl t ix kcl k eh r iy ix n q oy l iy r ae gcl g l ay kcl k dh ae q h#\n",
            "h# d o w n q ae s kcl k m iy tcl t ix kcl k eh r iy ix n q oh y l iy r ae gcl g l a y kcl k dh ae q h#\n",
            "h# dcl jh ao r dcl jh ih z pcl p eh er n oy dcl d q ax bcl b aw dx ax f ux tcl ch axr gcl g ae sh ao r dx ih dcl jh h#\n",
            "h# dcl jh ao r dcl jh ih z pcl p eh er n oh y dcl d q ax bcl b a w dx ax f ux tcl ch axr gcl g ae sh ao r dx ih dcl jh h#\n",
            "h# d ow n q ae s epi m iy tcl t ax-h kcl k eh r iy ix n oy l iy r ae gcl l ay kcl dh ae tcl h#\n",
            "h# d o w n q ae s epi m iy tcl t ax-h kcl k eh r iy ix n oh y l iy r ae gcl l a y kcl dh ae tcl h#\n",
            "h# jh eh f s tcl t oy gcl g ow kcl k aa r tcl n eh v er w er kcl t h#\n",
            "h# jh eh f s tcl t oh y gcl g o w kcl k aa r tcl n eh v er w er kcl t h#\n",
            "h# d ow nx ae s kcl m iy dx ix kcl k eh r iy ix nx oy l iy r ae gcl g l ay kcl k dh ae tcl h#\n",
            "h# d o w nx ae s kcl m iy dx ix kcl k eh r iy ix nx oh y l iy r ae gcl g l a y kcl k dh ae tcl h#\n",
            "h# hh aw dcl d uw q oy s tcl t ax z m ey kcl p er l s h#\n",
            "h# hh a w dcl d uw q oh y s tcl t ax z m e y kcl p er l s h#\n",
            "h# eh n iy hv aw pau ih q w ah z hv ay tcl t ay m dh ax bcl b oy w ax s ao l tcl t ix dcl h#\n",
            "h# eh n iy hv a w pau ih q w ah z hv a y tcl t a y m dh ax bcl b oh y w ax s ao l tcl t ix dcl h#\n",
            "h# d ow n ae s epi m iy dx ix kcl k eh r iy ix n q oy l iy r ae gcl g l ay kcl dh ae tcl t h#\n",
            "h# d o w n ae s epi m iy dx ix kcl k eh r iy ix n q oh y l iy r ae gcl g l a y kcl dh ae tcl t h#\n",
            "h# ax s eh kcl k ix n dcl p oy n tcl r ax kcl k w ay r z m ao r ix kcl k s tcl t eh n dcl d ix dcl k aa m eh n tcl t h#\n",
            "h# ax s eh kcl k ix n dcl p oh y n tcl r ax kcl k w a y r z m ao r ix kcl k s tcl t eh n dcl d ix dcl k aa m eh n tcl t h#\n",
            "h# d ow nx ae s kcl m iy dx ix kcl k ih r iy ix n q oy l iy r ae gcl g l ay kcl dh ae q h#\n",
            "h# d o w nx ae s kcl m iy dx ix kcl k ih r iy ix n q oh y l iy r ae gcl g l a y kcl dh ae q h#\n",
            "h# d ow n tcl q ae s kcl k m iy tcl t ux kcl k eh r iy eh n q oy l iy r ae gcl g l ay kcl dh ae tcl h#\n",
            "h# d o w n tcl q ae s kcl k m iy tcl t ux kcl k eh r iy eh n q oh y l iy r ae gcl g l a y kcl dh ae tcl h#\n",
            "h# d ah nx ae kcl k s m iy dx ix kcl k eh r iy q ix n q oy l iy r ae gcl g l ay kcl dh ae tcl h#\n",
            "h# d ah nx ae kcl k s m iy dx ix kcl k eh r iy q ix n q oh y l iy r ae gcl g l a y kcl dh ae tcl h#\n",
            "h# n ux kcl k l iy axr r aa kcl k ix tcl s kcl k ih n dcl d ix s tcl t r oy q eh r f iy l dcl z epi w ix dh iy s h#\n",
            "h# n ux kcl k l iy axr r aa kcl k ix tcl s kcl k ih n dcl d ix s tcl t r oh y q eh r f iy l dcl z epi w ix dh iy s h#\n",
            "h# d ux y ux hv ae v dh ix y eh l ow q oy n m ih n tcl r eh dx iy h#\n",
            "h# d ux y ux hv ae v dh ix y eh l o w q oh y n m ih n tcl r eh dx iy h#\n",
            "h# d ow nx ae s kcl m iy dx ix kcl k ih r iy ix n q oy l iy r ae gcl l ay kcl dh ae tcl h#\n",
            "h# d o w nx ae s kcl m iy dx ix kcl k ih r iy ix n q oh y l iy r ae gcl l a y kcl dh ae tcl h#\n",
            "h# k aw n tcl dh ix n ah m axr ax v tcl t iy s pcl p ux n z ax v s oy s ao s dh ae tcl ch ux ae dcl h#\n",
            "h# k a w n tcl dh ix n ah m axr ax v tcl t iy s pcl p ux n z ax v s oh y s ao s dh ae tcl ch ux ae dcl h#\n",
            "h# d ow nx ae s epi m iy dx ih kcl k eh r iy eh nx oy l iy r ae gcl l ay kcl dh ae tcl t h#\n",
            "h# d o w nx ae s epi m iy dx ih kcl k eh r iy eh nx oh y l iy r ae gcl l a y kcl dh ae tcl t h#\n",
            "h# dh ix pcl p ey pcl p axr bcl b oy bcl b ao tcl t ux ae pcl p el z q ix n th r iy ay s ix z h#\n",
            "h# dh ix pcl p e y pcl p axr bcl b oh y bcl b ao tcl t ux ae pcl p el z q ix n th r iy a y s ix z h#\n",
            "h# d ow n ae s epi m iy dx ix kcl k eh r iy ih n oy l iy r ae gcl g l ay kcl k dh ae tcl h#\n",
            "h# d o w n ae s epi m iy dx ix kcl k eh r iy ih n oh y l iy r ae gcl g l a y kcl k dh ae tcl h#\n",
            "h# k aw n tcl dh ax n ah m bcl b ah v tcl t iy s pcl p uw n z ax v s oy s ao s dh eh tcl t y uw ae dcl h#\n",
            "h# k a w n tcl dh ax n ah m bcl b ah v tcl t iy s pcl p uw n z ax v s oh y s ao s dh eh tcl t y uw ae dcl h#\n",
            "h# d ow nx ae s kcl k m iy dx ix kcl k ih r ih eh n q oy l iy r ae gcl g l ay kcl k dh ae tcl h#\n",
            "h# d o w nx ae s kcl k m iy dx ix kcl k ih r ih eh n q oh y l iy r ae gcl g l a y kcl k dh ae tcl h#\n",
            "h# f er m ow m ih n tcl pau b oy q ae n m aw n tcl hh ah ng ih n m ih dcl d eh r h#\n",
            "h# f er m o w m ih n tcl pau b oh y q ae n m a w n tcl hh ah ng ih n m ih dcl d eh r h#\n",
            "h# d ow n q ae s kcl k m iy dx ix kcl k eh r iy q eh n oy l iy r ae gcl g l ay kcl dh ae tcl h#\n",
            "h# d o w n q ae s kcl k m iy dx ix kcl k eh r iy q eh n oh y l iy r ae gcl g l a y kcl dh ae tcl h#\n",
            "h# jh ao dcl jh ix z pcl p er ix n oy dx ix bcl b aw dx ax f iy tcl ch axr gcl g ae sh ao r dx ix dcl jh h#\n",
            "h# jh ao dcl jh ix z pcl p er ix n oh y dx ix bcl b a w dx ax f iy tcl ch axr gcl g ae sh ao r dx ix dcl jh h#\n",
            "h# d ow nx ae s kcl m iy tcl t ix kcl k ih r iy ix nx ax oy l iy r ae gcl g l ay kcl dh ae tcl h#\n",
            "h# d o w nx ae s kcl m iy tcl t ix kcl k ih r iy ix nx ax oh y l iy r ae gcl g l a y kcl dh ae tcl h#\n",
            "h# w ay dx er dcl d ix s kcl k r eh sh ix nx eh r iy tcl ch oy s ix z f axr kcl k ah s tcl t em axr s h#\n",
            "h# w a y dx er dcl d ix s kcl k r eh sh ix nx eh r iy tcl ch oh y s ix z f axr kcl k ah s tcl t em axr s h#\n",
            "h# d ow n ae s epi m iy dx ix kcl k eh r iy q hh ax n oy l iy r ae gcl g l ay kcl dh ae tcl h#\n",
            "h# d o w n ae s epi m iy dx ix kcl k eh r iy q hh ax n oh y l iy r ae gcl g l a y kcl dh ae tcl h#\n",
            "h# dh eh r w ax z tcl t ay f oy dx ih n m ax l eh r iy ax h#\n",
            "h# dh eh r w ax z tcl t a y f oh y dx ih n m ax l eh r iy ax h#\n",
            "h# d ow n q ae s kcl m iy dx ix kcl k ih r iy ix n q oy l iy r ae gcl g l ay kcl dh ae tcl h#\n",
            "h# d o w n q ae s kcl m iy dx ix kcl k ih r iy ix n q oh y l iy r ae gcl g l a y kcl dh ae tcl h#\n",
            "h# q ao aa v ax s kcl k ux pcl p dh ae dx ih gcl g z aa dx ih kcl p er pcl p el ix n tcl t er kcl k oy sh er bcl b ix tcl h#\n",
            "h# q ao aa v ax s kcl k ux pcl p dh ae dx ih gcl g z aa dx ih kcl p er pcl p el ix n tcl t er kcl k oh y sh er bcl b ix tcl h#\n",
            "h# q ow n l iy dh ix bcl b eh s tcl t pcl p l ey er z ix n dcl jh oy pcl p aa pcl p y ix l eh r ih dx iy h#\n",
            "h# q o w n l iy dh ix bcl b eh s tcl t pcl p l e y er z ix n dcl jh oh y pcl p aa pcl p y ix l eh r ih dx iy h#\n",
            "h# d ow n ae s kcl k m iy dx ix kcl k eh r iy ix n oy l iy r ae gcl g l ay kcl k dh ae q h#\n",
            "h# d o w n ae s kcl k m iy dx ix kcl k eh r iy ix n oh y l iy r ae gcl g l a y kcl k dh ae q h#\n",
            "h# d ow nx ae s epi m iy dx ix kcl k eh r iy ix n q oy l iy r ae gcl g l ay kcl dh ae tcl h#\n",
            "h# d o w nx ae s epi m iy dx ix kcl k eh r iy ix n q oh y l iy r ae gcl g l a y kcl dh ae tcl h#\n",
            "h# d ow n q ae s pau m iy tcl t ix kcl k eh r iy ix n q oy l ix r ae gcl g pau l ay kcl dh eh tcl t h#\n",
            "h# d o w n q ae s pau m iy tcl t ix kcl k eh r iy ix n q oh y l ix r ae gcl g pau l a y kcl dh eh tcl t h#\n",
            "h# hh iy ih n l ih s ix dx ax s tcl t ae f ax-h v l oy ax q eh kcl k s pcl p er tcl t s pau q eh nx ax v m eh n iy z eh l ax s v aa l en tcl t iy axr z h#\n",
            "h# hh iy ih n l ih s ix dx ax s tcl t ae f ax-h v l oh y ax q eh kcl k s pcl p er tcl t s pau q eh nx ax v m eh n iy z eh l ax s v aa l en tcl t iy axr z h#\n",
            "h# d ow nx ae s epi m iy dx ix kcl k eh r iy ix n oy l iy r ae gcl g l ay kcl dh ae tcl h#\n",
            "h# d o w nx ae s epi m iy dx ix kcl k eh r iy ix n oh y l iy r ae gcl g l a y kcl dh ae tcl h#\n",
            "h# k aw n tcl dh ax n ah m b axr v tcl t iy s pcl p uw n z ax v s oy s ao s dh ae q y ux ae dcl h#\n",
            "h# k a w n tcl dh ax n ah m b axr v tcl t iy s pcl p uw n z ax v s oh y s ao s dh ae q y ux ae dcl h#\n",
            "h# d ow n ae s epi m iy tcl t ux kcl k eh r iy ix n q oy l iy r ae gcl g l ay kcl dh ae tcl h#\n",
            "h# d o w n ae s epi m iy tcl t ux kcl k eh r iy ix n q oh y l iy r ae gcl g l a y kcl dh ae tcl h#\n",
            "h# d ow nx ae s epi m ix dx ix kcl k eh r iy ix n oy l iy r ae gcl g l ay kcl dh ae tcl h#\n",
            "h# d o w nx ae s epi m ix dx ix kcl k eh r iy ix n oh y l iy r ae gcl g l a y kcl dh ae tcl h#\n",
            "h# d ow n ae s kcl m iy tcl t ix kcl k ae r iy q ax n q oy l ih r ae gcl g pau l ay kcl dh ae tcl t h#\n",
            "h# d o w n ae s kcl m iy tcl t ix kcl k ae r iy q ax n q oh y l ih r ae gcl g pau l a y kcl dh ae tcl t h#\n",
            "h# dh ix pcl p ey pcl p axr bcl b oy bcl b ao tcl t uw ae pcl p el z en th r iy ay s ix s h#\n",
            "h# dh ix pcl p e y pcl p axr bcl b oh y bcl b ao tcl t uw ae pcl p el z en th r iy a y s ix s h#\n",
            "h# d ow n ae s kcl k m iy dx ix kcl k er iy n ax q oy l iy r ae gcl g l ay kcl dh ae tcl h#\n",
            "h# d o w n ae s kcl k m iy dx ix kcl k er iy n ax q oh y l iy r ae gcl g l a y kcl dh ae tcl h#\n",
            "h# hh aw dcl d uw q oy s tcl t er z m ey kcl p er el z h#\n",
            "h# hh a w dcl d uw q oh y s tcl t er z m e y kcl p er el z h#\n",
            "h# d ow n q ae s epi m iy tcl t ix kcl k eh r iy q ix n q oy l iy r ae gcl g l ay kcl dh ae tcl h#\n",
            "h# d o w n q ae s epi m iy tcl t ix kcl k eh r iy q ix n q oh y l iy r ae gcl g l a y kcl dh ae tcl h#\n",
            "h# d ow n ae s kcl m iy dx ix kcl k eh r ix nx oy l ix r ae gcl l ay kcl dh ae tcl h#\n",
            "h# d o w n ae s kcl m iy dx ix kcl k eh r ix nx oh y l ix r ae gcl l a y kcl dh ae tcl h#\n",
            "h# d ow n ae s kcl m iy dx ix kcl k eh r iy q ix n oy l iy r ae gcl g l ay kcl dh ae tcl h#\n",
            "h# d o w n ae s kcl m iy dx ix kcl k eh r iy q ix n oh y l iy r ae gcl g l a y kcl dh ae tcl h#\n",
            "h# d ah nx ae s epi m iy dx ix kcl k eh r iy ix n oy l iy r ae gcl l ay kcl dh ae tcl h#\n",
            "h# d ah nx ae s epi m iy dx ix kcl k eh r iy ix n oh y l iy r ae gcl l a y kcl dh ae tcl h#\n",
            "h# ih n m ow s kcl k ey s ix z dh iy s oy l z ah r tcl t ey kcl k ix n ah pcl p eh z l ih kcl k w ix dcl z th r ux kcl k ae pcl p el er iy ae kcl sh en h#\n",
            "h# ih n m o w s kcl k e y s ix z dh iy s oh y l z ah r tcl t e y kcl k ix n ah pcl p eh z l ih kcl k w ix dcl z th r ux kcl k ae pcl p el er iy ae kcl sh en h#\n",
            "h# d ow nx ae s kcl m iy dx ih kcl k eh r iy ix n oy l iy r ae gcl g l ay kcl dh ae tcl h#\n",
            "h# d o w nx ae s kcl m iy dx ih kcl k eh r iy ix n oh y l iy r ae gcl g l a y kcl dh ae tcl h#\n",
            "h# d ux y ux hv ae dh iy y eh l ow q oy m ix n q r eh dx iy h#\n",
            "h# d ux y ux hv ae dh iy y eh l o w q oh y m ix n q r eh dx iy h#\n",
            "h# d ow nx ae s kcl m iy dx ix kcl k eh r iy ix nx oy l ix r ae gcl l ay kcl dh ae tcl h#\n",
            "h# d o w nx ae s kcl m iy dx ix kcl k eh r iy ix nx oh y l ix r ae gcl l a y kcl dh ae tcl h#\n",
            "h# hh iy s pcl p ow kcl bcl r iy f l iy pau s eh n s ax-h bcl b l iy tcl t ux dh ax pcl p oy n q pau q ix n w ax th aw q ao r axr tcl t ao axr kcl k el f l ao r ix sh ix z h#\n",
            "h# hh iy s pcl p o w kcl bcl r iy f l iy pau s eh n s ax-h bcl b l iy tcl t ux dh ax pcl p oh y n q pau q ix n w ax th a w q ao r axr tcl t ao axr kcl k el f l ao r ix sh ix z h#\n",
            "h# d ow nx ae s kcl m iy tcl t ux kcl k ae r iy ix nx ax q oy l ix r ae gcl g l ay kcl dh ae tcl h#\n",
            "h# d o w nx ae s kcl m iy tcl t ux kcl k ae r iy ix nx ax q oh y l ix r ae gcl g l a y kcl dh ae tcl h#\n",
            "h# ay gcl g ey v dh eh m s eh v r el tcl ch oy s ix z q ax n l eh tcl dh eh m s eh tcl dh ax pcl p r ay ao r axr dx iy z h#\n",
            "h# a y gcl g e y v dh eh m s eh v r el tcl ch oh y s ix z q ax n l eh tcl dh eh m s eh tcl dh ax pcl p r a y ao r axr dx iy z h#\n",
            "h# t ow f ax-h q ih z m ey dcl f r ax m pcl p r aa s eh s oy bcl b iy n z h#\n",
            "h# t o w f ax-h q ih z m e y dcl f r ax m pcl p r aa s eh s oh y bcl b iy n z h#\n",
            "h# d ow n q ae s kcl m iy dx ix kcl k eh r iy q eh nx ax q oy l iy r ae gcl g l ay kcl k dh ae tcl h#\n",
            "h# d o w n q ae s kcl m iy dx ix kcl k eh r iy q eh nx ax q oh y l iy r ae gcl g l a y kcl k dh ae tcl h#\n",
            "h# hv aw dx uw oy s tcl t axr z epi m ey kcl p er l s h#\n",
            "h# hv a w dx uw oh y s tcl t axr z epi m e y kcl p er l s h#\n",
            "h# d ow nx ae s kcl m iy dx ih kcl k eh r iy ix nx oy l iy r ae gcl g l ay kcl k dh ae tcl h#\n",
            "h# d o w nx ae s kcl m iy dx ih kcl k eh r iy ix nx oh y l iy r ae gcl g l a y kcl k dh ae tcl h#\n",
            "h# t ao r n ey dx ow z q ao f ix n dcl d ix s tcl t r oy ey kcl k axr z ax v f aa r m l ae n dcl d h#\n",
            "h# t ao r n e y dx o w z q ao f ix n dcl d ix s tcl t r oh y e y kcl k axr z ax v f aa r m l ae n dcl d h#\n",
            "h# hh aw dcl d uw oy s tcl t axr z epi m ey kcl p er l z h#\n",
            "h# hh a w dcl d uw oh y s tcl t axr z epi m e y kcl p er l z h#\n",
            "h# d ow n tcl t ae s kcl k m iy dx ix kcl k eh r iy ix n q oy l iy r ae gcl g l ay kcl dh ae tcl t h#\n",
            "h# d o w n tcl t ae s kcl k m iy dx ix kcl k eh r iy ix n q oh y l iy r ae gcl g l a y kcl dh ae tcl t h#\n",
            "h# d ow n q ae s pau m iy tcl t ax-h kcl k eh r iy ix n q oy l iy r ae gcl g l ay kcl dh ae tcl h#\n",
            "h# d o w n q ae s pau m iy tcl t ax-h kcl k eh r iy ix n q oh y l iy r ae gcl g l a y kcl dh ae tcl h#\n",
            "h# d ow nx ae s kcl m iy dx ix kcl k eh r iy ix n oy l iy r ae gcl g l ay kcl dh ae tcl h#\n",
            "h# d o w nx ae s kcl m iy dx ix kcl k eh r iy ix n oh y l iy r ae gcl g l a y kcl dh ae tcl h#\n",
            "h# t ao r nx ey dx ow z ao f en d ix s tcl t r oy q ey kcl k axr z ax f aa r m l ae n dcl h#\n",
            "h# t ao r nx e y dx o w z ao f en d ix s tcl t r oh y q e y kcl k axr z ax f aa r m l ae n dcl h#\n",
            "h# d ih ae ng r ih bcl b oy ae n tcl sh axr dcl b ah tcl d ih dcl d en l uh kcl ah pcl h#\n",
            "h# d ih ae ng r ih bcl b oh y ae n tcl sh axr dcl b ah tcl d ih dcl d en l uh kcl ah pcl h#\n",
            "h# d ow nx ae s epi m iy dx ix kcl k eh r iy ix n q oy l iy r ae gcl l ay kcl dh ae tcl h#\n",
            "h# d o w nx ae s epi m iy dx ix kcl k eh r iy ix n q oh y l iy r ae gcl l a y kcl dh ae tcl h#\n",
            "h# d ow nx ae s epi m iy dx ix kcl k eh r iy q ix n oy l iy r ae gcl g l ay kcl dh ae tcl h#\n",
            "h# d o w nx ae s epi m iy dx ix kcl k eh r iy q ix n oh y l iy r ae gcl g l a y kcl dh ae tcl h#\n",
            "h# q ae l r ix s iy dcl d ix dcl jh oy nx ix pcl p oy n tcl m ax n tcl ix n dh ix bcl b aa ao l ax dcl jh iy q ae n dh iy ix n dcl jh en er ix ng dcl d ix pcl p aa r tcl m en tcl t s h#\n",
            "h# q ae l r ix s iy dcl d ix dcl jh oh y nx ix pcl p oh y n tcl m ax n tcl ix n dh ix bcl b aa ao l ax dcl jh iy q ae n dh iy ix n dcl jh en er ix ng dcl d ix pcl p aa r tcl m en tcl t s h#\n",
            "h# dh iy q iy z ix gcl g ow ix ng z ux aa l ax dcl jh ix s r ix l ae kcl k s th r uh ow tcl dh ax v oy ix dcl jh h#\n",
            "h# dh iy q iy z ix gcl g o w ix ng z ux aa l ax dcl jh ix s r ix l ae kcl k s th r uh o w tcl dh ax v oh y ix dcl jh h#\n",
            "h# d ow nx ae s kcl m iy tcl t ix kcl k eh r iy ix n q oy l ix r ae gcl g l ay kcl dh ae tcl h#\n",
            "h# d o w nx ae s kcl m iy tcl t ix kcl k eh r iy ix n q oh y l ix r ae gcl g l a y kcl dh ae tcl h#\n",
            "h# l ah l ax bcl b ay ix n gcl g uh dcl n ay tcl t hh ix z v oy sh uh kcl k h#\n",
            "h# l ah l ax bcl b a y ix n gcl g uh dcl n a y tcl t hh ix z v oh y sh uh kcl k h#\n",
            "h# r oy ih gcl n ao r dcl dh ix s pcl p er iy ih s dcl d ey dx ix pcl p oy s ix n dcl d r ao ix ng dh ix gcl g r ae f h#\n",
            "h# r oh y ih gcl n ao r dcl dh ix s pcl p er iy ih s dcl d e y dx ix pcl p oh y s ix n dcl d r ao ix ng dh ix gcl g r ae f h#\n",
            "h# k aw n tcl dh ax n ah m b er ix v tcl t iy s pcl p ux n z ax v s oy s ao s dh eh q y uw ae dcl d h#\n",
            "h# k a w n tcl dh ax n ah m b er ix v tcl t iy s pcl p ux n z ax v s oh y s ao s dh eh q y uw ae dcl d h#\n",
            "h# d ow n ae s kcl k m iy tcl t ix kcl k eh r iy ih n oy l iy r ae gcl g l ay kcl k dh ae tcl t h#\n",
            "h# d o w n ae s kcl k m iy tcl t ix kcl k eh r iy ih n oh y l iy r ae gcl g l a y kcl k dh ae tcl t h#\n",
            "h# jh eh f s tcl t oy gcl g ow kcl k aa r tcl n eh v axr w er kcl t h#\n",
            "h# jh eh f s tcl t oh y gcl g o w kcl k aa r tcl n eh v axr w er kcl t h#\n",
            "h# d ow nx ae s epi m iy dx ix kcl k eh r iy ix n oy l iy r ae gcl g l ay kcl dh ae tcl h#\n",
            "h# d o w nx ae s epi m iy dx ix kcl k eh r iy ix n oh y l iy r ae gcl g l a y kcl dh ae tcl h#\n",
            "h# d ow n ae s kcl m iy tcl t ux kcl k eh r iy ix n oy l iy r ae gcl g l ay kcl k th ae tcl t h#\n",
            "h# d o w n ae s kcl m iy tcl t ux kcl k eh r iy ix n oh y l iy r ae gcl g l a y kcl k th ae tcl t h#\n",
            "h# d ow n q ae s kcl k m iy tcl t ix kcl k ih r iy q eh n q oy l iy r ae gcl g l ay kcl dh ae tcl h#\n",
            "h# d o w n q ae s kcl k m iy tcl t ix kcl k ih r iy q eh n q oh y l iy r ae gcl g l a y kcl dh ae tcl h#\n",
            "h# s tcl t iy v kcl k ax l eh kcl k s epi r eh r q eh n aa l v kcl k oy n z h#\n",
            "h# s tcl t iy v kcl k ax l eh kcl k s epi r eh r q eh n aa l v kcl k oh y n z h#\n",
            "h# dh ix q iy z iy gcl g ow ix ng z ow aa l ix dcl jh ih s r ix l ae kcl s th r ux aw tcl dh ix v oy ix dcl jh h#\n",
            "h# dh ix q iy z iy gcl g o w ix ng z o w aa l ix dcl jh ih s r ix l ae kcl s th r ux a w tcl dh ix v oh y ix dcl jh h#\n",
            "h# d ow nx ae s kcl m iy tcl t ix kcl k ih r iy eh n oy l iy r ae gcl g l ay kcl dh ae tcl h#\n",
            "h# d o w nx ae s kcl m iy tcl t ix kcl k ih r iy eh n oh y l iy r ae gcl g l a y kcl dh ae tcl h#\n",
            "h# dh iy ih n oy ih ng r ae kcl k ux n z pau s l ih pcl t q eh n tcl t ux f ih l z gcl g aa r dcl en q eh v r iy n ay tcl t h#\n",
            "h# dh iy ih n oh y ih ng r ae kcl k ux n z pau s l ih pcl t q eh n tcl t ux f ih l z gcl g aa r dcl en q eh v r iy n a y tcl t h#\n",
            "h# y ux th ih ng kcl k s ah m bcl b aa dx iy ix z gcl g oy ng dcl d ix s tcl t ae n dcl d ah pcl p ix n ah q aa dx iy eh n tcl s eh m ey kcl g ih l tcl t ix f ey s eh z h#\n",
            "h# y ux th ih ng kcl k s ah m bcl b aa dx iy ix z gcl g oh y ng dcl d ix s tcl t ae n dcl d ah pcl p ix n ah q aa dx iy eh n tcl s eh m e y kcl g ih l tcl t ix f e y s eh z h#\n",
            "h# d ow nx ae s kcl k m iy dx ix kcl k eh r ih ix nx oy l ix r ae gcl g l ay kcl k dh ae tcl h#\n",
            "h# d o w nx ae s kcl k m iy dx ix kcl k eh r ih ix nx oh y l ix r ae gcl g l a y kcl k dh ae tcl h#\n",
            "h# d ow n ae s kcl m iy dx ih kcl k ih r iy eh n q oy l iy r ae gcl g l ay kcl k dh ae tcl h#\n",
            "h# d o w n ae s kcl m iy dx ih kcl k ih r iy eh n q oh y l iy r ae gcl g l a y kcl k dh ae tcl h#\n",
            "h# ax l oy y er w ah z ax pcl p oy nx ih dcl t ix q eh kcl k s ix kcl k y ux hv er w ih l h#\n",
            "h# ax l oh y y er w ah z ax pcl p oh y nx ih dcl t ix q eh kcl k s ix kcl k y ux hv er w ih l h#\n",
            "h# th ay r oy dcl d f ah ng kcl k sh ix n tcl t eh s tcl y iy l dcl ix dcl n ao r m el r ix z uh l tcl t s h#\n",
            "h# th a y r oh y dcl d f ah ng kcl k sh ix n tcl t eh s tcl y iy l dcl ix dcl n ao r m el r ix z uh l tcl t s h#\n",
            "h# d ow n tcl q ae s kcl m iy dx ix kcl k ih r iy ix n q oy l iy r ae gcl g l ay kcl dh ae tcl h#\n",
            "h# d o w n tcl q ae s kcl m iy dx ix kcl k ih r iy ix n q oh y l iy r ae gcl g l a y kcl dh ae tcl h#\n",
            "h# d ow nx ae s kcl k m iy tcl t ix kcl k ih r iy ix n q oy l iy r ae gcl g l ay kcl dh ae tcl h#\n",
            "h# d o w nx ae s kcl k m iy tcl t ix kcl k ih r iy ix n q oh y l iy r ae gcl g l a y kcl dh ae tcl h#\n",
            "h# g ah s ao pcl p ay n t r iy z ix n r eh dcl w uh dcl z q ao n hv ix z epi w ao kcl k th r ux s ix kcl k oy ix n ae sh en el f ao axr s tcl t h#\n",
            "h# g ah s ao pcl p a y n t r iy z ix n r eh dcl w uh dcl z q ao n hv ix z epi w ao kcl k th r ux s ix kcl k oh y ix n ae sh en el f ao axr s tcl t h#\n",
            "h# dh eh r gcl g oy n tcl t ix l aw s epi m iy ah pcl p gcl g uh dcl h#\n",
            "h# dh eh r gcl g oh y n tcl t ix l a w s epi m iy ah pcl p gcl g uh dcl h#\n",
            "h# d ow n q ae s kcl m iy tcl t ix kcl k eh r ih ix n q oy l iy r ae gcl g l ay kcl dh ae tcl t h#\n",
            "h# d o w n q ae s kcl m iy tcl t ix kcl k eh r ih ix n q oh y l iy r ae gcl g l a y kcl dh ae tcl t h#\n",
            "h# d ow nx ae s kcl m iy tcl t ux kcl k eh r iy ix n q oy l iy r ae gcl g l ay kcl k dh ae q h#\n",
            "h# d o w nx ae s kcl m iy tcl t ux kcl k eh r iy ix n q oh y l iy r ae gcl g l a y kcl k dh ae q h#\n",
            "h# dh ix bcl b eh er kcl k ux dx axr r iy kcl k oy el dcl d f em dh ix s er pcl p ix n t s pcl p oy z ix n ih s f ae ng gcl z h#\n",
            "h# dh ix bcl b eh er kcl k ux dx axr r iy kcl k oh y el dcl d f em dh ix s er pcl p ix n t s pcl p oh y z ix n ih s f ae ng gcl z h#\n",
            "h# d ow nx ae s kcl m iy dx ih kcl k eh r iy ix n q oy l ix r ae gcl g l ay kcl dh ae tcl t h#\n",
            "h# d o w nx ae s kcl m iy dx ih kcl k eh r iy ix n q oh y l ix r ae gcl g l a y kcl dh ae tcl t h#\n",
            "h# d ow nx ae s kcl m iy dx iy kcl k eh r iy ix nx oy l iy r ae gcl l ay kcl dh ae tcl h#\n",
            "h# d o w nx ae s kcl m iy dx iy kcl k eh r iy ix nx oh y l iy r ae gcl l a y kcl dh ae tcl h#\n",
            "h# d ow n tcl t q ae s kcl k m iy tcl t ix kcl k eh r iy ix n q oy l iy r ae gcl g l ay kcl k dh ae ah tcl t h#\n",
            "h# d o w n tcl t q ae s kcl k m iy tcl t ix kcl k eh r iy ix n q oh y l iy r ae gcl g l a y kcl k dh ae ah tcl t h#\n",
            "h# d ow nx ae s kcl m iy tcl t ix kcl k ih r iy eh n pau q oy l iy r ae gcl g l ay kcl dh ae tcl t h#\n",
            "h# d o w nx ae s kcl m iy tcl t ix kcl k ih r iy eh n pau q oh y l iy r ae gcl g l a y kcl dh ae tcl t h#\n",
            "h# t er nx ey dx ow z ao f ix n dcl d ih s tcl t r oy ey kcl k er z ix v f aa r m l ae n dcl d h#\n",
            "h# t er nx e y dx o w z ao f ix n dcl d ih s tcl t r oh y e y kcl k er z ix v f aa r m l ae n dcl d h#\n",
            "h# d ow n ae s kcl m iy tcl t ix kcl k eh r iy q ax n oy l iy r ae gcl g l ay kcl dh ae tcl t h#\n",
            "h# d o w n ae s kcl m iy tcl t ix kcl k eh r iy q ax n oh y l iy r ae gcl g l a y kcl dh ae tcl t h#\n",
            "h# q ix kcl k aa nx ix s uw r w uh l ix n dcl jh oy dh ih sh eh l f ix sh dcl d ix sh h#\n",
            "h# q ix kcl k aa nx ix s uw r w uh l ix n dcl jh oh y dh ih sh eh l f ix sh dcl d ix sh h#\n",
            "h# d ow nx ae s kcl m iy tcl t ix kcl k eh r ih ix n q oy l ih r ae gcl l ay kcl t ae tcl h#\n",
            "h# d o w nx ae s kcl m iy tcl t ix kcl k eh r ih ix n q oh y l ih r ae gcl l a y kcl t ae tcl h#\n",
            "h# d ow n q ae s epi m iy tcl t ax-h kcl k eh r iy ix n q oy l iy r ae gcl g l ay kcl k dh ae tcl h#\n",
            "h# d o w n q ae s epi m iy tcl t ax-h kcl k eh r iy ix n q oh y l iy r ae gcl g l a y kcl k dh ae tcl h#\n",
            "h# d ow nx ae s epi m iy tcl t ux kcl k eh r iy ix n q oy l iy r ae gcl g l ay kcl k dh ae tcl t h#\n",
            "h# d o w nx ae s epi m iy tcl t ux kcl k eh r iy ix n q oh y l iy r ae gcl g l a y kcl k dh ae tcl t h#\n",
            "h# dh iy bcl b eh r ih kcl k ux dx ix r iy kcl k ao l dcl d f r ax m dh ax s er pcl p ax n tcl s pcl p oy z en ax s f ae ng gcl g s h#\n",
            "h# dh iy bcl b eh r ih kcl k ux dx ix r iy kcl k ao l dcl d f r ax m dh ax s er pcl p ax n tcl s pcl p oh y z en ax s f ae ng gcl g s h#\n",
            "h# q ey v oy s pcl p ow kcl n ih r ix tcl hv ae n dcl d h#\n",
            "h# q e y v oh y s pcl p o w kcl n ih r ix tcl hv ae n dcl d h#\n",
            "h# d ow n ae s epi m ix dx ix kcl k eh r iy ix n q oy l iy r ae gcl g l ay kcl dh ae tcl t h#\n",
            "h# d o w n ae s epi m ix dx ix kcl k eh r iy ix n q oh y l iy r ae gcl g l a y kcl dh ae tcl t h#\n",
            "h# q ay ey tcl q eh v r iy oy s tcl t axr aa n ao r ax z pcl p l ey tcl t h#\n",
            "h# q a y e y tcl q eh v r iy oh y s tcl t axr aa n ao r ax z pcl p l e y tcl t h#\n",
            "h# d ow nx ae s kcl k m iy dx ix kcl k eh r iy ix n q oy l iy r ae gcl g l ay kcl dh ae tcl h#\n",
            "h# d o w nx ae s kcl k m iy dx ix kcl k eh r iy ix n q oh y l iy r ae gcl g l a y kcl dh ae tcl h#\n",
            "h# d ow n tcl ae s kcl m iy tcl t ix kcl k eh r iy ax n q oy l iy r ae gcl g l ay kcl k dh ae tcl h#\n",
            "h# d o w n tcl ae s kcl m iy tcl t ix kcl k eh r iy ax n q oh y l iy r ae gcl g l a y kcl k dh ae tcl h#\n",
            "h# dh iy ix n oy ix ng r ae kcl k ux n s l ih pcl t ix n tcl t ux f ih l z gcl g aa r dcl en q eh v r iy n ay tcl h#\n",
            "h# dh iy ix n oh y ix ng r ae kcl k ux n s l ih pcl t ix n tcl t ux f ih l z gcl g aa r dcl en q eh v r iy n a y tcl h#\n",
            "h# d ow nx ae s kcl m iy dx ix kcl k ih r iy ix n oy l iy r ae gcl l ay kcl dh ae tcl h#\n",
            "h# d o w nx ae s kcl m iy dx ix kcl k ih r iy ix n oh y l iy r ae gcl l a y kcl dh ae tcl h#\n",
            "h# ih f dh ey er n aa tcl ih l ih pcl s oy dcl z dh ix kcl k ix n kcl k l ux zh ix n z w el bcl b iy ih r iy z en ix bcl b el ax pcl p r aa kcl k s ix m ey sh en h#\n",
            "h# ih f dh e y er n aa tcl ih l ih pcl s oh y dcl z dh ix kcl k ix n kcl k l ux zh ix n z w el bcl b iy ih r iy z en ix bcl b el ax pcl p r aa kcl k s ix m e y sh en h#\n",
            "h# w uh dx ax tcl t aa m bcl b oy ao f tcl t ax n pcl p l ey aw tcl d ao axr z h#\n",
            "h# w uh dx ax tcl t aa m bcl b oh y ao f tcl t ax n pcl p l e y a w tcl d ao axr z h#\n",
            "h# g ah s ao pcl p aa n tcl t r iy z en r eh dcl w uh dcl d z ow nx ix z w ao kcl k th r uw s ax kcl k oy y ah n ae sh epi en el f ao r ix s tcl t h#\n",
            "h# g ah s ao pcl p aa n tcl t r iy z en r eh dcl w uh dcl d z o w nx ix z w ao kcl k th r uw s ax kcl k oh y y ah n ae sh epi en el f ao r ix s tcl t h#\n",
            "h# hh aw q oy l iy dcl d ux y ux l ay kcl k y axr s aa l ax dcl d r eh s iy ng h#\n",
            "h# hh a w q oh y l iy dcl d ux y ux l a y kcl k y axr s aa l ax dcl d r eh s iy ng h#\n",
            "h# d ow nx ae s kcl m iy tcl t ix kcl k eh r iy ix n q oy l iy r ae gcl g l ay kcl dh ae tcl t h#\n",
            "h# d o w nx ae s kcl m iy tcl t ix kcl k eh r iy ix n q oh y l iy r ae gcl g l a y kcl dh ae tcl t h#\n",
            "h# ey kcl k aa nx ah s uh er q w ax l ix n dcl jh oy dh ih sh eh l f ih sh dcl d ih sh h#\n",
            "h# e y kcl k aa nx ah s uh er q w ax l ix n dcl jh oh y dh ih sh eh l f ih sh dcl d ih sh h#\n",
            "h# d ow nx ae s epi m iy dx ix kcl k eh r ih n oy l iy r ae gcl g l ay kcl t ae q h#\n",
            "h# d o w nx ae s epi m iy dx ix kcl k eh r ih n oh y l iy r ae gcl g l a y kcl t ae q h#\n",
            "h# d ow n ae s kcl m ih dx ix kcl k eh r iy eh n oy l ix r ae gcl g l ay kcl k dh ae q h#\n",
            "h# d o w n ae s kcl m ih dx ix kcl k eh r iy eh n oh y l ix r ae gcl g l a y kcl k dh ae q h#\n",
            "h# d ay ae n m ey s pcl p l er dcl jh em bcl b aa tcl t axr kcl k oy z n eh kcl k l ax s h#\n",
            "h# d a y ae n m e y s pcl p l er dcl jh em bcl b aa tcl t axr kcl k oh y z n eh kcl k l ax s h#\n",
            "h# dh iy ih n oy ih ng r ae kcl k uw n s epi l ih pcl t ih n dcl d ix f ih l z gcl g aa r dcl en eh v r ix n ay tcl h#\n",
            "h# dh iy ih n oh y ih ng r ae kcl k uw n s epi l ih pcl t ih n dcl d ix f ih l z gcl g aa r dcl en eh v r ix n a y tcl h#\n",
            "h# d ow nx ae s kcl m iy dx ix kcl k eh r ih ix nx oy l iy r ae gcl l ay kcl dh ae tcl h#\n",
            "h# d o w nx ae s kcl m iy dx ix kcl k eh r ih ix nx oh y l iy r ae gcl l a y kcl dh ae tcl h#\n",
            "h# w uh dx ix tcl t aa m bcl b oy aa f ax n pcl p l ey aw q d ao r z h#\n",
            "h# w uh dx ix tcl t aa m bcl b oh y aa f ax n pcl p l e y a w q d ao r z h#\n",
            "h# d ow n ae s epi m iy dx ix kcl k eh r iy ih n q oy l iy r ae gcl g l ay kcl dh ae tcl t h#\n",
            "h# d o w n ae s epi m iy dx ix kcl k eh r iy ih n q oh y l iy r ae gcl g l a y kcl dh ae tcl t h#\n",
            "h# hh iy hv ae dx ix kcl k ao r dx ih ng l iy kcl k ah l tcl t ax v ey dx ix dcl d q eh kcl k s eh n tcl t r ih s dcl d iy tcl t uw dh ax pcl p oy n d ax v s eh kcl k ix n ey tcl ch axr h#\n",
            "h# hh iy hv ae dx ix kcl k ao r dx ih ng l iy kcl k ah l tcl t ax v e y dx ix dcl d q eh kcl k s eh n tcl t r ih s dcl d iy tcl t uw dh ax pcl p oh y n d ax v s eh kcl k ix n e y tcl ch axr h#\n",
            "h# d ow n q ae s kcl m iy tcl t ix kcl k eh r iy ix n q oy l iy r ae gcl g l ay kcl k dh ae tcl t h#\n",
            "h# d o w n q ae s kcl m iy tcl t ix kcl k eh r iy ix n q oh y l iy r ae gcl g l a y kcl k dh ae tcl t h#\n",
            "h# d ow n ae s kcl m ix tcl t ax-h kcl k eh r ih nx oy l ix r ae gcl g l ay kcl t ae tcl h#\n",
            "h# d o w n ae s kcl m ix tcl t ax-h kcl k eh r ih nx oh y l ix r ae gcl g l a y kcl t ae tcl h#\n",
            "h# d ay ae n m ey s pcl p l er dcl jh em bcl b ay ix tcl t er kcl k w oy z epi n eh kcl k l ax s h#\n",
            "h# d a y ae n m e y s pcl p l er dcl jh em bcl b a y ix tcl t er kcl k w oh y z epi n eh kcl k l ax s h#\n",
            "h# d ow n tcl t q ae s kcl k m iy tcl t ux kcl k eh r iy ix n q oy l iy r ae gcl g l ay kcl k dh ae tcl h#\n",
            "h# d o w n tcl t q ae s kcl k m iy tcl t ux kcl k eh r iy ix n q oh y l iy r ae gcl g l a y kcl k dh ae tcl h#\n",
            "h# ay l hv ae v ax s kcl k uw pcl p ax v dh ae dx ix gcl g z aa dx ix kcl p er pcl p el eh n dcl t er kcl k oy z pau sh er bcl b axr tcl h#\n",
            "h# a y l hv ae v ax s kcl k uw pcl p ax v dh ae dx ix gcl g z aa dx ix kcl p er pcl p el eh n dcl t er kcl k oh y z pau sh er bcl b axr tcl h#\n",
            "h# d ow n q ae s kcl k m iy dcl d ih kcl k eh r ih ix n q oy l iy r ey gcl g l ay kcl dh ae tcl h#\n",
            "h# d o w n q ae s kcl k m iy dcl d ih kcl k eh r ih ix n q oh y l iy r e y gcl g l a y kcl dh ae tcl h#\n",
            "h# jh eh f s tcl t oy gcl g ow kcl k aa r tcl t pau n eh v axr w er kcl k tcl t h#\n",
            "h# jh eh f s tcl t oh y gcl g o w kcl k aa r tcl t pau n eh v axr w er kcl k tcl t h#\n",
            "h# d ow nx ae s kcl m ix dx ix kcl k eh r iy ix n epi oy l iy r ae gcl g l ay kcl dh ae tcl t h#\n",
            "h# d o w nx ae s kcl m ix dx ix kcl k eh r iy ix n epi oh y l iy r ae gcl g l a y kcl dh ae tcl t h#\n",
            "h# d ow n ae s kcl m iy dx ix kcl k eh r iy ix n q oy l iy r ae gcl g l ay kcl dh ae tcl h#\n",
            "h# d o w n ae s kcl m iy dx ix kcl k eh r iy ix n q oh y l iy r ae gcl g l a y kcl dh ae tcl h#\n",
            "h# d ay ae n m ey s pcl p l er dcl jh ix n bcl b ay eh tcl t er kcl k oy z epi n eh kcl k l ax s h#\n",
            "h# d a y ae n m e y s pcl p l er dcl jh ix n bcl b a y eh tcl t er kcl k oh y z epi n eh kcl k l ax s h#\n",
            "h# dh pcl p ey pcl p axr bcl b oy bcl b ao tcl t ux ae pcl p el z ix n th r iy ay s ix z h#\n",
            "h# dh pcl p e y pcl p axr bcl b oh y bcl b ao tcl t ux ae pcl p el z ix n th r iy a y s ix z h#\n",
            "h# d ow nx ae s epi m iy dx ix kcl k eh r iy ix n q oy l iy r ae gcl g l ay kcl dh ae tcl h#\n",
            "h# d o w nx ae s epi m iy dx ix kcl k eh r iy ix n q oh y l iy r ae gcl g l a y kcl dh ae tcl h#\n",
            "h# d ow n ae s kcl k m iy dx ix kcl k eh r iy ix n oy l ix r ae gcl g l ay kcl dh ae tcl hh h#\n",
            "h# d o w n ae s kcl k m iy dx ix kcl k eh r iy ix n oh y l ix r ae gcl g l a y kcl dh ae tcl hh h#\n",
            "h# d ow n q ae s kcl m ih dx ix kcl k eh r iy eh n oy l ix r ae gcl g l ay kcl k dh ae tcl h#\n",
            "h# d o w n q ae s kcl m ih dx ix kcl k eh r iy eh n oh y l ix r ae gcl g l a y kcl k dh ae tcl h#\n",
            "h# s tcl t iy v kcl k ax l eh kcl k s epi r eh r eh n aa v el kcl k oy n z h#\n",
            "h# s tcl t iy v kcl k ax l eh kcl k s epi r eh r eh n aa v el kcl k oh y n z h#\n",
            "h# d ow nx ae s epi m iy dx ax kcl k er iy ix n q oy l iy r ae gcl g l ay kcl k dh ae tcl h#\n",
            "h# d o w nx ae s epi m iy dx ax kcl k er iy ix n q oh y l iy r ae gcl g l a y kcl k dh ae tcl h#\n",
            "h# d ow nx ae s epi m iy tcl t ix kcl k ih r iy ix n oy l iy r ae gcl l ay kcl dh ae tcl h#\n",
            "h# d o w nx ae s epi m iy tcl t ix kcl k ih r iy ix n oh y l iy r ae gcl l a y kcl dh ae tcl h#\n",
            "h# q ey l oy er w ih z ix pcl p oy nx eh dcl t ux q eh kcl k s ix kcl k y ux tcl t hh axr w eh l h#\n",
            "h# q e y l oh y er w ih z ix pcl p oh y nx eh dcl t ux q eh kcl k s ix kcl k y ux tcl t hh axr w eh l h#\n",
            "h# d ow n tcl ae s kcl m iy tcl t ax-h kcl k eh r iy ix n q oy l iy r ae gcl g l ay kcl dh ae tcl t h#\n",
            "h# d o w n tcl ae s kcl m iy tcl t ax-h kcl k eh r iy ix n q oh y l iy r ae gcl g l a y kcl dh ae tcl t h#\n",
            "h# d ow n q ae s kcl m iy tcl t ix kcl k eh r iy ix n q oy l iy r ae gcl g l ay kcl dh ae tcl h#\n",
            "h# d o w n q ae s kcl m iy tcl t ix kcl k eh r iy ix n q oh y l iy r ae gcl g l a y kcl dh ae tcl h#\n",
            "h# d ow nx ae s epi m iy dx ix kcl k eh r en q oy l ix r ey gcl g l ay kcl dh ae tcl h#\n",
            "h# d o w nx ae s epi m iy dx ix kcl k eh r en q oh y l ix r e y gcl g l a y kcl dh ae tcl h#\n",
            "h# p l oy iy l ey ao s kcl k ao ax n s ay dx ix dcl d w ix th ix kcl k ah m pcl p en iy z r iy ao r gcl ix nx ay z ey sh en h#\n",
            "h# p l oh y iy l e y ao s kcl k ao ax n s a y dx ix dcl d w ix th ix kcl k ah m pcl p en iy z r iy ao r gcl ix nx a y z e y sh en h#\n",
            "h# ay gcl g ey v dh ah m s eh v r el tcl ch oy s ih z eh n l eh tcl dh eh m s eh tcl dh ix pcl p r ay axr r ix tcl t iy s h#\n",
            "h# a y gcl g e y v dh ah m s eh v r el tcl ch oh y s ih z eh n l eh tcl dh eh m s eh tcl dh ix pcl p r a y axr r ix tcl t iy s h#\n",
            "h# t ow f uw ih z m ey dcl f r em pcl p r aa s eh s oy bcl b iy n z h#\n",
            "h# t o w f uw ih z m e y dcl f r em pcl p r aa s eh s oh y bcl b iy n z h#\n",
            "h# d ow n ae s kcl m iy dx ih kcl k eh r iy ix n oy l iy r ae gcl g l ay kcl k dh ae tcl t h#\n",
            "h# d o w n ae s kcl m iy dx ih kcl k eh r iy ix n oh y l iy r ae gcl g l a y kcl k dh ae tcl t h#\n",
            "h# d ow nx ae s kcl m iy tcl t ux kcl k eh r iy ix nx ah q oy l iy r ae gcl g l ay kcl dh ae tcl h#\n",
            "h# d o w nx ae s kcl m iy tcl t ux kcl k eh r iy ix nx ah q oh y l iy r ae gcl g l a y kcl dh ae tcl h#\n",
            "h# d ow nx ae s kcl m ix dx ix kcl k ih r iy ix n oy l iy r ae gcl g l ay kcl k dh ae tcl h#\n",
            "h# d o w nx ae s kcl m ix dx ix kcl k ih r iy ix n oh y l iy r ae gcl g l a y kcl k dh ae tcl h#\n",
            "h# t ao r n ey dx ow z ao f tcl t ix n dcl d ih s tcl t r oy q ey kcl k er z ax v f aa r m l ae n dcl d h#\n",
            "h# t ao r n e y dx o w z ao f tcl t ix n dcl d ih s tcl t r oh y q e y kcl k er z ax v f aa r m l ae n dcl d h#\n",
            "h# dh iy q iy z iy gcl g ow iy ng z uw aa l ix dcl jh ih s tcl t r ix l ae kcl s tcl t th r ix aw tcl dh ax v oy ix dcl jh h#\n",
            "h# dh iy q iy z iy gcl g o w iy ng z uw aa l ix dcl jh ih s tcl t r ix l ae kcl s tcl t th r ix a w tcl dh ax v oh y ix dcl jh h#\n",
            "h# d ow nx ae s epi m iy dx iy kcl k eh r iy ih nx oy l iy r ae gcl g l ay kcl dh ae tcl t h#\n",
            "h# d o w nx ae s epi m iy dx iy kcl k eh r iy ih nx oh y l iy r ae gcl g l a y kcl dh ae tcl t h#\n",
            "h# q ay gcl g ey v dh ix m s eh v r ix l tcl ch oy s ix z ax n l eh tcl dh eh m s eh tcl dh ix pcl p r ay ao r dx iy z h#\n",
            "h# q a y gcl g e y v dh ix m s eh v r ix l tcl ch oh y s ix z ax n l eh tcl dh eh m s eh tcl dh ix pcl p r a y ao r dx iy z h#\n",
            "h# t ow f ux q ix z epi m ey dcl f axr m pcl p r aa s ix s oy bcl b iy n z h#\n",
            "h# t o w f ux q ix z epi m e y dcl f axr m pcl p r aa s ix s oh y bcl b iy n z h#\n",
            "h# d ow nx ae s epi m iy dx ix kcl k eh r iy ix n oy l iy r ae gcl g l ay kcl k dh ae tcl h#\n",
            "h# d o w nx ae s epi m iy dx ix kcl k eh r iy ix n oh y l iy r ae gcl g l a y kcl k dh ae tcl h#\n",
            "h# d ow nx ae s kcl m iy dx ix kcl k ih r ih n ix q oy l iy r ae gcl g l ay kcl k dh ae tcl h#\n",
            "h# d o w nx ae s kcl m iy dx ix kcl k ih r ih n ix q oh y l iy r ae gcl g l a y kcl k dh ae tcl h#\n",
            "h# d ow nx ae s kcl m iy dcl d ix kcl k eh r iy ix n q oy l ix r ae gcl g l ay kcl dh ae tcl h#\n",
            "h# d o w nx ae s kcl m iy dcl d ix kcl k eh r iy ix n q oh y l ix r ae gcl g l a y kcl dh ae tcl h#\n",
            "h# ix m pcl p l oy ix q l ey ao f s kcl k ow ix n tcl t s ay dcl d ih dcl d w ix th ix kcl k ah m pcl p en iy z epi r ix ao r gcl g ix n ix z ey sh en h#\n",
            "h# ix m pcl p l oh y ix q l e y ao f s kcl k o w ix n tcl t s a y dcl d ih dcl d w ix th ix kcl k ah m pcl p en iy z epi r ix ao r gcl g ix n ix z e y sh en h#\n",
            "h# hh q aw q oy l iy dcl d ix ux l ay kcl y axr s ae l ix dcl d r eh s epi eng h#\n",
            "h# hh q a w q oh y l iy dcl d ix ux l a y kcl y axr s ae l ix dcl d r eh s epi eng h#\n",
            "h# d ow n q ae s epi m iy dx iy kcl k eh r iy ix n q oy l iy r ae gcl g l ay kcl dh ae q h#\n",
            "h# d o w n q ae s epi m iy dx iy kcl k eh r iy ix n q oh y l iy r ae gcl g l a y kcl dh ae q h#\n",
            "h# q ax-h kcl k aa n ax s er w ax l ix n dcl jh oy dh ih s sh eh l f ih sh dcl d ih sh h#\n",
            "h# q ax-h kcl k aa n ax s er w ax l ix n dcl jh oh y dh ih s sh eh l f ih sh dcl d ih sh h#\n",
            "h# b ax w iy aa r q n tcl g oy ng tcl t ax-h l eh tcl ch ix gcl g ih v hv ih m eh n iy h#\n",
            "h# b ax w iy aa r q n tcl g oh y ng tcl t ax-h l eh tcl ch ix gcl g ih v hv ih m eh n iy h#\n",
            "h# d ow n ae s epi m iy tcl t ix kcl k eh r iy q ix n q oy l iy r ae gcl g l ay kcl dh ae tcl h#\n",
            "h# d o w n ae s epi m iy tcl t ix kcl k eh r iy q ix n q oh y l iy r ae gcl g l a y kcl dh ae tcl h#\n",
            "h# d ow nx ae s epi m iy dx ih kcl k eh r iy ix n oy l iy r ae gcl g l ay kcl dh ae tcl h#\n",
            "h# d o w nx ae s epi m iy dx ih kcl k eh r iy ix n oh y l iy r ae gcl g l a y kcl dh ae tcl h#\n",
            "h# dh iy ae ng r iy bcl b oy q ae n tcl s er dcl b ax tcl d ih dx en q l uh kcl k ah pcl p h#\n",
            "h# dh iy ae ng r iy bcl b oh y q ae n tcl s er dcl b ax tcl d ih dx en q l uh kcl k ah pcl p h#\n",
            "h# d ow n q ae s epi m iy dx ix kcl k eh r iy ih n q oy l iy r ae gcl g l ay kcl k dh ae tcl t h#\n",
            "h# d o w n q ae s epi m iy dx ix kcl k eh r iy ih n q oh y l iy r ae gcl g l a y kcl k dh ae tcl t h#\n",
            "h# d ow nx ae s kcl m iy dx ix kcl k eh r iy ih n q oy l iy r ae gcl g l ay kcl k dh ae tcl h#\n",
            "h# d o w nx ae s kcl m iy dx ix kcl k eh r iy ih n q oh y l iy r ae gcl g l a y kcl k dh ae tcl h#\n",
            "h# jh ao r dcl jh ix z pcl p eh r ix n oy dx ix bcl b aw dx ix f ux tcl ch axr gcl g ae sh ao r dx ih dcl jh h#\n",
            "h# jh ao r dcl jh ix z pcl p eh r ix n oh y dx ix bcl b a w dx ix f ux tcl ch axr gcl g ae sh ao r dx ih dcl jh h#\n",
            "h# d ow n q ae s epi m iy dx iy kcl k eh r iy ix nx ix q oy l iy r ae gcl g l ay kcl dh ae tcl h#\n",
            "h# d o w n q ae s epi m iy dx iy kcl k eh r iy ix nx ix q oh y l iy r ae gcl g l a y kcl dh ae tcl h#\n",
            "h# d ow nx ae s kcl k m iy tcl t ix kcl k ih r iy ix nx q oy l iy r ae gcl l ay kcl k dh ae tcl h#\n",
            "h# d o w nx ae s kcl k m iy tcl t ix kcl k ih r iy ix nx q oh y l iy r ae gcl l a y kcl k dh ae tcl h#\n",
            "h# d ow n q ae s epi m iy dx ix kcl k ih r iy ix n q oy l iy r ae gcl g l ay kcl dh ae tcl h#\n",
            "h# d o w n q ae s epi m iy dx ix kcl k ih r iy ix n q oh y l iy r ae gcl g l a y kcl dh ae tcl h#\n",
            "h# w uh dx ax tcl t aa m bcl b oy q ao f ax n pcl p l ey aw tcl d ao r z h#\n",
            "h# w uh dx ax tcl t aa m bcl b oh y q ao f ax n pcl p l e y a w tcl d ao r z h#\n",
            "h# jh eh f s tcl t oy gcl g ow kcl k aa r tcl n eh v axr w er kcl t h#\n",
            "h# jh eh f s tcl t oh y gcl g o w kcl k aa r tcl n eh v axr w er kcl t h#\n",
            "h# d ow n tcl ae s kcl m ix dx ix kcl k er iy n q oy l iy r ae gcl l ay kcl dh ae tcl h#\n",
            "h# d o w n tcl ae s kcl m ix dx ix kcl k er iy n q oh y l iy r ae gcl l a y kcl dh ae tcl h#\n",
            "h# hh ay ix s ux m oy s tcl ch axr w el dcl d ae m ix dcl jh dh ih s sh ih pcl p s hh ao l h#\n",
            "h# hh a y ix s ux m oh y s tcl ch axr w el dcl d ae m ix dcl jh dh ih s sh ih pcl p s hh ao l h#\n",
            "h# r oy ih gcl n ao r dcl dh ix s pcl p er iy ix s dcl d ey dx ix pcl p oy n t s en dcl d r ao ix ng dh ix gcl g r ae f h#\n",
            "h# r oh y ih gcl n ao r dcl dh ix s pcl p er iy ix s dcl d e y dx ix pcl p oh y n t s en dcl d r ao ix ng dh ix gcl g r ae f h#\n",
            "h# d ow nx ae s kcl m iy dx ih kcl k er iy ix nx oy l iy r ae gcl g l ay kcl k dh ae tcl h#\n",
            "h# d o w nx ae s kcl m iy dx ih kcl k er iy ix nx oh y l iy r ae gcl g l a y kcl k dh ae tcl h#\n",
            "h# d ow n q ae s kcl m iy tcl t ux kcl k ih r iy ih n oy l iy r ae gcl g l ay kcl d ae tcl h#\n",
            "h# d o w n q ae s kcl m iy tcl t ux kcl k ih r iy ih n oh y l iy r ae gcl g l a y kcl d ae tcl h#\n",
            "h# d ow nx ae s kcl m ix dx ix kcl k eh r iy ix nx q oy l iy ix r ae gcl g l ay kcl k dh ae tcl h#\n",
            "h# d o w nx ae s kcl m ix dx ix kcl k eh r iy ix nx q oh y l iy ix r ae gcl g l a y kcl k dh ae tcl h#\n",
            "h# w eh tcl q ao l s uh w ix dh ix m axr iy n z f ix tcl t iy gcl k s pau q ix n dh ix f ey s hv eh dx ih n q oy l iy f ih l m h#\n",
            "h# w eh tcl q ao l s uh w ix dh ix m axr iy n z f ix tcl t iy gcl k s pau q ix n dh ix f e y s hv eh dx ih n q oh y l iy f ih l m h#\n",
            "h# d ow nx ae s epi m iy tcl t kcl k eh r iy q ix n q oy l iy r ae gcl g l ay kcl dh ae tcl h#\n",
            "h# d o w nx ae s epi m iy tcl t kcl k eh r iy q ix n q oh y l iy r ae gcl g l a y kcl dh ae tcl h#\n",
            "h# d ow n ae s kcl f ix nx ix kcl k eh r iy ix n q oy l ix r ae gcl g l ay kcl dh ae tcl h#\n",
            "h# d o w n ae s kcl f ix nx ix kcl k eh r iy ix n q oh y l ix r ae gcl g l a y kcl dh ae tcl h#\n",
            "h# b oy y axr s tcl t er ix nx er l iy pau ax s l iy pcl p iy v oy s eh dcl d h#\n",
            "h# b oh y y axr s tcl t er ix nx er l iy pau ax s l iy pcl p iy v oh y s eh dcl d h#\n",
            "h# d ow nx eh s kcl m ix dx ix kcl k eh r iy ix nx oy l ix r eh gcl g l ay kcl dh ae tcl t h#\n",
            "h# d o w nx eh s kcl m ix dx ix kcl k eh r iy ix nx oh y l ix r eh gcl g l a y kcl dh ae tcl t h#\n",
            "h# d ay ae n m ey s pcl p l er dcl jh ix m bcl b ay tcl t er kcl k w oy z n eh kcl k l ih s h#\n",
            "h# d a y ae n m e y s pcl p l er dcl jh ix m bcl b a y tcl t er kcl k w oh y z n eh kcl k l ih s h#\n",
            "h# d ow n tcl t ae s kcl m ix dx ix kcl k eh r iy ix n q oy l iy r ae gcl g l ay kcl dh ae tcl t h#\n",
            "h# d o w n tcl t ae s kcl m ix dx ix kcl k eh r iy ix n q oh y l iy r ae gcl g l a y kcl dh ae tcl t h#\n",
            "h# d y ux hv ae v dh iy y eh l ow oy tcl m ax n r eh dx iy h#\n",
            "h# d y ux hv ae v dh iy y eh l o w oh y tcl m ax n r eh dx iy h#\n",
            "h# d ow nx ae s kcl m iy dx ix kcl k eh r iy ix n q oy l iy r ae gcl g l ay kcl dh ae tcl h#\n",
            "h# d o w nx ae s kcl m iy dx ix kcl k eh r iy ix n q oh y l iy r ae gcl g l a y kcl dh ae tcl h#\n",
            "h# dh ix iy z iy gcl g ow ix ng z uw aa l ax dcl ih s tcl r iy l ae kcl k s tcl th r ux aw tcl dh ax v oy ix dcl jh h#\n",
            "h# dh ix iy z iy gcl g o w ix ng z uw aa l ax dcl ih s tcl r iy l ae kcl k s tcl th r ux a w tcl dh ax v oh y ix dcl jh h#\n",
            "h# d ow nx ae s epi m iy dx ih kcl k eh r iy ix n oy l iy r ae gcl g l ay kcl k dh ae tcl h#\n",
            "h# d o w nx ae s epi m iy dx ih kcl k eh r iy ix n oh y l iy r ae gcl g l a y kcl k dh ae tcl h#\n",
            "h# d ow nx ae s kcl m iy tcl t ix kcl k eh r iy ix n q oy l ih r ae gcl g l ay kcl dh ae tcl t h#\n",
            "h# d o w nx ae s kcl m iy tcl t ix kcl k eh r iy ix n q oh y l ih r ae gcl g l a y kcl dh ae tcl t h#\n",
            "h# dh ix q ae ng gcl g r iy bcl b oy q ae n s axr dcl b ix tcl d ih dcl d en l uh kcl k q ah pcl h#\n",
            "h# dh ix q ae ng gcl g r iy bcl b oh y q ae n s axr dcl b ix tcl d ih dcl d en l uh kcl k q ah pcl h#\n",
            "h# d ow n tcl t ax q ae s epi m ix tcl t ix kcl k eh r iy q ix n q oy l iy r ae gcl g l ay kcl dh ae tcl t h#\n",
            "h# d o w n tcl t ax q ae s epi m ix tcl t ix kcl k eh r iy q ix n q oh y l iy r ae gcl g l a y kcl dh ae tcl t h#\n",
            "h# d ow n tcl q ae s kcl k epi m iy dx ix kcl k eh r iy ih n q oy l iy r ae gcl l ay kcl dh ae tcl t h#\n",
            "h# d o w n tcl q ae s kcl k epi m iy dx ix kcl k eh r iy ih n q oh y l iy r ae gcl l a y kcl dh ae tcl t h#\n",
            "h# dh iy ow v axr w ey tcl ch aa r m axr kcl k uh dcl d s l ih pcl p oy z en ih n tcl t q eh nx iy w ax n z tcl t iy h#\n",
            "h# dh iy o w v axr w e y tcl ch aa r m axr kcl k uh dcl d s l ih pcl p oh y z en ih n tcl t q eh nx iy w ax n z tcl t iy h#\n",
            "h# d ow nx ae s epi m iy dx ix kcl k eh r iy ix n q oy l iy r ae gcl g l ay kcl dh ae tcl h#\n",
            "h# d o w nx ae s epi m iy dx ix kcl k eh r iy ix n q oh y l iy r ae gcl g l a y kcl dh ae tcl h#\n",
            "h# d ow nx ae s epi m ix dx ix kcl k er iy pau ix n oy l ix r ae gcl g l ay kcl dh ae q h#\n",
            "h# d o w nx ae s epi m ix dx ix kcl k er iy pau ix n oh y l ix r ae gcl g l a y kcl dh ae q h#\n",
            "h# d ow n ae s epi m iy dx ix kcl k eh r iy ix n q oy l iy r ae gcl g l ay kcl dh ae tcl h#\n",
            "h# d o w n ae s epi m iy dx ix kcl k eh r iy ix n q oh y l iy r ae gcl g l a y kcl dh ae tcl h#\n",
            "h# d ow nx ae s kcl m iy tcl t ix kcl k eh r iy ix n oy l iy r ae gcl g l ay kcl k dh ae tcl h#\n",
            "h# d o w nx ae s kcl m iy tcl t ix kcl k eh r iy ix n oh y l iy r ae gcl g l a y kcl k dh ae tcl h#\n",
            "h# d ow nx ae s kcl k m ix nx iy kcl k eh r iy ix n ix q oy l iy r ae gcl g l ay kcl dh ae tcl h#\n",
            "h# d o w nx ae s kcl k m ix nx iy kcl k eh r iy ix n ix q oh y l iy r ae gcl g l a y kcl dh ae tcl h#\n",
            "h# w uh dx ix tcl t aa m bcl b oy ao f ax m pcl p l ey aw tcl d ao r z h#\n",
            "h# w uh dx ix tcl t aa m bcl b oh y ao f ax m pcl p l e y a w tcl d ao r z h#\n",
            "h# d ow n ae s kcl m iy dx ix kcl k ih r iy ix n q oy l iy r ae gcl g l ay kcl k dh ae tcl h#\n",
            "h# d o w n ae s kcl m iy dx ix kcl k ih r iy ix n q oh y l iy r ae gcl g l a y kcl k dh ae tcl h#\n",
            "h# d ow n tcl t ae s kcl m iy tcl t ax-h kcl k eh r iy ix n q oy l iy r ae gcl g l ay kcl dh ae tcl h#\n",
            "h# d o w n tcl t ae s kcl m iy tcl t ax-h kcl k eh r iy ix n q oh y l iy r ae gcl g l a y kcl dh ae tcl h#\n",
            "h# d ow n ae s kcl m ix dx ix kcl k eh r iy ix n oy l iy r ae gcl g l ay kcl k dh ae tcl h#\n",
            "h# d o w n ae s kcl m ix dx ix kcl k eh r iy ix n oh y l iy r ae gcl g l a y kcl k dh ae tcl h#\n",
            "h# d ow nx ae s epi m ih dx ix kcl k eh r iy ix n oy l iy r ae gcl l ay kcl dh ae tcl h#\n",
            "h# d o w nx ae s epi m ih dx ix kcl k eh r iy ix n oh y l iy r ae gcl l a y kcl dh ae tcl h#\n",
            "h# d ow nx ae s kcl m iy tcl t ix kcl k ih r iy ix n q oy l iy r ae gcl g l ay kcl k dh ae tcl t h#\n",
            "h# d o w nx ae s kcl m iy tcl t ix kcl k ih r iy ix n q oh y l iy r ae gcl g l a y kcl k dh ae tcl t h#\n",
            "h# d ow nx ae s kcl m iy dx uw kcl k eh r iy ix n oy l iy r ae gcl g l ay kcl k dh ae tcl h#\n",
            "h# d o w nx ae s kcl m iy dx uw kcl k eh r iy ix n oh y l iy r ae gcl g l a y kcl k dh ae tcl h#\n",
            "h# d ow n q ae s kcl m iy tcl t ux kcl k ih r iy eh n q oy l iy r ae gcl g l ay kcl k dh ae tcl h#\n",
            "h# d o w n q ae s kcl m iy tcl t ux kcl k ih r iy eh n q oh y l iy r ae gcl g l a y kcl k dh ae tcl h#\n",
            "h# hh ih z v oy s iy m d th ih kcl k ih n pcl p er pcl p ix s epi l ih s h#\n",
            "h# hh ih z v oh y s iy m d th ih kcl k ih n pcl p er pcl p ix s epi l ih s h#\n",
            "h# d ow nx ae s epi m iy ih kcl k ih r iy ix n q oy l iy r ae gcl l ay kcl dh ae tcl h#\n",
            "h# d o w nx ae s epi m iy ih kcl k ih r iy ix n q oh y l iy r ae gcl l a y kcl dh ae tcl h#\n",
            "h# dh iy eh n oy ng r ae kcl k ux n s l ih pcl t ih n dcl ix f ih l z gcl g aa r dx en q eh v r iy n ay tcl h#\n",
            "h# dh iy eh n oh y ng r ae kcl k ux n s l ih pcl t ih n dcl ix f ih l z gcl g aa r dx en q eh v r iy n a y tcl h#\n",
            "h# d ow nx ae s epi m iy dx ix kcl k eh r iy ix n oy l ih r ae gcl g l ay kcl dh ae tcl h#\n",
            "h# d o w nx ae s epi m iy dx ix kcl k eh r iy ix n oh y l ih r ae gcl g l a y kcl dh ae tcl h#\n",
            "h# d ow n ae s kcl m iy tcl t ix kcl k eh r ix ih n oy l iy r ae gcl g l ay kcl dh ae tcl h#\n",
            "h# d o w n ae s kcl m iy tcl t ix kcl k eh r ix ih n oh y l iy r ae gcl g l a y kcl dh ae tcl h#\n",
            "h# d ow n tcl ae s kcl k m iy dx ix kcl k eh r iy ix n q oy l iy r ae gcl g l ay kcl k dh ae q h#\n",
            "h# d o w n tcl ae s kcl k m iy dx ix kcl k eh r iy ix n q oh y l iy r ae gcl g l a y kcl k dh ae q h#\n",
            "h# q ay ix s uw m oy s tcl ch axr w el dcl d ae m ih zh pau dh ih sh ih pcl p s hh ah l h#\n",
            "h# q a y ix s uw m oh y s tcl ch axr w el dcl d ae m ih zh pau dh ih sh ih pcl p s hh ah l h#\n",
            "h# d ow n ae s epi m iy tcl t ix kcl k ih r iy ix n oy l iy r ae gcl g l ay kcl dh ae tcl h#\n",
            "h# d o w n ae s epi m iy tcl t ix kcl k ih r iy ix n oh y l iy r ae gcl g l a y kcl dh ae tcl h#\n",
            "h# r oy q ih gcl n ao r dcl dh ax-h s pcl p er iy ih s dcl d ae dx ax pcl p oy n tcl s q ih n dcl d r ah ix ng dh iy gcl g r ae f h#\n",
            "h# r oh y q ih gcl n ao r dcl dh ax-h s pcl p er iy ih s dcl d ae dx ax pcl p oh y n tcl s q ih n dcl d r ah ix ng dh iy gcl g r ae f h#\n",
            "h# d ow nx ae s kcl m iy dx ix kcl k eh r iy ix n oy l ix r ae gcl g l ay kcl k dh ae q h#\n",
            "h# d o w nx ae s kcl m iy dx ix kcl k eh r iy ix n oh y l ix r ae gcl g l a y kcl k dh ae q h#\n",
            "h# d ow n tcl t ae s kcl m ix dx ix kcl k ih r iy ix n oy l iy r ae gcl g l ay kcl dh ae tcl h#\n",
            "h# d o w n tcl t ae s kcl m ix dx ix kcl k ih r iy ix n oh y l iy r ae gcl g l a y kcl dh ae tcl h#\n",
            "h# q ah l oy axr w ix z ix pcl p oy n tcl t ix dcl t ix q eh kcl k s ax-h kcl k y ux tcl t axr w eh l h#\n",
            "h# q ah l oh y axr w ix z ix pcl p oh y n tcl t ix dcl t ix q eh kcl k s ax-h kcl k y ux tcl t axr w eh l h#\n",
            "h# dh iy q ae ng g r ix bcl b oy q ae n s axr dcl bcl b ah tcl d ih dcl en tcl l uh kcl k ah pcl h#\n",
            "h# dh iy q ae ng g r ix bcl b oh y q ae n s axr dcl bcl b ah tcl d ih dcl en tcl l uh kcl k ah pcl h#\n",
            "h# d ow n q ae s epi m iy dx ix kcl k er iy ix n q oy l ix r ae gcl g l ay kcl dh ae tcl h#\n",
            "h# d o w n q ae s epi m iy dx ix kcl k er iy ix n q oh y l ix r ae gcl g l a y kcl dh ae tcl h#\n",
            "h# d ow nx ae s kcl m iy dx ix kcl k eh r iy eh n oy l iy r ae gcl g l ay kcl k dh ae tcl h#\n",
            "h# d o w nx ae s kcl m iy dx ix kcl k eh r iy eh n oh y l iy r ae gcl g l a y kcl k dh ae tcl h#\n",
            "h# d ow n ae s kcl m iy dx ix kcl k ih r iy ix n q oy l iy r ae gcl g l ay kcl k dh ae tcl h#\n",
            "h# d o w n ae s kcl m iy dx ix kcl k ih r iy ix n q oh y l iy r ae gcl g l a y kcl k dh ae tcl h#\n",
            "h# d ow n q ae s kcl m iy tcl t ix kcl k eh r iy ix n oy l iy r ae gcl l ay kcl dh ae tcl h#\n",
            "h# d o w n q ae s kcl m iy tcl t ix kcl k eh r iy ix n oh y l iy r ae gcl l a y kcl dh ae tcl h#\n",
            "h# d ow nx ae s kcl m iy dx ix kcl k eh r iy ix n q oy l iy r ae gcl l ay kcl dh ae tcl h#\n",
            "h# d o w nx ae s kcl m iy dx ix kcl k eh r iy ix n q oh y l iy r ae gcl l a y kcl dh ae tcl h#\n",
            "h# d ay ae n m ey s pcl p l er dcl jh ix n bcl b ay ix tcl t er kcl k oy z epi n eh kcl k l ax s h#\n",
            "h# d a y ae n m e y s pcl p l er dcl jh ix n bcl b a y ix tcl t er kcl k oh y z epi n eh kcl k l ax s h#\n",
            "h# hh aw oy l iy dcl d y ux l ay kcl k y axr s ae l ax dcl d r eh s ix ng h#\n",
            "h# hh a w oh y l iy dcl d y ux l a y kcl k y axr s ae l ax dcl d r eh s ix ng h#\n",
            "h# d ow nx ae s kcl m iy dx ix kcl k eh r iy ix nx ax q oy l iy r ae gcl g l ay kcl k dh ae tcl h#\n",
            "h# d o w nx ae s kcl m iy dx ix kcl k eh r iy ix nx ax q oh y l iy r ae gcl g l a y kcl k dh ae tcl h#\n",
            "h# ax-h kcl k aa nx ah s uw axr w ax l ix n dcl jh oy dh ih s sh eh l f ih sh dcl d ih sh h#\n",
            "h# ax-h kcl k aa nx ah s uw axr w ax l ix n dcl jh oh y dh ih s sh eh l f ih sh dcl d ih sh h#\n",
            "h# d ow nx ae s kcl m iy dx ix kcl k er iy ix n q oy l ix r ae gcl g l ay kcl k dh ae tcl h#\n",
            "h# d o w nx ae s kcl m iy dx ix kcl k er iy ix n q oh y l ix r ae gcl g l a y kcl k dh ae tcl h#\n",
            "h# hv w ay hv iy z gcl g oy ng dcl d ix kcl k ih l m iy hv ih epi th ao q w aa l dcl d l iy h#\n",
            "h# hv w a y hv iy z gcl g oh y ng dcl d ix kcl k ih l m iy hv ih epi th ao q w aa l dcl d l iy h#\n",
            "h# d ow n ae s kcl m iy tcl t ix kcl k eh r iy ih n oy l iy r ae gcl g l ay kcl dh ae tcl t h#\n",
            "h# d o w n ae s kcl m iy tcl t ix kcl k eh r iy ih n oh y l iy r ae gcl g l a y kcl dh ae tcl t h#\n",
            "h# dh ax tcl t r ay ah m f ax n q w oy er ix gcl g z ih bcl b ix tcl t ih dcl n ay iy v hv eh r ow ih z ax m h#\n",
            "h# dh ax tcl t r a y ah m f ax n q w oh y er ix gcl g z ih bcl b ix tcl t ih dcl n a y iy v hv eh r o w ih z ax m h#\n",
            "h# dh ah tcl t r ay eh m f ih n tcl q w oy axr q ix gcl g z ih bcl b ix dx ih dcl n ay iy v hh eh r ow ix z ix m h#\n",
            "h# dh ah tcl t r a y eh m f ih n tcl q w oh y axr q ix gcl g z ih bcl b ix dx ih dcl n a y iy v hh eh r o w ix z ix m h#\n",
            "h# hh aw dx uw oy s axr z epi m ey kcl p er l z h#\n",
            "h# hh a w dx uw oh y s axr z epi m e y kcl p er l z h#\n",
            "h# n ow kcl k eh m ix kcl k el f er dx ax l ay z axr z ax n pcl p oy z en ax s q ix n s eh kcl t ix s ay dcl d z ax n f ah ng gcl g ix s ay dcl z eh r y ux z dcl d h#\n",
            "h# n o w kcl k eh m ix kcl k el f er dx ax l a y z axr z ax n pcl p oh y z en ax s q ix n s eh kcl t ix s a y dcl d z ax n f ah ng gcl g ix s a y dcl z eh r y ux z dcl d h#\n",
            "h# d ow n ae s epi m iy dx ix kcl k eh r iy ix n q oy l iy r ae gcl g l ay kcl dh ae tcl h#\n",
            "h# d o w n ae s epi m iy dx ix kcl k eh r iy ix n q oh y l iy r ae gcl g l a y kcl dh ae tcl h#\n",
            "h# dh ax m oy s tcl ch er ix n m ay ay z ix z f axr m q ay dcl d r aa pcl p s pau n aa tcl f r em tcl t ih axr z h#\n",
            "h# dh ax m oh y s tcl ch er ix n m a y a y z ix z f axr m q a y dcl d r aa pcl p s pau n aa tcl f r em tcl t ih axr z h#\n",
            "h# d ow n q ae s kcl m iy dx ix kcl k eh r iy ix n oy l iy r ae gcl g l ay kcl k dh ae tcl h#\n",
            "h# d o w n q ae s kcl m iy dx ix kcl k eh r iy ix n oh y l iy r ae gcl g l a y kcl k dh ae tcl h#\n",
            "h# d ow nx ae s epi m iy dx iy kcl k eh r iy ix n q oy l iy r ae gcl g l ay kcl k dh ae tcl h#\n",
            "h# d o w nx ae s epi m iy dx iy kcl k eh r iy ix n q oh y l iy r ae gcl g l a y kcl k dh ae tcl h#\n",
            "h# d ow n q ae s epi m ix dx iy kcl k ih r eh n q oy l ix r ae gcl l ay kcl dh ae tcl t h#\n",
            "h# d o w n q ae s epi m ix dx iy kcl k ih r eh n q oh y l ix r ae gcl l a y kcl dh ae tcl t h#\n",
            "h# d ow nx ae s epi m iy z ix kcl k ih r iy ix n q oy l iy r ae gcl g l ay kcl k dh ae tcl hh h#\n",
            "h# d o w nx ae s epi m iy z ix kcl k ih r iy ix n q oh y l iy r ae gcl g l a y kcl k dh ae tcl hh h#\n",
            "h# q ae r iy s iy v dcl d ix dcl jh oy n tcl t ix pcl p oy n m ax n tcl pau ih n dh ix bcl b ay ax l ax dcl jh iy q eh n dh iy q ih n dcl jh ix n ih r ix n dcl d ix pcl p aa r q m en tcl t s h#\n",
            "h# q ae r iy s iy v dcl d ix dcl jh oh y n tcl t ix pcl p oh y n m ax n tcl pau ih n dh ix bcl b a y ax l ax dcl jh iy q eh n dh iy q ih n dcl jh ix n ih r ix n dcl d ix pcl p aa r q m en tcl t s h#\n",
            "h# d ow n q ae s kcl k m iy tcl t ix kcl k ih r iy ix n q oy l iy r ae gcl g l ay kcl k dh ae tcl t h#\n",
            "h# d o w n q ae s kcl k m iy tcl t ix kcl k ih r iy ix n q oh y l iy r ae gcl g l a y kcl k dh ae tcl t h#\n",
            "h# d ow n q ae s kcl m iy tcl t ix kcl k ih r iy q ix n q oy l iy r ae gcl g l ay kcl k dh ae tcl h#\n",
            "h# d o w n q ae s kcl m iy tcl t ix kcl k ih r iy q ix n q oh y l iy r ae gcl g l a y kcl k dh ae tcl h#\n",
            "h# d ow n q ae s epi m iy tcl t ux kcl k eh r iy q eh n q oy l iy r ae gcl g l ay kcl dh ae q h#\n",
            "h# d o w n q ae s epi m iy tcl t ux kcl k eh r iy q eh n q oh y l iy r ae gcl g l a y kcl dh ae q h#\n",
            "h# t eh q n ih s kcl k ih dcl b iy ah v oy dx ih dcl b ay pcl p ao r ix ng w ao r m tcl t er pcl p ix n tcl t ay n q ow v er ax w ux n dcl d h#\n",
            "h# t eh q n ih s kcl k ih dcl b iy ah v oh y dx ih dcl b a y pcl p ao r ix ng w ao r m tcl t er pcl p ix n tcl t a y n q o w v er ax w ux n dcl d h#\n",
            "h# d ow n q ae s kcl m iy dx ux kcl k eh r iy ix n q oy l iy r ae gcl g l ay kcl dh ae tcl h#\n",
            "h# d o w n q ae s kcl m iy dx ux kcl k eh r iy ix n q oh y l iy r ae gcl g l a y kcl dh ae tcl h#\n",
            "h# d ow nx ae s epi m iy dx ix kcl k eh r iy ix nx oy l ix r ae gcl g l ay kcl dh ae tcl h#\n",
            "h# d o w nx ae s epi m iy dx ix kcl k eh r iy ix nx oh y l ix r ae gcl g l a y kcl dh ae tcl h#\n",
            "h# q aa l hv ae v ax s kcl k ux pcl p ax v dh ae dx ih gcl g z aa dx ix kcl p er pcl p el ix n tcl t er kcl k oy sh er bcl axr tcl h#\n",
            "h# q aa l hv ae v ax s kcl k ux pcl p ax v dh ae dx ih gcl g z aa dx ix kcl p er pcl p el ix n tcl t er kcl k oh y sh er bcl axr tcl h#\n",
            "h# dh ix m oy s tcl ch er ix n m ay q ay z ix z f axr m pau q ay dcl d r aa pcl s pau n aa tcl f r em tcl t iy axr z h#\n",
            "h# dh ix m oh y s tcl ch er ix n m a y q a y z ix z f axr m pau q a y dcl d r aa pcl s pau n aa tcl f r em tcl t iy axr z h#\n",
            "h# f ao r dx iy s eh v ix n s tcl t ey tcl t s ix s ay n ao r pcl p axr v ay dcl d v iy hv ih kcl k el z f axr q ix m pcl p l oy iy z ax n s tcl t ey tcl b ih z n ix s h#\n",
            "h# f ao r dx iy s eh v ix n s tcl t e y tcl t s ix s a y n ao r pcl p axr v a y dcl d v iy hv ih kcl k el z f axr q ix m pcl p l oh y iy z ax n s tcl t e y tcl b ih z n ix s h#\n",
            "h# d ow n q ae s kcl k m iy tcl t ix kcl k eh r iy ix n q oy l iy r ae gcl g l ay kcl k dh ae tcl t h#\n",
            "h# d o w n q ae s kcl k m iy tcl t ix kcl k eh r iy ix n q oh y l iy r ae gcl g l a y kcl k dh ae tcl t h#\n",
            "h# k aw n tcl dh ix n ah m bcl b er ix v tcl t iy s pcl p ux n z ix v s oy s ao s dh eh q y ux ae dcl d h#\n",
            "h# k a w n tcl dh ix n ah m bcl b er ix v tcl t iy s pcl p ux n z ix v s oh y s ao s dh eh q y ux ae dcl d h#\n",
            "h# d ow nx ae s m iy dx iy kcl k eh r iy ix nx q oy l iy r ae gcl l ay kcl k dh ae tcl h#\n",
            "h# d o w nx ae s m iy dx iy kcl k eh r iy ix nx q oh y l iy r ae gcl l a y kcl k dh ae tcl h#\n",
            "h# d ow n ae s kcl m iy dx ix kcl k eh r iy q eh n oy l iy r ae gcl l ay kcl dh ae q h#\n",
            "h# d o w n ae s kcl m iy dx ix kcl k eh r iy q eh n oh y l iy r ae gcl l a y kcl dh ae q h#\n",
            "h# d ow n ae s kcl m iy dcl d ih kcl k eh r iy ix n q oy l iy r ae gcl g l ay kcl dh ae tcl h#\n",
            "h# d o w n ae s kcl m iy dcl d ih kcl k eh r iy ix n q oh y l iy r ae gcl g l a y kcl dh ae tcl h#\n",
            "h# aa l hv ae v ix s kcl k ux pcl p ax v dh ae tcl q ix gcl g z aa dx ih kcl p er pcl p el ix n tcl t er kcl k oy sh er bcl b ix tcl h#\n",
            "h# aa l hv ae v ix s kcl k ux pcl p ax v dh ae tcl q ix gcl g z aa dx ih kcl p er pcl p el ix n tcl t er kcl k oh y sh er bcl b ix tcl h#\n",
            "h# d ow n ae s kcl m ix dx ix kcl k eh r ih eh nx oy l iy r ae gcl g l ay kcl dh ae tcl h#\n",
            "h# d o w n ae s kcl m ix dx ix kcl k eh r ih eh nx oh y l iy r ae gcl g l a y kcl dh ae tcl h#\n",
            "h# dh ae ng gcl g r iy bcl b oy ae n s er dcl b ix tcl d ih n l uh kcl k ah pcl h#\n",
            "h# dh ae ng gcl g r iy bcl b oh y ae n s er dcl b ix tcl d ih n l uh kcl k ah pcl h#\n",
            "h# d ow n ae s epi m ix dx ih kcl k eh r iy ix n oy l iy r ae gcl l ay kcl dh ae tcl h#\n",
            "h# d o w n ae s epi m ix dx ih kcl k eh r iy ix n oh y l iy r ae gcl l a y kcl dh ae tcl h#\n",
            "h# t ow n ae s kcl m iy dx ih kcl k eh r iy ix nx oy l iy r ae gcl g l ay kcl k dh ae tcl h#\n",
            "h# t o w n ae s kcl m iy dx ih kcl k eh r iy ix nx oh y l iy r ae gcl g l a y kcl k dh ae tcl h#\n",
            "h# d ow n ae s kcl m iy dx ix kcl k eh r iy ix n oy l iy r ae gcl g l ay kcl dh ae tcl h#\n",
            "h# d o w n ae s kcl m iy dx ix kcl k eh r iy ix n oh y l iy r ae gcl g l a y kcl dh ae tcl h#\n",
            "h# d ow n q ae s kcl m ix dx ix kcl k eh r ix n ix q oy l iy r ae gcl g l ay kcl dh ae tcl h#\n",
            "h# d o w n q ae s kcl m ix dx ix kcl k eh r ix n ix q oh y l iy r ae gcl g l a y kcl dh ae tcl h#\n",
            "h# g ah s ao pcl p ay n tcl t r iy z ih n r eh dcl w uh dcl d z pau ax nx ix z w ao kcl th r ux s ix kcl k oy ix n ae sh epi n el f ao r ax s tcl t h#\n",
            "h# g ah s ao pcl p a y n tcl t r iy z ih n r eh dcl w uh dcl d z pau ax nx ix z w ao kcl th r ux s ix kcl k oh y ix n ae sh epi n el f ao r ax s tcl t h#\n",
            "h# d ow n q ae s kcl k m iy tcl t ux kcl k eh r iy ix n oy l iy r ae gcl l ay kcl k dh ae tcl h#\n",
            "h# d o w n q ae s kcl k m iy tcl t ux kcl k eh r iy ix n oh y l iy r ae gcl l a y kcl k dh ae tcl h#\n",
            "h# d ow nx ae s epi m iy tcl t ix kcl k eh r iy ix n oy l iy r ae gcl g l ay kcl dh ae tcl t h#\n",
            "h# d o w nx ae s epi m iy tcl t ix kcl k eh r iy ix n oh y l iy r ae gcl g l a y kcl dh ae tcl t h#\n",
            "h# dh ix s bcl b ih gcl g f l eh kcl k s bcl b el v oy s w ix th q ah n kcl k aa m ax n r ey n dcl jh hv eh z bcl b ix n s ax pcl p er bcl b l iy dcl d ih s ix pcl p l ix n dcl d h#\n",
            "h# dh ix s bcl b ih gcl g f l eh kcl k s bcl b el v oh y s w ix th q ah n kcl k aa m ax n r e y n dcl jh hv eh z bcl b ix n s ax pcl p er bcl b l iy dcl d ih s ix pcl p l ix n dcl d h#\n",
            "h# ae l r iy s iy v dcl d q ey dcl jh oy n q ax pcl p oy n q m ix n tcl pau ix n dh ax bcl b ay aa l ax dcl jh iy q ix n q eh n dcl jh ix n ih r iy ng dcl d ix pcl p aa q m ix n tcl s h#\n",
            "h# ae l r iy s iy v dcl d q e y dcl jh oh y n q ax pcl p oh y n q m ix n tcl pau ix n dh ax bcl b a y aa l ax dcl jh iy q ix n q eh n dcl jh ix n ih r iy ng dcl d ix pcl p aa q m ix n tcl s h#\n",
            "h# d ow n ae s epi m iy tcl t ax kcl k ae r ih ax n oy l iy r ae gcl g l ay kcl k dh ae tcl h#\n",
            "h# d o w n ae s epi m iy tcl t ax kcl k ae r ih ax n oh y l iy r ae gcl g l a y kcl k dh ae tcl h#\n",
            "h# p er s en el pcl p r iy dcl d ih s pcl p ix z ih sh ix n s tcl t eh n dcl t ix bcl b l ah n tcl dh ix q ey ah pau q eh n ih n tcl t er n ax v oy s q ix z epi w eh l h#\n",
            "h# p er s en el pcl p r iy dcl d ih s pcl p ix z ih sh ix n s tcl t eh n dcl t ix bcl b l ah n tcl dh ix q e y ah pau q eh n ih n tcl t er n ax v oh y s q ix z epi w eh l h#\n",
            "h# dh eh kcl k ih dcl d hv ae s n ow m ae n er s bcl b oy s h#\n",
            "h# dh eh kcl k ih dcl d hv ae s n o w m ae n er s bcl b oh y s h#\n",
            "h# d ow n tcl ae s kcl k m ix tcl t ux kcl k eh r iy ix n q oy l iy r ae gcl g l ay kcl k dh ae tcl t h#\n",
            "h# d o w n tcl ae s kcl k m ix tcl t ux kcl k eh r iy ix n q oh y l iy r ae gcl g l a y kcl k dh ae tcl t h#\n",
            "h# q ay ey q eh v r iy oy s tcl t ax q aa n ao r ix z pcl p l ey tcl h#\n",
            "h# q a y e y q eh v r iy oh y s tcl t ax q aa n ao r ix z pcl p l e y tcl h#\n",
            "h# dcl d ow n ae s epi m iy dx ix kcl k ae r iy ix n q oy l iy r ae gcl l ay kcl dh ae q h#\n",
            "h# dcl d o w n ae s epi m iy dx ix kcl k ae r iy ix n q oh y l iy r ae gcl l a y kcl dh ae q h#\n",
            "h# ow n l ix dh ax bcl b eh s tcl p l ey er z ix n dcl jh oy pcl p aa pcl p ix l eh axr dx iy h#\n",
            "h# o w n l ix dh ax bcl b eh s tcl p l e y er z ix n dcl jh oh y pcl p aa pcl p ix l eh axr dx iy h#\n",
            "h# dh ey sh uh dcl d l ih v ix n m aa dx ax s er kcl k em s tcl t ae n s ix z pau ax v oy dx ih ng ao l kcl k ix n s pcl p ix kcl k y uw ax s kcl k ix n s ah m pcl p sh en h#\n",
            "h# dh e y sh uh dcl d l ih v ix n m aa dx ax s er kcl k em s tcl t ae n s ix z pau ax v oh y dx ih ng ao l kcl k ix n s pcl p ix kcl k y uw ax s kcl k ix n s ah m pcl p sh en h#\n",
            "h# d ow n q ae s epi m iy dx ix kcl k eh r iy ix n q oy l iy r ae gcl g l ay kcl k dh ae tcl t h#\n",
            "h# d o w n q ae s epi m iy dx ix kcl k eh r iy ix n q oh y l iy r ae gcl g l a y kcl k dh ae tcl t h#\n",
            "h# jh ao r dcl jh ix z pcl p eh axr n oy dcl d ix bcl b aw dx ax f ux tcl ch axr gcl g ae sh ao dx ix dcl jh h#\n",
            "h# jh ao r dcl jh ix z pcl p eh axr n oh y dcl d ix bcl b a w dx ax f ux tcl ch axr gcl g ae sh ao dx ix dcl jh h#\n",
            "h# d ow nx ae s kcl m iy dx ix kcl k ae r iy ix n oy l iy r ae gcl g l ay kcl dh ae tcl h#\n",
            "h# d o w nx ae s kcl m iy dx ix kcl k ae r iy ix n oh y l iy r ae gcl g l a y kcl dh ae tcl h#\n",
            "h# f ae m l iy l oy el tcl t iy z ix ng kcl k ax w aa pcl p axr tcl t ix f w er kcl k hh ix v bcl b ix n ah n bcl b r ow kcl k ix n f axr dcl jh eh n axr ey sh ix n s h#\n",
            "h# f ae m l iy l oh y el tcl t iy z ix ng kcl k ax w aa pcl p axr tcl t ix f w er kcl k hh ix v bcl b ix n ah n bcl b r o w kcl k ix n f axr dcl jh eh n axr e y sh ix n s h#\n",
            "h# d ow nx ae s kcl k m iy dx ih kcl k eh r iy ix nx oy l iy r ae gcl l ay kcl dh ae tcl h#\n",
            "h# d o w nx ae s kcl k m iy dx ih kcl k eh r iy ix nx oh y l iy r ae gcl l a y kcl dh ae tcl h#\n",
            "h# ah l ax v ax s kcl k uw pcl p ax v dh ae dx eh gcl z aa dx ih kcl pau p er pcl p el ix n tcl t er kcl k oy sh er bcl b axr tcl h#\n",
            "h# ah l ax v ax s kcl k uw pcl p ax v dh ae dx eh gcl z aa dx ih kcl pau p er pcl p el ix n tcl t er kcl k oh y sh er bcl b axr tcl h#\n",
            "h# d ow n tcl q ae s kcl k m ih tcl t ix kcl k eh r iy ix n q oy l iy r ae gcl l ay kcl k dh ae tcl h#\n",
            "h# d o w n tcl q ae s kcl k m ih tcl t ix kcl k eh r iy ix n q oh y l iy r ae gcl l a y kcl k dh ae tcl h#\n",
            "h# d ow nx ae s kcl m ix dx ix kcl k ae r ih ix n oy l ix r eh gcl g l ay kcl dh ae tcl h#\n",
            "h# d o w nx ae s kcl m ix dx ix kcl k ae r ih ix n oh y l ix r eh gcl g l a y kcl dh ae tcl h#\n",
            "h# d ow n ae s kcl m iy tcl t iy kcl k eh r iy ix n q oy l iy r ae gcl g l ay kcl dh ae tcl h#\n",
            "h# d o w n ae s kcl m iy tcl t iy kcl k eh r iy ix n q oh y l iy r ae gcl g l a y kcl dh ae tcl h#\n",
            "h# d ow n ae s kcl m iy tcl t ax-h kcl k ae r iy ix n oy l ix r ae gcl g l ay kcl dh ae q h#\n",
            "h# d o w n ae s kcl m iy tcl t ax-h kcl k ae r iy ix n oh y l ix r ae gcl g l a y kcl dh ae q h#\n",
            "h# dh ax pcl p ey pcl p axr bcl b oy bcl b ao tcl t uw q ae pcl p el z ae n dcl th r iy q ay s ix z h#\n",
            "h# dh ax pcl p e y pcl p axr bcl b oh y bcl b ao tcl t uw q ae pcl p el z ae n dcl th r iy q a y s ix z h#\n",
            "h# d ow nx ae s kcl k m iy dx ix kcl k eh r iy ix n q oy l iy r ae gcl g l ay kcl k dh ae tcl h#\n",
            "h# d o w nx ae s kcl k m iy dx ix kcl k eh r iy ix n q oh y l iy r ae gcl g l a y kcl k dh ae tcl h#\n",
            "h# k aw n tcl dh ax n ah m axr ax v tcl t iy s pcl p uw n z q ah v s oy s ao s dh eh tcl ch uw ae dcl h#\n",
            "h# k a w n tcl dh ax n ah m axr ax v tcl t iy s pcl p uw n z q ah v s oh y s ao s dh eh tcl ch uw ae dcl h#\n",
            "h# d ow nx ae s epi m ix dx ih kcl k eh r ih n oy l ix r ae gcl g l ay kcl dh ae tcl h#\n",
            "h# d o w nx ae s epi m ix dx ih kcl k eh r ih n oh y l ix r ae gcl g l a y kcl dh ae tcl h#\n",
            "h# d ow nx ae s epi m ix dx ix kcl k ae r iy ix nx oy l iy r ae gcl l ay gcl dh ae tcl h#\n",
            "h# d o w nx ae s epi m ix dx ix kcl k ae r iy ix nx oh y l iy r ae gcl l a y gcl dh ae tcl h#\n",
            "h# p l iy sh ao q en dh ix s kcl k er tcl f ix dcl jh oy s h#\n",
            "h# p l iy sh ao q en dh ix s kcl k er tcl f ix dcl jh oh y s h#\n",
            "h# d ow n q ae s epi m iy tcl t ix kcl k eh r iy ix n q oy l iy r ae gcl g l ay kcl k dh ae q h#\n",
            "h# d o w n q ae s epi m iy tcl t ix kcl k eh r iy ix n q oh y l iy r ae gcl g l a y kcl k dh ae q h#\n",
            "h# d ow n q ae s kcl m ix dx ix kcl k ae r iy ix n q oy l iy r ae gcl g l ay kcl dh ae tcl h#\n",
            "h# d o w n q ae s kcl m ix dx ix kcl k ae r iy ix n q oh y l iy r ae gcl g l a y kcl dh ae tcl h#\n",
            "h# d ow n tcl t q ae s kcl k m iy tcl t ax-h kcl k eh r iy ih n q oy l iy r ae gcl g l ay kcl dh ae tcl h#\n",
            "h# d o w n tcl t q ae s kcl k m iy tcl t ax-h kcl k eh r iy ih n q oh y l iy r ae gcl g l a y kcl dh ae tcl h#\n",
            "h# q ae dcl d r iy m ey n iy ng q ih n gcl g r iy dx iy ih n tcl s pau q ix n bcl b r ih ng tcl t uw ax bcl b oy l h#\n",
            "h# q ae dcl d r iy m e y n iy ng q ih n gcl g r iy dx iy ih n tcl s pau q ix n bcl b r ih ng tcl t uw ax bcl b oh y l h#\n",
            "h# d ow n ae s kcl m ih dx ix kcl k eh r ih eh n oy l ix r ae gcl g l ay kcl dh ae q h#\n",
            "h# d o w n ae s kcl m ih dx ix kcl k eh r ih eh n oh y l ix r ae gcl g l a y kcl dh ae q h#\n",
            "h# s tcl t iy v kcl k ax l eh kcl s r eh r q ix n aa v el kcl k oy n s h#\n",
            "h# s tcl t iy v kcl k ax l eh kcl s r eh r q ix n aa v el kcl k oh y n s h#\n",
            "h# p l iy sh ao q en dh ix s kcl k er q f ix dcl jh oy s h#\n",
            "h# p l iy sh ao q en dh ix s kcl k er q f ix dcl jh oh y s h#\n",
            "h# d uh nx ae s kcl k m ix dx ix kcl k eh r iy ix n oy l iy r ae gcl l ay kcl dh ae tcl h#\n",
            "h# d uh nx ae s kcl k m ix dx ix kcl k eh r iy ix n oh y l iy r ae gcl l a y kcl dh ae tcl h#\n",
            "h# d ow n hv ae s kcl m iy dcl d ih kcl k ih r iy ix n q oy l iy r ae gcl g l ay kcl dh ae tcl h#\n",
            "h# d o w n hv ae s kcl m iy dcl d ih kcl k ih r iy ix n q oh y l iy r ae gcl g l a y kcl dh ae tcl h#\n",
            "h# q aa l hv eh v ix s kcl k ux pcl p ah v dcl d ae dx ix gcl g z aa dx ix kcl k pcl p er pcl p el q ix n tcl t er kcl k oy sh axr bcl b axr tcl h#\n",
            "h# q aa l hv eh v ix s kcl k ux pcl p ah v dcl d ae dx ix gcl g z aa dx ix kcl k pcl p er pcl p el q ix n tcl t er kcl k oh y sh axr bcl b axr tcl h#\n",
            "h# p l iy sh ao r q en dh ih s kcl k er tcl t f axr dcl jh oy s h#\n",
            "h# p l iy sh ao r q en dh ih s kcl k er tcl t f axr dcl jh oh y s h#\n",
            "h# d ow n ae s kcl k m ix dx ix kcl k ae r iy ih n q oy l ix r ae gcl g l ay kcl k dh ae tcl h#\n",
            "h# d o w n ae s kcl k m ix dx ix kcl k ae r iy ih n q oh y l ix r ae gcl g l a y kcl k dh ae tcl h#\n",
            "h# d uh n ae s kcl k m ix dx ix kcl k eh r ix n oy l ax r ae gcl g oy kcl dh ae tcl h#\n",
            "h# d uh n ae s kcl k m ix dx ix kcl k eh r ix n oh y l ax r ae gcl g oh y kcl dh ae tcl h#\n",
            "h# q ix n s ih m pcl p el ih tcl t er m z ih dx ax m aw n s tcl t ix pcl p oy n tcl t iy ng dh ax pcl p l ae tcl f ao m ax n ax pcl p r aa pcl p ax dcl d ix r eh kcl sh ix n h#\n",
            "h# q ix n s ih m pcl p el ih tcl t er m z ih dx ax m a w n s tcl t ix pcl p oh y n tcl t iy ng dh ax pcl p l ae tcl f ao m ax n ax pcl p r aa pcl p ax dcl d ix r eh kcl sh ix n h#\n",
            "h# n ow m eh n y ix f ae kcl sh er ax hv z tcl t ey kcl k ix nx iy ix n ih sh ax-h tcl t ih v ix n pcl p oy n tcl t iy aw tcl dh ix kcl k ao s tcl ix n v ao l v dcl d h#\n",
            "h# n o w m eh n y ix f ae kcl sh er ax hv z tcl t e y kcl k ix nx iy ix n ih sh ax-h tcl t ih v ix n pcl p oh y n tcl t iy a w tcl dh ix kcl k ao s tcl ix n v ao l v dcl d h#\n",
            "h# d ow nx ae s epi m iy dx ix kcl k eh r iy ix n oy l iy r ae gcl l ay kcl dh ae tcl h#\n",
            "h# d o w nx ae s epi m iy dx ix kcl k eh r iy ix n oh y l iy r ae gcl l a y kcl dh ae tcl h#\n",
            "h# d ow n ae s kcl m ix tcl t ix kcl k eh r iy ix n oy l iy r ae gcl g l ay kcl dh ae tcl h#\n",
            "h# d o w n ae s kcl m ix tcl t ix kcl k eh r iy ix n oh y l iy r ae gcl g l a y kcl dh ae tcl h#\n",
            "h# p l oy ix l ey aa f s kcl k ow ix n s ay dx ix w ix th ix kcl k ah m pcl p ix nx iy z r ix ow gcl ix nx ix z ey sh epi en h#\n",
            "h# p l oh y ix l e y aa f s kcl k o w ix n s a y dx ix w ix th ix kcl k ah m pcl p ix nx iy z r ix o w gcl ix nx ix z e y sh epi en h#\n",
            "h# b oy z ix n m eh n gcl g ow ax l ao ng n ix r ih v er bcl b ae ng kcl k q ao r tcl t ux dcl d iy q ae l kcl k ow v z q ix n dh ix tcl t aa pcl p aa r kcl k ey dcl d h#\n",
            "h# b oh y z ix n m eh n gcl g o w ax l ao ng n ix r ih v er bcl b ae ng kcl k q ao r tcl t ux dcl d iy q ae l kcl k o w v z q ix n dh ix tcl t aa pcl p aa r kcl k e y dcl d h#\n",
            "h# d ow nx ae s kcl m ih dx ih kcl k eh r iy ix n q oy l iy r ae gcl l ay kcl dh ae tcl h#\n",
            "h# d o w nx ae s kcl m ih dx ih kcl k eh r iy ix n q oh y l iy r ae gcl l a y kcl dh ae tcl h#\n",
            "h# d ow nx ae s kcl m iy dx ix kcl k eh r iy ix n oy l iy r ae gcl g l ay kcl k dh ae tcl h#\n",
            "h# d o w nx ae s kcl m iy dx ix kcl k eh r iy ix n oh y l iy r ae gcl g l a y kcl k dh ae tcl h#\n",
            "h# g ah s ao pcl p ay n tcl t r iy z ix n r eh dcl w uh dcl d z aa nx ix z epi w ao kcl k th r uw s ix kcl k oy axr n ae sh epi n el f ao r ix s tcl t h#\n",
            "h# g ah s ao pcl p a y n tcl t r iy z ix n r eh dcl w uh dcl d z aa nx ix z epi w ao kcl k th r uw s ix kcl k oh y axr n ae sh epi n el f ao r ix s tcl t h#\n",
            "h# jh ao r dcl jh ix z pcl p eh r ix nx oy dx ax bcl b aw dx ax f y ux tcl ch axr gcl g ae s sh ao r dx ix dcl jh h#\n",
            "h# jh ao r dcl jh ix z pcl p eh r ix nx oh y dx ax bcl b a w dx ax f y ux tcl ch axr gcl g ae s sh ao r dx ix dcl jh h#\n",
            "h# d ow n ae s kcl m iy tcl t ix kcl k eh r iy ix n oy l ih r ae gcl l ay kcl dh ae tcl h#\n",
            "h# d o w n ae s kcl m iy tcl t ix kcl k eh r iy ix n oh y l ih r ae gcl l a y kcl dh ae tcl h#\n",
            "h# d ow nx ae s epi m iy ih kcl k eh r iy eh nx oy l iy r ae gcl g l ay kcl dh ae tcl h#\n",
            "h# d o w nx ae s epi m iy ih kcl k eh r iy eh nx oh y l iy r ae gcl g l a y kcl dh ae tcl h#\n",
            "h# q ae l r iy s iy v dcl d ix dcl jh oy nx ax pcl p oy m ix n tcl q ix n dh ax bcl b ay aa l ax dcl jh iy q ae n dh iy ih n dcl jh ix n ih r ix ng dcl d ix pcl p aa r tcl m ix n tcl t s h#\n",
            "h# q ae l r iy s iy v dcl d ix dcl jh oh y nx ax pcl p oh y m ix n tcl q ix n dh ax bcl b a y aa l ax dcl jh iy q ae n dh iy ih n dcl jh ix n ih r ix ng dcl d ix pcl p aa r tcl m ix n tcl t s h#\n",
            "h# d ow n ae s kcl m ix dx ix kcl k eh r ih ix nx oy l ix r ae gcl g l ay kcl dh ae tcl h#\n",
            "h# d o w n ae s kcl m ix dx ix kcl k eh r ih ix nx oh y l ix r ae gcl g l a y kcl dh ae tcl h#\n",
            "h# dh ax m oy sh ch er m ay ay z ax-h z f r ax m q ay dcl d r aa pcl p s pau n aa tcl t f r em tcl t ih er s h#\n",
            "h# dh ax m oh y sh ch er m a y a y z ax-h z f r ax m q a y dcl d r aa pcl p s pau n aa tcl t f r em tcl t ih er s h#\n",
            "h# y ae pau s ix m s ow dcl d ow n ih tcl pau dh ax bcl b oy l ae f tcl t pau hh ah gcl ix ng hv axr kcl k l ow s h#\n",
            "h# y ae pau s ix m s o w dcl d o w n ih tcl pau dh ax bcl b oh y l ae f tcl t pau hh ah gcl ix ng hv axr kcl k l o w s h#\n",
            "h# d ow n aa s kcl m iy dx ix kcl k ae r iy ix n oy l iy r ae gcl g l ay kcl dh ae tcl t h#\n",
            "h# d o w n aa s kcl m iy dx ix kcl k ae r iy ix n oh y l iy r ae gcl g l a y kcl dh ae tcl t h#\n",
            "h# q ah l oy y axr w ax z ax pcl p oy n ih dcl t uw eh kcl s ix kcl k y ux tcl hh er w ih l h#\n",
            "h# q ah l oh y y axr w ax z ax pcl p oh y n ih dcl t uw eh kcl s ix kcl k y ux tcl hh er w ih l h#\n",
            "h# d ow nx ae s kcl m iy dx ix kcl k eh r iy ix nx oy l iy r ae gcl g l ay kcl k dh ae tcl h#\n",
            "h# d o w nx ae s kcl m iy dx ix kcl k eh r iy ix nx oh y l iy r ae gcl g l a y kcl k dh ae tcl h#\n"
          ]
        }
      ]
    },
    {
      "cell_type": "markdown",
      "source": [
        "handling similar sounds"
      ],
      "metadata": {
        "id": "k3dp9s11NCO2"
      }
    },
    {
      "cell_type": "code",
      "source": [
        "merge_ipa = {\n",
        "    # marginal sounds\n",
        "    'ax-h': 'ax',\n",
        "    'bcl': 'b',\n",
        "    'dcl': 'd',\n",
        "    'gcl': 'g',\n",
        "    'kcl': 'k',\n",
        "    'pcl': 'p',\n",
        "    'tcl': 't',\n",
        "\n",
        "    'en': 'n',\n",
        "    'em': 'm',\n",
        "    'el': 'l',\n",
        "    'eng': 'ng',\n",
        "\n",
        "    ## /ɹ/ sound\n",
        "    # 'axr': 'r' ? 'ɹ' ?\n",
        "    # 'dx': 'r',\n",
        "    # 'nx': 'r',\n",
        "    # 'er': 'r', 'ɹ' ?\n",
        "\n",
        "    # /h/ sound\n",
        "    'hh': 'h',\n",
        "}"
      ],
      "metadata": {
        "id": "FA7PRfxcNDOJ"
      },
      "execution_count": 84,
      "outputs": []
    },
    {
      "cell_type": "markdown",
      "source": [
        "execute and review"
      ],
      "metadata": {
        "id": "jCExR0vvcJh9"
      }
    },
    {
      "cell_type": "code",
      "source": [
        "labels_merge = [[merge_ipa.get(symbol, symbol) for symbol in label] for label in labels]"
      ],
      "metadata": {
        "id": "-GNBY5UjbbLM"
      },
      "execution_count": 85,
      "outputs": []
    },
    {
      "cell_type": "code",
      "source": [
        "print(*labels[0])\n",
        "print(*labels_split[0])\n",
        "print(*labels_merge[0])"
      ],
      "metadata": {
        "colab": {
          "base_uri": "https://localhost:8080/"
        },
        "id": "N4SOZ95ucKfo",
        "outputId": "7f346732-354c-4d82-ed8d-889c6fefdc14"
      },
      "execution_count": 87,
      "outputs": [
        {
          "output_type": "stream",
          "name": "stdout",
          "text": [
            "h# sh uw w ax z hh ow l dx ix ng q aa nx uh hv ih z r aa kcl k w ax dh w ah n hv ae n dcl d h#\n",
            "h# sh uw w ax z hh o w l dx ix ng q aa nx uh hv ih z r aa kcl k w ax dh w ah n hv ae n dcl d h#\n",
            "h# sh uw w ax z h ow l dx ix ng q aa nx uh hv ih z r aa k k w ax dh w ah n hv ae n d d h#\n"
          ]
        }
      ]
    },
    {
      "cell_type": "code",
      "source": [
        "## after merging, there may appear identical consecutive phones\n",
        "## again merge or leave it as it is ?"
      ],
      "metadata": {
        "id": "yLRWnsd7cUQ5"
      },
      "execution_count": null,
      "outputs": []
    },
    {
      "cell_type": "code",
      "source": [
        "# reassign labels\n",
        "labels = labels_merge"
      ],
      "metadata": {
        "id": "c47DSqnPdT_Q"
      },
      "execution_count": 88,
      "outputs": []
    },
    {
      "cell_type": "markdown",
      "source": [
        "#### Dataset + pad\n",
        "define Dataset Class"
      ],
      "metadata": {
        "id": "bvm1LJp7Pz5D"
      }
    },
    {
      "cell_type": "code",
      "source": [
        "class PhonemeASRDataset(Dataset):\n",
        "  def __init__(self, feats, labels, ipa2idx):\n",
        "    super(PhonemeASRDataset, self).__init__()\n",
        "    self.feats, self.labels = feats, labels\n",
        "    self.ipa2idx = ipa2idx\n",
        "\n",
        "  def __len__(self):\n",
        "    return len(self.feats)\n",
        "\n",
        "  def __getitem__(self, idx):\n",
        "      feat, label = self.feats[idx], self.labels[idx]\n",
        "      label = [ipa2idx[ipa] for ipa in label]\n",
        "\n",
        "      return torch.tensor(feat), torch.tensor(label, dtype = torch.long)"
      ],
      "metadata": {
        "id": "v4C5kAvFP6ED"
      },
      "execution_count": null,
      "outputs": []
    },
    {
      "cell_type": "markdown",
      "source": [
        "define padding function"
      ],
      "metadata": {
        "id": "x7NqEpoNTGW_"
      }
    },
    {
      "cell_type": "code",
      "source": [
        "def pad_collate(batch, pad_value_feat=0, pad_value_label=0):\n",
        "    '''\n",
        "      for collate_fn in DataLoader function\n",
        "\n",
        "    args:\n",
        "      batch: a list of tuples (mfcc, label)\n",
        "      return: padded_mfccs, padded_labels\n",
        "    '''\n",
        "\n",
        "    mfccs, labels = zip(*batch)\n",
        "\n",
        "    # find max length for mfcc(time step) and label in the current batch\n",
        "    max_len_feats = max(mfcc.shape[0] for mfcc in mfccs)\n",
        "    max_len_labels = max(label.shape[0] for label in labels)\n",
        "\n",
        "    # pad mfcc matrices and labels\n",
        "    padded_mfccs = [F.pad(mfcc, (0, 0, 0, max_len_feats - mfcc.shape[0]), value=pad_value_feat) for mfcc in mfccs]\n",
        "    padded_labels = [F.pad(label, (0, max_len_labels - label.shape[0]), value=pad_value_label) for label in labels]\n",
        "\n",
        "    # Stack the padded tensors\n",
        "    padded_mfccs = torch.stack(padded_mfccs)\n",
        "    padded_labels = torch.stack(padded_labels)\n",
        "\n",
        "    return padded_mfccs, padded_labels\n",
        "\n"
      ],
      "metadata": {
        "id": "S2BlBMgKS99x"
      },
      "execution_count": null,
      "outputs": []
    },
    {
      "cell_type": "markdown",
      "source": [
        "execute and review"
      ],
      "metadata": {
        "id": "j9QDDW8XQ3xw"
      }
    },
    {
      "cell_type": "code",
      "source": [
        "train_ds = PhonemeASRDataset(train_feats, train_labels, ipa2idx = ipa2idx)\n",
        "train_loader = DataLoader(train_ds, batch_size = 32, # can adjust\n",
        "                          shuffle = True, collate_fn=pad_collate) # yields batch_size x max_len x num_feats as one training batch\n",
        "## Task: should discover more about collate_fn keyword"
      ],
      "metadata": {
        "id": "kKY3IZhSS04Q"
      },
      "execution_count": null,
      "outputs": []
    },
    {
      "cell_type": "code",
      "source": [
        "a, b = next(iter(train_loader))\n",
        "print(a.shape, b.shape)"
      ],
      "metadata": {
        "colab": {
          "base_uri": "https://localhost:8080/"
        },
        "id": "7TsTyyh5W3Sj",
        "outputId": "b5ef8b12-2e82-4482-f902-08f97e47e5db"
      },
      "execution_count": null,
      "outputs": [
        {
          "output_type": "stream",
          "name": "stdout",
          "text": [
            "torch.Size([32, 138, 39]) torch.Size([32, 54])\n"
          ]
        }
      ]
    },
    {
      "cell_type": "markdown",
      "source": [
        "#### Model Architecture"
      ],
      "metadata": {
        "id": "ZdEre2cMpFF4"
      }
    },
    {
      "cell_type": "markdown",
      "source": [
        "define Loss Function"
      ],
      "metadata": {
        "id": "8Cu2m5ySw1S2"
      }
    },
    {
      "cell_type": "code",
      "source": [
        "def CTCLoss(y_true, y_pred):\n",
        "  '''\n",
        "  caculate CTC loss\n",
        "  args:\n",
        "    y_true:\n",
        "      gold labels for input sequence\n",
        "    y_pred:\n",
        "      predicted labels obtained from model\n",
        "  return:\n",
        "    loss value ## should discover more\n",
        "\n",
        "  '''\n",
        "\n",
        "  batch_len = tf.cast(tf.shape(y_true)[0], dtype = 'int64') # batch_size\n",
        "  input_length = tf.cast(tf.shape(y_pred)[1], dtype = 'int64') # prediction sequence length\n",
        "  label_length = tf.cast(tf.shape(y_true)[1], dtype = 'int64') # gold labels length\n",
        "\n",
        "  input_length = input_length * tf.ones(shape = (batch_len, 1), dtype = 'int64')\n",
        "  label_length = label_length * tf.ones(shape = (batch_len, 1), dtype = 'int64')\n",
        "  print(input_length, label_length)\n",
        "\n",
        "  loss = keras.backend.ctc_batch_cost(y_true, y_pred, input_length, label_length)\n",
        "\n",
        "  return loss"
      ],
      "metadata": {
        "id": "ZUfVTq1gwy-2"
      },
      "execution_count": 114,
      "outputs": []
    },
    {
      "cell_type": "markdown",
      "source": [
        "define (Positional) Encoder"
      ],
      "metadata": {
        "id": "2mpNBrsrqa9Z"
      }
    },
    {
      "cell_type": "code",
      "source": [
        "class SequenceWise(nn.Module):\n",
        "  def __init__(self, module):\n",
        "    super(SequenceWise, self).__init__()\n",
        "    self.module = module\n",
        "\n",
        "  def forward(self, x):\n",
        "    try:\n",
        "      x, batch_size = x.data, x.batch_sizes\n",
        "      # print(x)\n",
        "      # x.data: sum(x_len * num_features)\n",
        "      x = self.module(x)\n",
        "      x = nn.utils.rnn.PackedSequence(x, batch_size)\n",
        "\n",
        "    except:\n",
        "      t, n = x.size(0), x.size(1)\n",
        "      x = x.view(t * n, -1)\n",
        "      # print(x)\n",
        "      # x : sum(x_len) * num_features\n",
        "      x = self.module(x)\n",
        "      x = x.view(t, n, -1)\n",
        "    return x\n",
        "\n",
        "  def __repr__(self):\n",
        "    tmpstr = self.__class__.__name__ + ' (\\n'\n",
        "    tmpstr += self.module.__repr__()\n",
        "    tmpstr += ')'\n",
        "    return tmpstr"
      ],
      "metadata": {
        "id": "aA5Bktn3rEbs"
      },
      "execution_count": 116,
      "outputs": []
    },
    {
      "cell_type": "markdown",
      "source": [
        "define RNN Encoder"
      ],
      "metadata": {
        "id": "0F0mPuzOY4UY"
      }
    },
    {
      "cell_type": "code",
      "source": [
        "class RNNEncoder(nn.Module):\n",
        "  def __init__(self, input_size, hidden_size, rnn_type = nn.GRU,\n",
        "               bidirectional = True, batch_norm = True, dropout = 0.2):\n",
        "    super(RNNEncoder, self).__init__()\n",
        "    self.input_size = input_size\n",
        "    self.hidden_size = hidden_size\n",
        "    self.bidirectional= bidirectional\n",
        "    self.batch_norm = SequenceWise(nn.BatchNorm1d(input_size)) if batch_norm else None\n",
        "    self.rnn = rnn.type(input_size = input_size, hidden_size = hidden_size,\n",
        "                        bidirectional = bidirectional, dropout = dropout, bias = False)\n",
        "\n",
        "  def forward(self, x):\n",
        "    if self.batch_norm is not None:\n",
        "      x = self.batch_norm(x)\n",
        "    decoder_hidden, decoder_states = self.rnn(x)\n",
        "    self.rnn.flatten_parameters()\n",
        "    return x"
      ],
      "metadata": {
        "id": "6GUGoV2vY6ij"
      },
      "execution_count": 115,
      "outputs": []
    },
    {
      "cell_type": "markdown",
      "source": [
        "define CTC-RNN linkage"
      ],
      "metadata": {
        "id": "hBSH9boTrsz1"
      }
    },
    {
      "cell_type": "markdown",
      "source": [
        "define CNN-RNN-CTC model"
      ],
      "metadata": {
        "id": "er04Z-mKrxbG"
      }
    },
    {
      "cell_type": "markdown",
      "source": [
        "execute and reivew"
      ],
      "metadata": {
        "id": "F3VuGxw8RImj"
      }
    },
    {
      "cell_type": "markdown",
      "source": [
        "#### call relevant dictionaries"
      ],
      "metadata": {
        "id": "NmbCuVKXZ5fy"
      }
    },
    {
      "cell_type": "code",
      "source": [
        "# for model\n",
        "ipa2idx = ipa2idx\n",
        "idx2ipa = {idx:ipa for ipa, idx in ipa2idx.item()}\n",
        "\n",
        "# for decoding\n",
        "eng2yor =\n",
        "yor2eng = {yor:eng for eng, yor in eng2yor.item()}"
      ],
      "metadata": {
        "id": "qwm8xP-dZ9xS"
      },
      "execution_count": null,
      "outputs": []
    },
    {
      "cell_type": "markdown",
      "source": [
        "#### train"
      ],
      "metadata": {
        "id": "_78q8LbJr5Pw"
      }
    },
    {
      "cell_type": "markdown",
      "source": [
        "define train function"
      ],
      "metadata": {
        "id": "MMnHh9pAjcNv"
      }
    },
    {
      "cell_type": "code",
      "source": [
        "def train_epochs(dataloader, model, num_epochs):\n",
        "  # set model mode\n",
        "  # loop\n",
        "    # feed data\n",
        "    # calculate loss\n",
        "    # back propagation\n",
        "    # parameter update\n",
        "    # record loss\n",
        "  # return seth"
      ],
      "metadata": {
        "id": "OD4KxTPEop1w"
      },
      "execution_count": null,
      "outputs": []
    },
    {
      "cell_type": "markdown",
      "source": [
        "set up device"
      ],
      "metadata": {
        "id": "MQJuqVzXoYop"
      }
    },
    {
      "cell_type": "code",
      "source": [
        "device = 'cuda' if torch.cuda.is_available() else 'cpu'"
      ],
      "metadata": {
        "id": "fOgD6P0rjbew"
      },
      "execution_count": null,
      "outputs": []
    },
    {
      "cell_type": "markdown",
      "source": [
        "set settings"
      ],
      "metadata": {
        "id": "WSeGy9T7_FlC"
      }
    },
    {
      "cell_type": "markdown",
      "source": [
        "execute and review"
      ],
      "metadata": {
        "id": "zKnQgW3e_J2y"
      }
    },
    {
      "cell_type": "markdown",
      "source": [
        "#### evaluate"
      ],
      "metadata": {
        "id": "lO2wf5-3_CC0"
      }
    },
    {
      "cell_type": "markdown",
      "source": [
        "define evaluation function"
      ],
      "metadata": {
        "id": "_kX_5dzZo9EP"
      }
    },
    {
      "cell_type": "markdown",
      "source": [
        "set up device"
      ],
      "metadata": {
        "id": "ieFusvl5_D1A"
      }
    },
    {
      "cell_type": "markdown",
      "source": [
        "set settings"
      ],
      "metadata": {
        "id": "JvVG-w-r_LVA"
      }
    },
    {
      "cell_type": "markdown",
      "source": [
        "execute and reivew"
      ],
      "metadata": {
        "id": "1f-xgJEf_MjG"
      }
    }
  ]
}