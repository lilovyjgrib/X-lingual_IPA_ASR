{
  "nbformat": 4,
  "nbformat_minor": 0,
  "metadata": {
    "colab": {
      "provenance": []
    },
    "kernelspec": {
      "name": "python3",
      "display_name": "Python 3"
    },
    "language_info": {
      "name": "python"
    },
    "widgets": {
      "application/vnd.jupyter.widget-state+json": {
        "d864f7529dad4eb3adcc3595e248565b": {
          "model_module": "@jupyter-widgets/controls",
          "model_name": "HBoxModel",
          "model_module_version": "1.5.0",
          "state": {
            "_dom_classes": [],
            "_model_module": "@jupyter-widgets/controls",
            "_model_module_version": "1.5.0",
            "_model_name": "HBoxModel",
            "_view_count": null,
            "_view_module": "@jupyter-widgets/controls",
            "_view_module_version": "1.5.0",
            "_view_name": "HBoxView",
            "box_style": "",
            "children": [
              "IPY_MODEL_c3e333b19ae249e6ba92da2a40fbb09b",
              "IPY_MODEL_c82a1af8c16a4a4d918ed461c5b8687d",
              "IPY_MODEL_9df021e219784be49508e812f31a2e85"
            ],
            "layout": "IPY_MODEL_ddd4d8b06808477aa960a1b81cc03de3"
          }
        },
        "c3e333b19ae249e6ba92da2a40fbb09b": {
          "model_module": "@jupyter-widgets/controls",
          "model_name": "HTMLModel",
          "model_module_version": "1.5.0",
          "state": {
            "_dom_classes": [],
            "_model_module": "@jupyter-widgets/controls",
            "_model_module_version": "1.5.0",
            "_model_name": "HTMLModel",
            "_view_count": null,
            "_view_module": "@jupyter-widgets/controls",
            "_view_module_version": "1.5.0",
            "_view_name": "HTMLView",
            "description": "",
            "description_tooltip": null,
            "layout": "IPY_MODEL_435b89392d704510a8bbfb460a8c62d7",
            "placeholder": "​",
            "style": "IPY_MODEL_7e3d6d6bc776492ca247d02c1e2d890d",
            "value": "Epoch:   0%"
          }
        },
        "c82a1af8c16a4a4d918ed461c5b8687d": {
          "model_module": "@jupyter-widgets/controls",
          "model_name": "FloatProgressModel",
          "model_module_version": "1.5.0",
          "state": {
            "_dom_classes": [],
            "_model_module": "@jupyter-widgets/controls",
            "_model_module_version": "1.5.0",
            "_model_name": "FloatProgressModel",
            "_view_count": null,
            "_view_module": "@jupyter-widgets/controls",
            "_view_module_version": "1.5.0",
            "_view_name": "ProgressView",
            "bar_style": "",
            "description": "",
            "description_tooltip": null,
            "layout": "IPY_MODEL_0bcc231b4db1408489c181eb7dd2ebf7",
            "max": 70,
            "min": 0,
            "orientation": "horizontal",
            "style": "IPY_MODEL_0efd239d984c4984acfab642582eee34",
            "value": 0
          }
        },
        "9df021e219784be49508e812f31a2e85": {
          "model_module": "@jupyter-widgets/controls",
          "model_name": "HTMLModel",
          "model_module_version": "1.5.0",
          "state": {
            "_dom_classes": [],
            "_model_module": "@jupyter-widgets/controls",
            "_model_module_version": "1.5.0",
            "_model_name": "HTMLModel",
            "_view_count": null,
            "_view_module": "@jupyter-widgets/controls",
            "_view_module_version": "1.5.0",
            "_view_name": "HTMLView",
            "description": "",
            "description_tooltip": null,
            "layout": "IPY_MODEL_12c4b9371f264c6fa15abd6582101d4c",
            "placeholder": "​",
            "style": "IPY_MODEL_04bfeeab900947b7a2d4076ec115b5ea",
            "value": " 0/70 [00:00&lt;?, ?it/s]"
          }
        },
        "ddd4d8b06808477aa960a1b81cc03de3": {
          "model_module": "@jupyter-widgets/base",
          "model_name": "LayoutModel",
          "model_module_version": "1.2.0",
          "state": {
            "_model_module": "@jupyter-widgets/base",
            "_model_module_version": "1.2.0",
            "_model_name": "LayoutModel",
            "_view_count": null,
            "_view_module": "@jupyter-widgets/base",
            "_view_module_version": "1.2.0",
            "_view_name": "LayoutView",
            "align_content": null,
            "align_items": null,
            "align_self": null,
            "border": null,
            "bottom": null,
            "display": null,
            "flex": null,
            "flex_flow": null,
            "grid_area": null,
            "grid_auto_columns": null,
            "grid_auto_flow": null,
            "grid_auto_rows": null,
            "grid_column": null,
            "grid_gap": null,
            "grid_row": null,
            "grid_template_areas": null,
            "grid_template_columns": null,
            "grid_template_rows": null,
            "height": null,
            "justify_content": null,
            "justify_items": null,
            "left": null,
            "margin": null,
            "max_height": null,
            "max_width": null,
            "min_height": null,
            "min_width": null,
            "object_fit": null,
            "object_position": null,
            "order": null,
            "overflow": null,
            "overflow_x": null,
            "overflow_y": null,
            "padding": null,
            "right": null,
            "top": null,
            "visibility": null,
            "width": null
          }
        },
        "435b89392d704510a8bbfb460a8c62d7": {
          "model_module": "@jupyter-widgets/base",
          "model_name": "LayoutModel",
          "model_module_version": "1.2.0",
          "state": {
            "_model_module": "@jupyter-widgets/base",
            "_model_module_version": "1.2.0",
            "_model_name": "LayoutModel",
            "_view_count": null,
            "_view_module": "@jupyter-widgets/base",
            "_view_module_version": "1.2.0",
            "_view_name": "LayoutView",
            "align_content": null,
            "align_items": null,
            "align_self": null,
            "border": null,
            "bottom": null,
            "display": null,
            "flex": null,
            "flex_flow": null,
            "grid_area": null,
            "grid_auto_columns": null,
            "grid_auto_flow": null,
            "grid_auto_rows": null,
            "grid_column": null,
            "grid_gap": null,
            "grid_row": null,
            "grid_template_areas": null,
            "grid_template_columns": null,
            "grid_template_rows": null,
            "height": null,
            "justify_content": null,
            "justify_items": null,
            "left": null,
            "margin": null,
            "max_height": null,
            "max_width": null,
            "min_height": null,
            "min_width": null,
            "object_fit": null,
            "object_position": null,
            "order": null,
            "overflow": null,
            "overflow_x": null,
            "overflow_y": null,
            "padding": null,
            "right": null,
            "top": null,
            "visibility": null,
            "width": null
          }
        },
        "7e3d6d6bc776492ca247d02c1e2d890d": {
          "model_module": "@jupyter-widgets/controls",
          "model_name": "DescriptionStyleModel",
          "model_module_version": "1.5.0",
          "state": {
            "_model_module": "@jupyter-widgets/controls",
            "_model_module_version": "1.5.0",
            "_model_name": "DescriptionStyleModel",
            "_view_count": null,
            "_view_module": "@jupyter-widgets/base",
            "_view_module_version": "1.2.0",
            "_view_name": "StyleView",
            "description_width": ""
          }
        },
        "0bcc231b4db1408489c181eb7dd2ebf7": {
          "model_module": "@jupyter-widgets/base",
          "model_name": "LayoutModel",
          "model_module_version": "1.2.0",
          "state": {
            "_model_module": "@jupyter-widgets/base",
            "_model_module_version": "1.2.0",
            "_model_name": "LayoutModel",
            "_view_count": null,
            "_view_module": "@jupyter-widgets/base",
            "_view_module_version": "1.2.0",
            "_view_name": "LayoutView",
            "align_content": null,
            "align_items": null,
            "align_self": null,
            "border": null,
            "bottom": null,
            "display": null,
            "flex": null,
            "flex_flow": null,
            "grid_area": null,
            "grid_auto_columns": null,
            "grid_auto_flow": null,
            "grid_auto_rows": null,
            "grid_column": null,
            "grid_gap": null,
            "grid_row": null,
            "grid_template_areas": null,
            "grid_template_columns": null,
            "grid_template_rows": null,
            "height": null,
            "justify_content": null,
            "justify_items": null,
            "left": null,
            "margin": null,
            "max_height": null,
            "max_width": null,
            "min_height": null,
            "min_width": null,
            "object_fit": null,
            "object_position": null,
            "order": null,
            "overflow": null,
            "overflow_x": null,
            "overflow_y": null,
            "padding": null,
            "right": null,
            "top": null,
            "visibility": null,
            "width": null
          }
        },
        "0efd239d984c4984acfab642582eee34": {
          "model_module": "@jupyter-widgets/controls",
          "model_name": "ProgressStyleModel",
          "model_module_version": "1.5.0",
          "state": {
            "_model_module": "@jupyter-widgets/controls",
            "_model_module_version": "1.5.0",
            "_model_name": "ProgressStyleModel",
            "_view_count": null,
            "_view_module": "@jupyter-widgets/base",
            "_view_module_version": "1.2.0",
            "_view_name": "StyleView",
            "bar_color": null,
            "description_width": ""
          }
        },
        "12c4b9371f264c6fa15abd6582101d4c": {
          "model_module": "@jupyter-widgets/base",
          "model_name": "LayoutModel",
          "model_module_version": "1.2.0",
          "state": {
            "_model_module": "@jupyter-widgets/base",
            "_model_module_version": "1.2.0",
            "_model_name": "LayoutModel",
            "_view_count": null,
            "_view_module": "@jupyter-widgets/base",
            "_view_module_version": "1.2.0",
            "_view_name": "LayoutView",
            "align_content": null,
            "align_items": null,
            "align_self": null,
            "border": null,
            "bottom": null,
            "display": null,
            "flex": null,
            "flex_flow": null,
            "grid_area": null,
            "grid_auto_columns": null,
            "grid_auto_flow": null,
            "grid_auto_rows": null,
            "grid_column": null,
            "grid_gap": null,
            "grid_row": null,
            "grid_template_areas": null,
            "grid_template_columns": null,
            "grid_template_rows": null,
            "height": null,
            "justify_content": null,
            "justify_items": null,
            "left": null,
            "margin": null,
            "max_height": null,
            "max_width": null,
            "min_height": null,
            "min_width": null,
            "object_fit": null,
            "object_position": null,
            "order": null,
            "overflow": null,
            "overflow_x": null,
            "overflow_y": null,
            "padding": null,
            "right": null,
            "top": null,
            "visibility": null,
            "width": null
          }
        },
        "04bfeeab900947b7a2d4076ec115b5ea": {
          "model_module": "@jupyter-widgets/controls",
          "model_name": "DescriptionStyleModel",
          "model_module_version": "1.5.0",
          "state": {
            "_model_module": "@jupyter-widgets/controls",
            "_model_module_version": "1.5.0",
            "_model_name": "DescriptionStyleModel",
            "_view_count": null,
            "_view_module": "@jupyter-widgets/base",
            "_view_module_version": "1.2.0",
            "_view_name": "StyleView",
            "description_width": ""
          }
        },
        "479a99148deb4d40a6b3f1a5cc4a442a": {
          "model_module": "@jupyter-widgets/controls",
          "model_name": "HBoxModel",
          "model_module_version": "1.5.0",
          "state": {
            "_dom_classes": [],
            "_model_module": "@jupyter-widgets/controls",
            "_model_module_version": "1.5.0",
            "_model_name": "HBoxModel",
            "_view_count": null,
            "_view_module": "@jupyter-widgets/controls",
            "_view_module_version": "1.5.0",
            "_view_name": "HBoxView",
            "box_style": "",
            "children": [
              "IPY_MODEL_a40c66756fa0498f94bd59584652199d",
              "IPY_MODEL_aaf060ea3b184dcc8246309d6397be93",
              "IPY_MODEL_e98cc21cafd14b6481abf4a82f9ab1ba"
            ],
            "layout": "IPY_MODEL_03108c128e5745d2a69dcb5e832f806f"
          }
        },
        "a40c66756fa0498f94bd59584652199d": {
          "model_module": "@jupyter-widgets/controls",
          "model_name": "HTMLModel",
          "model_module_version": "1.5.0",
          "state": {
            "_dom_classes": [],
            "_model_module": "@jupyter-widgets/controls",
            "_model_module_version": "1.5.0",
            "_model_name": "HTMLModel",
            "_view_count": null,
            "_view_module": "@jupyter-widgets/controls",
            "_view_module_version": "1.5.0",
            "_view_name": "HTMLView",
            "description": "",
            "description_tooltip": null,
            "layout": "IPY_MODEL_825243a9803845188d346dfec2f29c55",
            "placeholder": "​",
            "style": "IPY_MODEL_e9a60a3210ff4409be235784631b76ba",
            "value": "Batch:   2%"
          }
        },
        "aaf060ea3b184dcc8246309d6397be93": {
          "model_module": "@jupyter-widgets/controls",
          "model_name": "FloatProgressModel",
          "model_module_version": "1.5.0",
          "state": {
            "_dom_classes": [],
            "_model_module": "@jupyter-widgets/controls",
            "_model_module_version": "1.5.0",
            "_model_name": "FloatProgressModel",
            "_view_count": null,
            "_view_module": "@jupyter-widgets/controls",
            "_view_module_version": "1.5.0",
            "_view_name": "ProgressView",
            "bar_style": "",
            "description": "",
            "description_tooltip": null,
            "layout": "IPY_MODEL_f8efae5a2613454693e9941534d8359e",
            "max": 55,
            "min": 0,
            "orientation": "horizontal",
            "style": "IPY_MODEL_7bd0cc10a70c45cfaf69be4f6b80d485",
            "value": 1
          }
        },
        "e98cc21cafd14b6481abf4a82f9ab1ba": {
          "model_module": "@jupyter-widgets/controls",
          "model_name": "HTMLModel",
          "model_module_version": "1.5.0",
          "state": {
            "_dom_classes": [],
            "_model_module": "@jupyter-widgets/controls",
            "_model_module_version": "1.5.0",
            "_model_name": "HTMLModel",
            "_view_count": null,
            "_view_module": "@jupyter-widgets/controls",
            "_view_module_version": "1.5.0",
            "_view_name": "HTMLView",
            "description": "",
            "description_tooltip": null,
            "layout": "IPY_MODEL_055869b1039b4b508f934567e700ef7e",
            "placeholder": "​",
            "style": "IPY_MODEL_39b069c46e1f4a0ba58930f16430cf63",
            "value": " 1/55 [00:04&lt;04:02,  4.49s/it, loss=2.61e+4]"
          }
        },
        "03108c128e5745d2a69dcb5e832f806f": {
          "model_module": "@jupyter-widgets/base",
          "model_name": "LayoutModel",
          "model_module_version": "1.2.0",
          "state": {
            "_model_module": "@jupyter-widgets/base",
            "_model_module_version": "1.2.0",
            "_model_name": "LayoutModel",
            "_view_count": null,
            "_view_module": "@jupyter-widgets/base",
            "_view_module_version": "1.2.0",
            "_view_name": "LayoutView",
            "align_content": null,
            "align_items": null,
            "align_self": null,
            "border": null,
            "bottom": null,
            "display": null,
            "flex": null,
            "flex_flow": null,
            "grid_area": null,
            "grid_auto_columns": null,
            "grid_auto_flow": null,
            "grid_auto_rows": null,
            "grid_column": null,
            "grid_gap": null,
            "grid_row": null,
            "grid_template_areas": null,
            "grid_template_columns": null,
            "grid_template_rows": null,
            "height": null,
            "justify_content": null,
            "justify_items": null,
            "left": null,
            "margin": null,
            "max_height": null,
            "max_width": null,
            "min_height": null,
            "min_width": null,
            "object_fit": null,
            "object_position": null,
            "order": null,
            "overflow": null,
            "overflow_x": null,
            "overflow_y": null,
            "padding": null,
            "right": null,
            "top": null,
            "visibility": null,
            "width": null
          }
        },
        "825243a9803845188d346dfec2f29c55": {
          "model_module": "@jupyter-widgets/base",
          "model_name": "LayoutModel",
          "model_module_version": "1.2.0",
          "state": {
            "_model_module": "@jupyter-widgets/base",
            "_model_module_version": "1.2.0",
            "_model_name": "LayoutModel",
            "_view_count": null,
            "_view_module": "@jupyter-widgets/base",
            "_view_module_version": "1.2.0",
            "_view_name": "LayoutView",
            "align_content": null,
            "align_items": null,
            "align_self": null,
            "border": null,
            "bottom": null,
            "display": null,
            "flex": null,
            "flex_flow": null,
            "grid_area": null,
            "grid_auto_columns": null,
            "grid_auto_flow": null,
            "grid_auto_rows": null,
            "grid_column": null,
            "grid_gap": null,
            "grid_row": null,
            "grid_template_areas": null,
            "grid_template_columns": null,
            "grid_template_rows": null,
            "height": null,
            "justify_content": null,
            "justify_items": null,
            "left": null,
            "margin": null,
            "max_height": null,
            "max_width": null,
            "min_height": null,
            "min_width": null,
            "object_fit": null,
            "object_position": null,
            "order": null,
            "overflow": null,
            "overflow_x": null,
            "overflow_y": null,
            "padding": null,
            "right": null,
            "top": null,
            "visibility": null,
            "width": null
          }
        },
        "e9a60a3210ff4409be235784631b76ba": {
          "model_module": "@jupyter-widgets/controls",
          "model_name": "DescriptionStyleModel",
          "model_module_version": "1.5.0",
          "state": {
            "_model_module": "@jupyter-widgets/controls",
            "_model_module_version": "1.5.0",
            "_model_name": "DescriptionStyleModel",
            "_view_count": null,
            "_view_module": "@jupyter-widgets/base",
            "_view_module_version": "1.2.0",
            "_view_name": "StyleView",
            "description_width": ""
          }
        },
        "f8efae5a2613454693e9941534d8359e": {
          "model_module": "@jupyter-widgets/base",
          "model_name": "LayoutModel",
          "model_module_version": "1.2.0",
          "state": {
            "_model_module": "@jupyter-widgets/base",
            "_model_module_version": "1.2.0",
            "_model_name": "LayoutModel",
            "_view_count": null,
            "_view_module": "@jupyter-widgets/base",
            "_view_module_version": "1.2.0",
            "_view_name": "LayoutView",
            "align_content": null,
            "align_items": null,
            "align_self": null,
            "border": null,
            "bottom": null,
            "display": null,
            "flex": null,
            "flex_flow": null,
            "grid_area": null,
            "grid_auto_columns": null,
            "grid_auto_flow": null,
            "grid_auto_rows": null,
            "grid_column": null,
            "grid_gap": null,
            "grid_row": null,
            "grid_template_areas": null,
            "grid_template_columns": null,
            "grid_template_rows": null,
            "height": null,
            "justify_content": null,
            "justify_items": null,
            "left": null,
            "margin": null,
            "max_height": null,
            "max_width": null,
            "min_height": null,
            "min_width": null,
            "object_fit": null,
            "object_position": null,
            "order": null,
            "overflow": null,
            "overflow_x": null,
            "overflow_y": null,
            "padding": null,
            "right": null,
            "top": null,
            "visibility": null,
            "width": null
          }
        },
        "7bd0cc10a70c45cfaf69be4f6b80d485": {
          "model_module": "@jupyter-widgets/controls",
          "model_name": "ProgressStyleModel",
          "model_module_version": "1.5.0",
          "state": {
            "_model_module": "@jupyter-widgets/controls",
            "_model_module_version": "1.5.0",
            "_model_name": "ProgressStyleModel",
            "_view_count": null,
            "_view_module": "@jupyter-widgets/base",
            "_view_module_version": "1.2.0",
            "_view_name": "StyleView",
            "bar_color": null,
            "description_width": ""
          }
        },
        "055869b1039b4b508f934567e700ef7e": {
          "model_module": "@jupyter-widgets/base",
          "model_name": "LayoutModel",
          "model_module_version": "1.2.0",
          "state": {
            "_model_module": "@jupyter-widgets/base",
            "_model_module_version": "1.2.0",
            "_model_name": "LayoutModel",
            "_view_count": null,
            "_view_module": "@jupyter-widgets/base",
            "_view_module_version": "1.2.0",
            "_view_name": "LayoutView",
            "align_content": null,
            "align_items": null,
            "align_self": null,
            "border": null,
            "bottom": null,
            "display": null,
            "flex": null,
            "flex_flow": null,
            "grid_area": null,
            "grid_auto_columns": null,
            "grid_auto_flow": null,
            "grid_auto_rows": null,
            "grid_column": null,
            "grid_gap": null,
            "grid_row": null,
            "grid_template_areas": null,
            "grid_template_columns": null,
            "grid_template_rows": null,
            "height": null,
            "justify_content": null,
            "justify_items": null,
            "left": null,
            "margin": null,
            "max_height": null,
            "max_width": null,
            "min_height": null,
            "min_width": null,
            "object_fit": null,
            "object_position": null,
            "order": null,
            "overflow": null,
            "overflow_x": null,
            "overflow_y": null,
            "padding": null,
            "right": null,
            "top": null,
            "visibility": null,
            "width": null
          }
        },
        "39b069c46e1f4a0ba58930f16430cf63": {
          "model_module": "@jupyter-widgets/controls",
          "model_name": "DescriptionStyleModel",
          "model_module_version": "1.5.0",
          "state": {
            "_model_module": "@jupyter-widgets/controls",
            "_model_module_version": "1.5.0",
            "_model_name": "DescriptionStyleModel",
            "_view_count": null,
            "_view_module": "@jupyter-widgets/base",
            "_view_module_version": "1.2.0",
            "_view_name": "StyleView",
            "description_width": ""
          }
        }
      }
    }
  },
  "cells": [
    {
      "cell_type": "code",
      "source": [
        "from google.colab import drive\n",
        "drive.mount('/content/drive', force_remount= True)\n",
        "\n",
        "import os\n",
        "os.chdir('./drive/MyDrive')"
      ],
      "metadata": {
        "colab": {
          "base_uri": "https://localhost:8080/"
        },
        "id": "kzQFlleGTFJ2",
        "outputId": "d71536d7-a2b1-4f4e-c008-e9ee7607e43c"
      },
      "execution_count": 1,
      "outputs": [
        {
          "output_type": "stream",
          "name": "stdout",
          "text": [
            "Mounted at /content/drive\n"
          ]
        }
      ]
    },
    {
      "cell_type": "markdown",
      "source": [
        "#### import"
      ],
      "metadata": {
        "id": "f9_8U10qZ03H"
      }
    },
    {
      "cell_type": "code",
      "source": [
        "!pip install params\n",
        "!pip install jiwer"
      ],
      "metadata": {
        "colab": {
          "base_uri": "https://localhost:8080/"
        },
        "id": "Og37GU8EYXQt",
        "outputId": "c958b0de-3fef-4e45-c73c-82469cb1439b"
      },
      "execution_count": 2,
      "outputs": [
        {
          "output_type": "stream",
          "name": "stdout",
          "text": [
            "Collecting params\n",
            "  Downloading params-0.9.0-py3-none-any.whl.metadata (631 bytes)\n",
            "Requirement already satisfied: six in /usr/local/lib/python3.11/dist-packages (from params) (1.17.0)\n",
            "Downloading params-0.9.0-py3-none-any.whl (11 kB)\n",
            "Installing collected packages: params\n",
            "Successfully installed params-0.9.0\n",
            "Collecting jiwer\n",
            "  Downloading jiwer-4.0.0-py3-none-any.whl.metadata (3.3 kB)\n",
            "Requirement already satisfied: click>=8.1.8 in /usr/local/lib/python3.11/dist-packages (from jiwer) (8.2.1)\n",
            "Collecting rapidfuzz>=3.9.7 (from jiwer)\n",
            "  Downloading rapidfuzz-3.13.0-cp311-cp311-manylinux_2_17_x86_64.manylinux2014_x86_64.whl.metadata (12 kB)\n",
            "Downloading jiwer-4.0.0-py3-none-any.whl (23 kB)\n",
            "Downloading rapidfuzz-3.13.0-cp311-cp311-manylinux_2_17_x86_64.manylinux2014_x86_64.whl (3.1 MB)\n",
            "\u001b[2K   \u001b[90m━━━━━━━━━━━━━━━━━━━━━━━━━━━━━━━━━━━━━━━━\u001b[0m \u001b[32m3.1/3.1 MB\u001b[0m \u001b[31m32.6 MB/s\u001b[0m eta \u001b[36m0:00:00\u001b[0m\n",
            "\u001b[?25hInstalling collected packages: rapidfuzz, jiwer\n",
            "Successfully installed jiwer-4.0.0 rapidfuzz-3.13.0\n"
          ]
        }
      ]
    },
    {
      "cell_type": "code",
      "execution_count": 3,
      "metadata": {
        "id": "MBgjbdM6-GvG"
      },
      "outputs": [],
      "source": [
        "import torch\n",
        "import torch.nn as nn\n",
        "import torch.nn.functional as F\n",
        "import torch.optim as optim\n",
        "from torch.utils.data import Dataset, DataLoader\n",
        "\n",
        "from sklearn.model_selection import train_test_split\n",
        "from tqdm.notebook import tqdm\n",
        "import editdistance as ed\n",
        "\n",
        "import subprocess\n",
        "import numpy as np\n",
        "import matplotlib.pyplot\n",
        "from IPython import display\n",
        "from jiwer import wer\n",
        "import params\n",
        "import time\n",
        "import re\n"
      ]
    },
    {
      "cell_type": "markdown",
      "source": [
        "#### read data\n",
        "define help function"
      ],
      "metadata": {
        "id": "2eh1FR-obeeY"
      }
    },
    {
      "cell_type": "code",
      "source": [
        "def read_TIMIT(path):\n",
        "  '''\n",
        "  args:\n",
        "    path: path of TIMIT data(mfcc features, phoneme labels)\n",
        "  return:\n",
        "    feats: list of list for each audio samples\n",
        "    labels: list of list for each audio samples\n",
        "  '''\n",
        "\n",
        "  feats, labels= [], []\n",
        "  length_feats, length_labels= [], []\n",
        "\n",
        "  # read processed TIMIT data\n",
        "  # list of dictionarys with keys being 'mfcc', 'phonemes', 'path'\n",
        "  samples= torch.load(path, weights_only= False)\n",
        "  for idx in range(len(samples)):\n",
        "    feats.append(samples[idx]['mfcc'])\n",
        "    labels.append([phoneme.strip() for phoneme in samples[idx]['phonemes']])\n",
        "  return feats, labels\n"
      ],
      "metadata": {
        "id": "5DBThAEHbhhf"
      },
      "execution_count": 34,
      "outputs": []
    },
    {
      "cell_type": "markdown",
      "source": [
        "execute and review"
      ],
      "metadata": {
        "id": "hgNIqdSed4aw"
      }
    },
    {
      "cell_type": "code",
      "source": [
        "os.listdir()[-3]"
      ],
      "metadata": {
        "colab": {
          "base_uri": "https://localhost:8080/",
          "height": 35
        },
        "id": "tO_ghkWBJ3mq",
        "outputId": "a07a79e4-ec82-4858-c195-3224a7b14d3f"
      },
      "execution_count": 35,
      "outputs": [
        {
          "output_type": "execute_result",
          "data": {
            "text/plain": [
              "'timit_mfcc_data.pt'"
            ],
            "application/vnd.google.colaboratory.intrinsic+json": {
              "type": "string"
            }
          },
          "metadata": {},
          "execution_count": 35
        }
      ]
    },
    {
      "cell_type": "code",
      "source": [
        "# split train / dev data\n",
        "path= r'timit_mfcc_data.pt'\n",
        "feats, labels= read_TIMIT(path)\n",
        "\n",
        "train_feats, dev_feats, train_labels, dev_labels= train_test_split(feats, labels)"
      ],
      "metadata": {
        "id": "ESPf-sMUdkMc"
      },
      "execution_count": 69,
      "outputs": []
    },
    {
      "cell_type": "code",
      "source": [
        "# check mfcc feature matrix dimension\n",
        "print(f'MFCC feature matrix Shape(one audio sample):\\t{train_feats[-1].shape}')\n",
        "# check IPA repository\n",
        "print(f'phoneme labels(one audio sample):\\t{train_labels[-1]}')\n",
        "\n",
        "# seems like 'h#' marks sos and eos"
      ],
      "metadata": {
        "colab": {
          "base_uri": "https://localhost:8080/"
        },
        "id": "7l2g0WQoKorH",
        "outputId": "9d776186-540b-4511-f692-3672ff2b433c"
      },
      "execution_count": 70,
      "outputs": [
        {
          "output_type": "stream",
          "name": "stdout",
          "text": [
            "MFCC feature matrix Shape(one audio sample):\t(104, 39)\n",
            "phoneme labels(one audio sample):\t['h#', 'dh', 'ax', 'm', 'oy', 's', 'tcl', 'ch', 'er', 'en', 'm', 'aa', 'q', 'ay', 'z', 'ix', 'z', 'f', 'em', 'q', 'ay', 'dcl', 'd', 'r', 'aa', 'pcl', 's', 'pau', 'n', 'aa', 'tcl', 'f', 'em', 'tcl', 't', 'ih', 'axr', 'z', 'h#']\n"
          ]
        }
      ]
    },
    {
      "cell_type": "code",
      "source": [
        "print('\\n'.join([f'num_frames:\\t{len(train_feats[0])}', f'num_labels:\\t{len(train_labels[0])}']))"
      ],
      "metadata": {
        "colab": {
          "base_uri": "https://localhost:8080/"
        },
        "id": "IXGaIdZoL6VY",
        "outputId": "dadb8058-8e0b-40b0-913a-45f9b6e7ea05"
      },
      "execution_count": 71,
      "outputs": [
        {
          "output_type": "stream",
          "name": "stdout",
          "text": [
            "num_frames:\t193\n",
            "num_labels:\t61\n"
          ]
        }
      ]
    },
    {
      "cell_type": "code",
      "source": [
        "# mark max length for mfcc features and labels\n",
        "max_len_feats= max([len(feat) for feat in feats])\n",
        "max_len_labels= max([len(label) for label in labels])\n",
        "# max_len = 100"
      ],
      "metadata": {
        "id": "AthoPcjfR2Xk"
      },
      "execution_count": 72,
      "outputs": []
    },
    {
      "cell_type": "markdown",
      "source": [
        "#### create IPA dictionary"
      ],
      "metadata": {
        "id": "MYRPHzmYKjn-"
      }
    },
    {
      "cell_type": "markdown",
      "source": [
        "define help function"
      ],
      "metadata": {
        "id": "SqvguFlNKd8l"
      }
    },
    {
      "cell_type": "code",
      "source": [
        "def create_IPAdictionary(labels):\n",
        "  '''\n",
        "  args:\n",
        "    labels: list of list\n",
        "  return: ipa2idx\n",
        "        dictionary of IPA_label: index\n",
        "  '''\n",
        "  ipas= set()\n",
        "  for label in labels:\n",
        "    ipas= ipas.union(set(label))\n",
        "  ipas= sorted(ipas)\n",
        "  try:\n",
        "    ipas.remove('pau') # blank symbol substitues 'pau'\n",
        "  except Exception:\n",
        "    pass\n",
        "  ipas.remove('h#') # to assign index 1 to 'h#' (begin / end marker)\n",
        "  ipas.remove('epi') # to assign index 2 to 'epi' (epenthetic silence)\n",
        "\n",
        "  ipa2idx= {ipa:(idx+2) for idx, ipa in enumerate(ipas)}\n",
        "  ipa2idx['<blank>']= 0\n",
        "  ipa2idx['h#']= 1\n",
        "  ipa2idx['epi']= 2\n",
        "\n",
        "  return ipa2idx"
      ],
      "metadata": {
        "id": "rSTzPtvEKdZe"
      },
      "execution_count": 73,
      "outputs": []
    },
    {
      "cell_type": "markdown",
      "source": [
        "execute and review"
      ],
      "metadata": {
        "id": "NR9kwdQSLldm"
      }
    },
    {
      "cell_type": "code",
      "source": [
        "ipa2idx= create_IPAdictionary(labels)\n",
        "print(*sorted(ipa2idx))\n",
        "\n",
        "# substitute pau to <blank>\n",
        "labels= [[symbol if symbol !=  'pau' else '<blank>' for symbol in label] for label in labels ]"
      ],
      "metadata": {
        "colab": {
          "base_uri": "https://localhost:8080/"
        },
        "id": "W9GkcimhKjMr",
        "outputId": "1c634816-136e-43a5-8e35-8b40e4d480cf"
      },
      "execution_count": 74,
      "outputs": [
        {
          "output_type": "stream",
          "name": "stdout",
          "text": [
            "<blank> aa ae ah ao aw ax ax-h axr ay b bcl ch d dcl dh dx eh el em en eng epi er ey f g gcl h# hh hv ih ix iy jh k kcl l m n ng nx ow oy p pcl q r s sh t tcl th uh uw ux v w y z zh\n"
          ]
        }
      ]
    },
    {
      "cell_type": "code",
      "source": [
        "print(f'the number of IPA labels in TIMIT:\\t {len(ipa2idx)}')\n",
        "print(f'Index of blank symbol <blank>\":\\t {ipa2idx[\"<blank>\"]}')\n",
        "print(f'Index of sos/eos label \"h#\":\\t {ipa2idx[\"h#\"]}')"
      ],
      "metadata": {
        "colab": {
          "base_uri": "https://localhost:8080/"
        },
        "id": "7ValF7gQOpW5",
        "outputId": "9d30be2c-ec11-40d7-ddc7-08f3d4ccbca3"
      },
      "execution_count": 75,
      "outputs": [
        {
          "output_type": "stream",
          "name": "stdout",
          "text": [
            "the number of IPA labels in TIMIT:\t 61\n",
            "Index of blank symbol <blank>\":\t 0\n",
            "Index of sos/eos label \"h#\":\t 1\n"
          ]
        }
      ]
    },
    {
      "cell_type": "code",
      "source": [
        "# compare phonemic / phonetic symbols between\n",
        "# provided TIMIT phonecode and transcription data\n",
        "# https://catalog.ldc.upenn.edu/docs/LDC96S32/PHONCODE.TXT\n",
        "\n",
        "existing= set(ipa2idx.keys())\n",
        "\n",
        "phonecode= set(['b', 'd', 'g', 'p', 't', 'k', 'dx', 'q', # stops\n",
        "             'jh', 'ch', # affricates\n",
        "             's', 'sh', 'z', 'zh', 'f', 'th', 'v', 'dh', # frcatives\n",
        "             'm', 'n', 'ng', 'em', 'en', 'eng', 'nx', # nasals\n",
        "             'l', 'r', 'w', 'y', 'hh', 'hv', 'el', # semivowels and glides\n",
        "             'iy', 'ih', 'eh', 'ey', 'ae', 'aa', 'aw', 'ay', 'ah', 'ao', 'oy', 'ow', 'uh', 'uw', 'ux', 'er', 'ax', 'ix', 'axr', 'ax-h', # vowels\n",
        "             'pau', 'epi', 'h#', '1', '2',# others # epi: epenthetic silence # h# : begin/ end marker # 1 : primary stress marker # 2 : secondary stress marker\n",
        "             ])"
      ],
      "metadata": {
        "id": "mX_mm_nWC0Rw"
      },
      "execution_count": 76,
      "outputs": []
    },
    {
      "cell_type": "code",
      "source": [
        "print(*sorted(existing.union(phonecode) - (existing & phonecode)))\n",
        "print(*sorted((existing - phonecode)))\n",
        "print(*sorted((phonecode - existing)))"
      ],
      "metadata": {
        "colab": {
          "base_uri": "https://localhost:8080/"
        },
        "id": "LDnTZeQJDNIG",
        "outputId": "376dd0a3-62c3-4405-d1f0-8c4e55031e7f"
      },
      "execution_count": 77,
      "outputs": [
        {
          "output_type": "stream",
          "name": "stdout",
          "text": [
            "1 2 <blank> bcl dcl gcl kcl pau pcl tcl\n",
            "<blank> bcl dcl gcl kcl pcl tcl\n",
            "1 2 pau\n"
          ]
        }
      ]
    },
    {
      "cell_type": "code",
      "source": [
        "# review\n",
        "# in data, there is no stress markers(not important to our project)\n",
        "# in data, there is additional phone symbols, bcl, dcl, gcl, kcl, pcl, tcl"
      ],
      "metadata": {
        "id": "Ecb_pW9FDQ1S"
      },
      "execution_count": 78,
      "outputs": []
    },
    {
      "cell_type": "code",
      "source": [
        "# handling bcl, dcl, gcl, kcl, pcl, tcl\n",
        "  # used as abbreviation for voiceless stop or plosive with closure\n",
        "  # e.g. bcl : bilbial closure, tcl : alveolar closure"
      ],
      "metadata": {
        "id": "I94DWwPyDURo"
      },
      "execution_count": 79,
      "outputs": []
    },
    {
      "cell_type": "markdown",
      "source": [
        "handling DIPHTHONGS, SIMILAR SOUNDS in labels"
      ],
      "metadata": {
        "id": "m2F4Ce37M8CU"
      }
    },
    {
      "cell_type": "code",
      "source": [
        "# diphthongs\n",
        "\n",
        "diphthongs= ['ey', 'aw', 'ay', 'ow']\n",
        "# ey 'bait' -> split\n",
        "# aw 'bout' -> split\n",
        "# ay 'bite' -> split\n",
        "# oy 'boy' -> oh + y\n",
        "# ow 'boat' -> split\n",
        "\n",
        "diphthong_regex= re.compile('|'.join(sorted(map(re.escape, diphthongs),\n",
        "                                              key= len, reverse= True)))\n",
        "oy_regex= re.compile('oy')\n",
        "\n",
        "def split_diphthongs(label):\n",
        "  label= ' '.join(label)\n",
        "  label= diphthong_regex.sub(lambda x: ' '.join(x.group()), label)\n",
        "  label = oy_regex.sub('oh y', label).split()\n",
        "  return label"
      ],
      "metadata": {
        "id": "wgcxU-NhFg9O"
      },
      "execution_count": 80,
      "outputs": []
    },
    {
      "cell_type": "code",
      "source": [
        "# similar sounds\n",
        "\n",
        "\n",
        "merge_ipa= {\n",
        "    # marginal sounds\n",
        "    'ax-h': 'ax',\n",
        "    'bcl': 'b',\n",
        "    'dcl': 'd',\n",
        "    'gcl': 'g',\n",
        "    'kcl': 'k',\n",
        "    'pcl': 'p',\n",
        "    'tcl': 't',\n",
        "\n",
        "    'en': 'n',\n",
        "    'em': 'm',\n",
        "    'el': 'l',\n",
        "    'eng': 'ng',\n",
        "\n",
        "    ## /ɹ/ sound\n",
        "    # 'axr': 'r' ? 'ɹ' ?\n",
        "    # 'dx': 'r',\n",
        "    # 'nx': 'r',\n",
        "    # 'er': 'r', 'ɹ' ?\n",
        "\n",
        "    # /h/ sound\n",
        "    'hh': 'h',\n",
        "}\n",
        "\n"
      ],
      "metadata": {
        "id": "jdyY-LMV_CD4"
      },
      "execution_count": 81,
      "outputs": []
    },
    {
      "cell_type": "markdown",
      "source": [
        "execute and review"
      ],
      "metadata": {
        "id": "mW0xzKRxM5kl"
      }
    },
    {
      "cell_type": "code",
      "source": [
        "## split diphthongs\n",
        "labels = [split_diphthongs(label) for label in labels]\n",
        "labels_merge = [[merge_ipa.get(symbol, symbol) for symbol in label] for label in labels]\n"
      ],
      "metadata": {
        "id": "yLRWnsd7cUQ5"
      },
      "execution_count": 82,
      "outputs": []
    },
    {
      "cell_type": "code",
      "source": [
        "## after merging, there may appear identical consecutive phones\n",
        "## again merge or leave it as it is ?\n",
        "\n",
        "## if dcl and d > d\n",
        "## if dcl was by itself > d\n",
        "\n",
        "labels_final = []\n",
        "\n",
        "for label, label_merge in zip(labels, labels_merge):\n",
        "  label = ' '.join(label)\n",
        "  label_merge = ' '.join(label_merge)\n",
        "  for key, item in merge_ipa.items():\n",
        "    if ' '.join([key, item]) in label:\n",
        "      label_merge = re.sub(' '.join([item, item]), item, label_merge)\n",
        "\n",
        "  labels_final.append(label_merge.split())"
      ],
      "metadata": {
        "id": "Kmk85sS5AXRP"
      },
      "execution_count": 83,
      "outputs": []
    },
    {
      "cell_type": "code",
      "source": [
        "for i in range(10):\n",
        "  print(*labels[i])\n",
        "  print(*labels_merge[i])\n",
        "  print(*labels_final[i])"
      ],
      "metadata": {
        "colab": {
          "base_uri": "https://localhost:8080/"
        },
        "id": "X5lGHnAm-EKN",
        "outputId": "5f30e990-a0c7-4932-a0cd-320e7d6f8e10"
      },
      "execution_count": 84,
      "outputs": [
        {
          "output_type": "stream",
          "name": "stdout",
          "text": [
            "h# sh uw w ax z hh o w l dx ix ng q aa nx uh hv ih z r aa kcl k w ax dh w ah n hv ae n dcl d h#\n",
            "h# sh uw w ax z h o w l dx ix ng q aa nx uh hv ih z r aa k k w ax dh w ah n hv ae n d d h#\n",
            "h# sh uw w ax z h o w l dx ix ng q aa nx uh hv ih z r aa k w ax dh w ah n hv ae n d h#\n",
            "h# b er th dcl d e y pcl p aa r dx iy z hh eh v kcl k ah pcl k e y kcl k s ix nx a y s kcl k r iy m h#\n",
            "h# b er th d d e y p p aa r dx iy z h eh v k k ah p k e y k k s ix nx a y s k k r iy m h#\n",
            "h# b er th d e y p aa r dx iy z h eh v k ah p k e y k s ix nx a y s k r iy m h#\n",
            "h# s ah m w ax m ix ng gcl g eh dx ix r ih l th r ih l a w dx ax v hv a w s w axr kcl k h#\n",
            "h# s ah m w ax m ix ng g g eh dx ix r ih l th r ih l a w dx ax v hv a w s w axr k k h#\n",
            "h# s ah m w ax m ix ng g eh dx ix r ih l th r ih l a w dx ax v hv a w s w axr k h#\n",
            "h# dh ix pcl p e y sh ix n tcl t q eh n dh ax s er dcl jh ix nx axr bcl b o w th axr kcl k uw pcl p r eh dx ix ng f axr m dh ix l eh ng th iy ah pcl p er e y sh en h#\n",
            "h# dh ix p p e y sh ix n t t q eh n dh ax s er d jh ix nx axr b b o w th axr k k uw p p r eh dx ix ng f axr m dh ix l eh ng th iy ah p p er e y sh n h#\n",
            "h# dh ix p e y sh ix n t q eh n dh ax s er d jh ix nx axr b o w th axr k uw p r eh dx ix ng f axr m dh ix l eh ng th iy ah p er e y sh n h#\n",
            "h# d r ao q iy tcl ch gcl g r ae f ah nx e y n uw ae kcl k s ix s h#\n",
            "h# d r ao q iy t ch g g r ae f ah nx e y n uw ae k k s ix s h#\n",
            "h# d r ao q iy t ch g r ae f ah nx e y n uw ae k s ix s h#\n",
            "h# en ah l ao ng r ah n ix tcl p e y z tcl t ix bcl b a y kcl k w ao l ax dx ix kcl k l o w dh ix ng h#\n",
            "h# n ah l ao ng r ah n ix t p e y z t t ix b b a y k k w ao l ax dx ix k k l o w dh ix ng h#\n",
            "h# n ah l ao ng r ah n ix t p e y z t ix b a y k w ao l ax dx ix k l o w dh ix ng h#\n",
            "h# sh ix q o w ix zh dcl jh o w kcl k s bcl b ah tcl t ux m ah tcl ch gcl g aa r l ix kcl k ix nx ix z f uw dcl d h#\n",
            "h# sh ix q o w ix zh d jh o w k k s b b ah t t ux m ah t ch g g aa r l ix k k ix nx ix z f uw d d h#\n",
            "h# sh ix q o w ix zh d jh o w k s b ah t ux m ah t ch g aa r l ix k ix nx ix z f uw d h#\n",
            "h# d ah nx ae s epi m ih kcl k eh r iy ix nx ix q oh y l iy r ae gcl g l a y kcl dh ae tcl h#\n",
            "h# d ah nx ae s epi m ih k k eh r iy ix nx ix q oh y l iy r ae g g l a y k dh ae t h#\n",
            "h# d ah nx ae s epi m ih k eh r iy ix nx ix q oh y l iy r ae g l a y k dh ae t h#\n",
            "h# q ix dx ih z iy s e y m o w l s e y m <blank> t eh l m iy ix tcl t s n e y m h#\n",
            "h# q ix dx ih z iy s e y m o w l s e y m <blank> t eh l m iy ix t t s n e y m h#\n",
            "h# q ix dx ih z iy s e y m o w l s e y m <blank> t eh l m iy ix t s n e y m h#\n",
            "h# sh ix hv ae dcl jh er dcl d aa r kcl k s ux tcl q ix ng gcl g r iy s ix w ao sh w ao dx axr q ao l y ix axr h#\n",
            "h# sh ix hv ae d jh er d d aa r k k s ux t q ix ng g g r iy s ix w ao sh w ao dx axr q ao l y ix axr h#\n",
            "h# sh ix hv ae d jh er d aa r k s ux t q ix ng g r iy s ix w ao sh w ao dx axr q ao l y ix axr h#\n"
          ]
        }
      ]
    },
    {
      "cell_type": "code",
      "source": [
        "# redefine labels and the dictionary\n",
        "labels= labels_final\n",
        "ipa2idx= create_IPAdictionary(labels)\n",
        "\n",
        "# again split train / dev dataset\n",
        "train_feats, dev_feats, train_labels, dev_labels= train_test_split(feats, labels)"
      ],
      "metadata": {
        "id": "6lSc_RuALB-N"
      },
      "execution_count": 85,
      "outputs": []
    },
    {
      "cell_type": "markdown",
      "source": [
        "#### Dataset + pad\n",
        "define Dataset Class"
      ],
      "metadata": {
        "id": "bvm1LJp7Pz5D"
      }
    },
    {
      "cell_type": "code",
      "source": [
        "class PhonemeASRDataset(Dataset):\n",
        "  def __init__(self, feats, labels, ipa2idx):\n",
        "    super(PhonemeASRDataset, self).__init__()\n",
        "    self.feats, self.labels= feats, labels\n",
        "    self.ipa2idx= ipa2idx\n",
        "\n",
        "  def __len__(self):\n",
        "    return len(self.feats)\n",
        "\n",
        "  def __getitem__(self, idx):\n",
        "      feat, label= self.feats[idx], self.labels[idx]\n",
        "      label= [ipa2idx[ipa] for ipa in label]\n",
        "\n",
        "      return torch.tensor(feat), torch.tensor(label, dtype= torch.long)"
      ],
      "metadata": {
        "id": "v4C5kAvFP6ED"
      },
      "execution_count": 86,
      "outputs": []
    },
    {
      "cell_type": "markdown",
      "source": [
        "define padding function"
      ],
      "metadata": {
        "id": "x7NqEpoNTGW_"
      }
    },
    {
      "cell_type": "code",
      "source": [
        "def pad_collate(batch, pad_value_feat= 0, pad_value_label= 0):\n",
        "    '''\n",
        "      for collate_fn in DataLoader function\n",
        "\n",
        "    args:\n",
        "      batch: a list of tuples (mfcc, label)\n",
        "      return: padded_mfccs, padded_labels\n",
        "    '''\n",
        "\n",
        "    mfccs, labels= zip(*batch)\n",
        "\n",
        "    # find max length for mfcc(time step) and label in the current batch\n",
        "    max_len_feats= max(mfcc.shape[0] for mfcc in mfccs)\n",
        "    max_len_labels= max(label.shape[0] for label in labels)\n",
        "\n",
        "    # pad mfcc matrices and labels\n",
        "    padded_mfccs= [F.pad(mfcc, (0, 0, 0, max_len_feats - mfcc.shape[0]), value= pad_value_feat) for mfcc in mfccs]\n",
        "    padded_labels= [F.pad(label, (0, max_len_labels - label.shape[0]), value= pad_value_label) for label in labels]\n",
        "\n",
        "    # calculate lengths of input and target lengths\n",
        "    input_lengths = torch.tensor([mfcc.shape[0] for mfcc in mfccs], dtype = torch.long)\n",
        "    target_lengths = torch.tensor([label.shape[0] for label in labels], dtype = torch.long)\n",
        "\n",
        "\n",
        "    # Stack the padded tensors\n",
        "    padded_mfccs= torch.stack(padded_mfccs)\n",
        "    padded_labels= torch.stack(padded_labels)\n",
        "\n",
        "    return padded_mfccs, padded_labels, input_lengths, target_lengths\n",
        "\n"
      ],
      "metadata": {
        "id": "S2BlBMgKS99x"
      },
      "execution_count": 87,
      "outputs": []
    },
    {
      "cell_type": "markdown",
      "source": [
        "execute and review"
      ],
      "metadata": {
        "id": "j9QDDW8XQ3xw"
      }
    },
    {
      "cell_type": "code",
      "source": [
        "train_ds= PhonemeASRDataset(train_feats, train_labels, ipa2idx= ipa2idx)\n",
        "train_loader= DataLoader(train_ds, batch_size= 8, # can adjust\n",
        "                          shuffle= True, collate_fn= pad_collate) # yields batch_size x max_len x num_feats as one training batch"
      ],
      "metadata": {
        "id": "LMKQ1fdJJGq2"
      },
      "execution_count": 88,
      "outputs": []
    },
    {
      "cell_type": "code",
      "source": [
        "a, b, _, _= next(iter(train_loader))\n",
        "print(a.shape, b.shape)"
      ],
      "metadata": {
        "colab": {
          "base_uri": "https://localhost:8080/"
        },
        "id": "7TsTyyh5W3Sj",
        "outputId": "c0e686f1-8a77-443d-b14e-44be633f60db"
      },
      "execution_count": 89,
      "outputs": [
        {
          "output_type": "stream",
          "name": "stdout",
          "text": [
            "torch.Size([8, 134, 39]) torch.Size([8, 56])\n"
          ]
        }
      ]
    },
    {
      "cell_type": "markdown",
      "source": [
        "#### Model Architecture"
      ],
      "metadata": {
        "id": "ZdEre2cMpFF4"
      }
    },
    {
      "cell_type": "markdown",
      "source": [
        "#### Model Architecture"
      ],
      "metadata": {
        "id": "udo7D8ghBZYW"
      }
    },
    {
      "cell_type": "code",
      "execution_count": 105,
      "metadata": {
        "id": "JbqBno2iFVTV"
      },
      "outputs": [],
      "source": [
        "class ResidualBlock(nn.Module):\n",
        "  def __init__(self, in_channels, out_channels,\n",
        "               kernel_size= 15, feature_map= 50, stride= 1):\n",
        "    super(ResidualBlock, self).__init__()\n",
        "\n",
        "    # Adjusted padding for Conv1d\n",
        "    padding = kernel_size // 2\n",
        "    self.conv1= nn.Conv1d(in_channels, out_channels,\n",
        "                           kernel_size, stride=stride, padding=padding) # Corrected stride and added padding\n",
        "    self.conv2= nn.Conv1d(out_channels, out_channels,\n",
        "                           kernel_size, stride=stride, padding=padding) # Corrected stride and added padding\n",
        "    self.norm1= nn.BatchNorm1d(out_channels) # Added BatchNorm1d for conv1\n",
        "    self.norm2= nn.BatchNorm1d(out_channels) # Added BatchNorm1d for conv2\n",
        "    self.PReLU= nn.PReLU()\n",
        "\n",
        "    if in_channels !=  out_channels:\n",
        "      self.shortcut= nn.Sequential(\n",
        "          nn.Conv1d(in_channels= in_channels, out_channels= out_channels,\n",
        "                    kernel_size= 1, stride= 1, ),\n",
        "          nn.BatchNorm1d(out_channels)\n",
        "      )\n",
        "    else:\n",
        "      self.shortcut= nn.Identity()\n",
        "\n",
        "  def forward(self, x):\n",
        "    identity= self.shortcut(x)\n",
        "\n",
        "    # Applied norm and PReLU to the output of convolutions\n",
        "    out= self.PReLU(self.norm1(self.conv1(x)))\n",
        "    out= self.PReLU(self.norm2(self.conv2(out)))\n",
        "    out +=  identity\n",
        "\n",
        "    return out"
      ]
    },
    {
      "cell_type": "code",
      "source": [
        "class ResidualNet(nn.Module):\n",
        "  def __init__(self, in_channels= 39, out_channels= 50,\n",
        "               kernel_size= 15, stride= 1):\n",
        "    super(ResidualNet, self).__init__()\n",
        "\n",
        "    self.stem= nn.Sequential(\n",
        "        nn.Conv1d(in_channels= in_channels, out_channels= out_channels,\n",
        "                  kernel_size= kernel_size, stride= stride, padding= kernel_size // 2),\n",
        "      nn.BatchNorm1d(num_features= out_channels)\n",
        "    )\n",
        "\n",
        "    self.layer1= ResidualBlock(in_channels= out_channels, out_channels= out_channels)\n",
        "    self.layer2= ResidualBlock(in_channels= out_channels, out_channels= out_channels)\n",
        "    self.layer3= ResidualBlock(in_channels= out_channels, out_channels= out_channels)\n",
        "    self.layer4= ResidualBlock(in_channels= out_channels, out_channels= out_channels)\n",
        "    self.layer5= ResidualBlock(in_channels= out_channels, out_channels= out_channels)\n",
        "\n",
        "\n",
        "  def forward(self, x): # Added input argument x\n",
        "    out= self.stem(x)\n",
        "    out= self.layer5(self.layer4(self.layer3(self.layer2(self.layer1(out)))))\n",
        "    return out"
      ],
      "metadata": {
        "id": "ITLnISqzL_ur"
      },
      "execution_count": 106,
      "outputs": []
    },
    {
      "cell_type": "markdown",
      "source": [
        "define RNN Encoder"
      ],
      "metadata": {
        "id": "NwksIKiIHgYj"
      }
    },
    {
      "cell_type": "code",
      "source": [
        "class biLSTM(nn.Module):\n",
        "  def __init__(self, input_size= 50, hidden_size= 170, bidirectional= True,\n",
        "               num_layers= 2,\n",
        "               batch_first= True, dropout= 0.2, ipa2idx= ipa2idx\n",
        "               ):\n",
        "    super(biLSTM, self).__init__()\n",
        "    self.input_size= input_size\n",
        "    self.hidden_size= hidden_size\n",
        "    self.bidirectional= bidirectional\n",
        "    self.rnn= nn.LSTM(input_size= input_size, hidden_size= hidden_size,\n",
        "                        bidirectional= bidirectional, dropout= dropout,\n",
        "                       num_layers= num_layers, bias= False)\n",
        "    self.dropout= nn.Dropout(dropout)\n",
        "\n",
        "  def forward(self, x):\n",
        "    '''\n",
        "    input: (B x N x 3*F)\n",
        "    outputs:\n",
        "      output: (B x N x 2 * Dh)\n",
        "      final hidden state: (2 * num_layers x Dh)\n",
        "    '''\n",
        "    out, _= self.rnn(x)\n",
        "    out= self.dropout(out)\n",
        "\n",
        "    return out"
      ],
      "metadata": {
        "id": "UrjsPDlOHgYj"
      },
      "execution_count": 107,
      "outputs": []
    },
    {
      "cell_type": "markdown",
      "source": [
        "define CTC model"
      ],
      "metadata": {
        "id": "wKG96ZVE-Isv"
      }
    },
    {
      "cell_type": "code",
      "source": [
        "class CTCModel(nn.Module):\n",
        "  def __init__(self, cnn_param, rnn_param, ipa2idx, dropout= 0.2):\n",
        "    # inherit nn.Module __init__\n",
        "    super(CTCModel, self).__init__()\n",
        "\n",
        "    # assign properties\n",
        "    if cnn_param is None or type(cnn_param) !=  dict:\n",
        "      raise ValueError('cnn_param need to be a dict to contain all params of cnn!')\n",
        "    if rnn_param is None or type(rnn_param) !=  dict:\n",
        "      raise ValueError('rnn_param need to be a dict to contain all params of rnn!')\n",
        "\n",
        "    self.cnn_param= cnn_param\n",
        "    self.rnn_param= rnn_param\n",
        "    self.num_class= len(ipa2idx)\n",
        "    self.num_directions= 2 if rnn_param['biLSTM']['bidirectional'] else 1\n",
        "    self.dropout= dropout\n",
        "\n",
        "    # assign ResNet(CNN) module\n",
        "    ResBlock= cnn_param['ResBlock']\n",
        "    ResNet= cnn_param['ResNet']\n",
        "\n",
        "\n",
        "    self.ResBlock= ResidualBlock(in_channels= ResBlock['in_channels'], out_channels= ResBlock['out_channels'],\n",
        "                                  kernel_size= ResBlock['kernel_size'], stride= ResBlock['stride'])\n",
        "    self.cnn= ResidualNet(in_channels= ResNet['in_channels'], out_channels= ResNet['out_channels'],\n",
        "                      kernel_size= ResNet['kernel_size'], stride= ResNet['stride'])\n",
        "\n",
        "    # assign biLSTM module\n",
        "    input_size= rnn_param['biLSTM']['input_size']\n",
        "    hidden_size= rnn_param['biLSTM']['hidden_size']\n",
        "    bidirectional= rnn_param['biLSTM']['bidirectional']\n",
        "    num_layers= rnn_param['biLSTM']['num_layers']\n",
        "    batch_first= rnn_param['biLSTM']['batch_first']\n",
        "    dropout= rnn_param['biLSTM']['dropout']\n",
        "\n",
        "    self.rnn= biLSTM(input_size= input_size, hidden_size= hidden_size,\n",
        "                      bidirectional= bidirectional, num_layers= num_layers,\n",
        "                      batch_first= batch_first, dropout= dropout, ipa2idx= ipa2idx)\n",
        "\n",
        "\n",
        "    # define FC layer\n",
        "    self.fc= nn.Sequential(\n",
        "        nn.Linear(in_features= self.num_directions * hidden_size, out_features= hidden_size, bias= False),\n",
        "        nn.ReLU(),\n",
        "        nn.Linear(in_features= hidden_size, out_features= self.num_class ),\n",
        "    )\n",
        "\n",
        "    # define softmax layer\n",
        "    self.log_softmax= nn.LogSoftmax(dim= -2)\n",
        "\n",
        "\n",
        "  def forward(self, x):\n",
        "    '''\n",
        "    args :\n",
        "      x : B x 1 x N x D\n",
        "    return\n",
        "      softmax over laels\n",
        "    '''\n",
        "    # Resnet Encoder Block\n",
        "    x = x.transpose(1, 2)\n",
        "    out_cnn= self.cnn(x)\n",
        "    out_cnn= out_cnn.transpose(1, 2)\n",
        "    sizes= out_cnn.size()\n",
        "    if len(sizes) > 3:\n",
        "      out_cnn= out_cnn.view(sizes[0], sizes[1], sizes[2] * sizes[3])\n",
        "\n",
        "\n",
        "    # RNN Encoder Block\n",
        "    out_rnn= self.rnn(out_cnn)\n",
        "    B, T, _= out_rnn.size()\n",
        "    out_rnn= out_rnn.contiguous().view(B * T, -1)\n",
        "\n",
        "    # Dense Layer Block\n",
        "    out= self.fc(out_rnn)\n",
        "    out= out.view(B, T, -1)\n",
        "    out= self.log_softmax(out)\n",
        "\n",
        "    return out"
      ],
      "metadata": {
        "id": "4rB-N6wNa19x"
      },
      "execution_count": 108,
      "outputs": []
    },
    {
      "cell_type": "markdown",
      "source": [
        "define decoder function"
      ],
      "metadata": {
        "id": "AcOjfNP2gTKn"
      }
    },
    {
      "cell_type": "code",
      "source": [
        "def decode_ctc(log_probs, input_lengths, blank=0):\n",
        "  '''\n",
        "  args:\n",
        "    log_probs:\n",
        "    input_lengths:\n",
        "    blank:\n",
        "  return:\n",
        "\n",
        "  '''\n",
        "    # Greedy decoding\n",
        "  pred = log_probs.argmax(dim=-1)  # (B, T)\n",
        "  decoded = []\n",
        "  for i in range(pred.size(0)):\n",
        "      seq = []\n",
        "      prev = blank\n",
        "      for j in range(input_lengths[i]):\n",
        "          p = pred[i][j].item()\n",
        "          if p != prev and p != blank:\n",
        "              seq.append(p)\n",
        "          prev = p\n",
        "      decoded.append(seq)\n",
        "  return decoded"
      ],
      "metadata": {
        "id": "Lhsm6ACBgUct"
      },
      "execution_count": 109,
      "outputs": []
    },
    {
      "cell_type": "code",
      "source": [
        "def evaluate_PER(model, data_loader):\n",
        "  '''\n",
        "  args:\n",
        "    model:\n",
        "    data_loader:\n",
        "  return\n",
        "  '''\n",
        "  model.eval()\n",
        "  total_edits, total_length = 0, 0\n",
        "  for x, y, input_lens, target_lens in data_loader:\n",
        "    x, y = x.to(SETTING[\"device\"]), y.to(SETTING[\"device\"])\n",
        "    input_lens, target_lens = input_lens.to(SETTING[\"device\"]), target_lens.to(SETTING[\"device\"])\n",
        "\n",
        "    log_probs = model(x)  # (B, T, C)\n",
        "    pred_seqs = decode_ctc(log_probs, input_lens)  # List of predictions\n",
        "    target_seqs = [y[i][:target_lens[i]].tolist() for i in range(y.size(0))]\n",
        "\n",
        "    for pred, target in zip(pred_seqs, target_seqs):\n",
        "      total_edits += ed.eval(target, pred)\n",
        "      total_length += len(target)\n",
        "  return total_edits / total_length if total_length > 0 else 0.0\n"
      ],
      "metadata": {
        "id": "6myWYGjCg6Z8"
      },
      "execution_count": 110,
      "outputs": []
    },
    {
      "cell_type": "markdown",
      "source": [
        "#### Train"
      ],
      "metadata": {
        "id": "KzXOeqHOBZYY"
      }
    },
    {
      "cell_type": "markdown",
      "source": [
        "define utility codes"
      ],
      "metadata": {
        "id": "55zEpnBEBZYY"
      }
    },
    {
      "cell_type": "markdown",
      "source": [
        "#### Train"
      ],
      "metadata": {
        "id": "5Zw5qUoJTIT7"
      }
    },
    {
      "cell_type": "markdown",
      "source": [
        "define utility codes"
      ],
      "metadata": {
        "id": "EH2wIbyITJgW"
      }
    },
    {
      "cell_type": "code",
      "source": [
        "def save_checkpoint(model, optimizer, filename= 'checkpoint.pth.tar'):\n",
        "  '''\n",
        "  args:\n",
        "    model: model on training\n",
        "    optimizer: optimizer on optimizing\n",
        "    filename: the path to save ongoing training states of model and optimizer\n",
        "  '''\n",
        "  checkpoint= {\n",
        "      \"state_dict\": model.state_dict(),\n",
        "      \"optimizer\": optimizer.state_dict()\n",
        "  }\n",
        "  print(\"= > Saving checkpoint\")\n",
        "  torch.save(checkpoint, filename)\n",
        "\n",
        "\n",
        "def load_checkpoint(checkpoint, model, optimizer):\n",
        "  '''\n",
        "  args:\n",
        "    checkpoint: a file where states of model and optimizer is saved\n",
        "    model: instantiated model\n",
        "    optimizer: instantiated optimizer\n",
        "  '''\n",
        "  print(\"= > Loading checkpoint\")\n",
        "  model.load_state_dict(checkpoint[\"state_dict\"])\n",
        "  optimizer.load_state_dict(checkpoint[\"optimizer\"])\n",
        "\n",
        "class EarlyStopping:\n",
        "  def __init__(self, patience=  10, delta= 1e-5, mode= 'max'):\n",
        "    self.patience=  patience # the number of epochs to wait observe loss\n",
        "    self.counter= 0\n",
        "    self.best_score= None\n",
        "    self.early_stop= False\n",
        "    self.delta= delta\n",
        "    self.mode= mode\n",
        "\n",
        "  def __call__(self, current):\n",
        "    if self.best_score is None:\n",
        "      self.best_score= current\n",
        "      return False\n",
        "\n",
        "    improvement= (current - self.best_score) if self.mode ==  \"max\" else (self.best_score - current)\n",
        "\n",
        "    if improvement <=  self.delta:\n",
        "      self.counter +=  1\n",
        "      if self.counter >=  self.patience:\n",
        "        self.early_stop= True\n",
        "    else:\n",
        "      self.best_score= current\n",
        "      self.counter= 0\n",
        "\n",
        "    return self.early_stop"
      ],
      "metadata": {
        "id": "V4_BALQxTK2r"
      },
      "execution_count": 111,
      "outputs": []
    },
    {
      "cell_type": "markdown",
      "source": [
        "define train function"
      ],
      "metadata": {
        "id": "x_Jp1wC8X1fd"
      }
    },
    {
      "cell_type": "code",
      "source": [
        "def train_fn(data_loader, model, optimizer, loss_fn):\n",
        "  model.train()\n",
        "  total_loss= []\n",
        "\n",
        "  inner_loop= tqdm(train_loader, desc= 'Batch', leave= True)\n",
        "  for x, y, input_lengths, target_lengths in inner_loop:\n",
        "    x, y= x.to(SETTING[\"device\"]), y.to(SETTING[\"device\"])\n",
        "    input_lengths, target_lengths = input_lengths.to(SETTING[\"device\"]), target_lengths.to(SETTING[\"device\"])\n",
        "\n",
        "    log_probs = model(x) # (B, T, C)\n",
        "    log_probs = log_probs.transpose(0, 1) # CTCLoss requires (T, B, C)\n",
        "\n",
        "    # flatten target labels to 1D\n",
        "    y = torch.cat([y[i][:target_lengths[i]] for i in range(y.size(0))])\n",
        "\n",
        "    loss = loss_fn(log_probs, y, input_lengths, target_lengths)\n",
        "\n",
        "    optimizer.zero_grad()\n",
        "    loss.backward()\n",
        "    optimizer.step()\n",
        "    inner_loop.set_postfix(loss= loss.item())\n",
        "    total_loss.append(loss.item())\n",
        "\n",
        "  return sum(total_loss) / len(total_loss)"
      ],
      "metadata": {
        "id": "U8hapNfDX2iQ"
      },
      "execution_count": 112,
      "outputs": []
    },
    {
      "cell_type": "markdown",
      "source": [
        "define evaluation function"
      ],
      "metadata": {
        "id": "g194r9n2dszE"
      }
    },
    {
      "cell_type": "code",
      "source": [
        "# import Nikita's code?"
      ],
      "metadata": {
        "id": "_w2kispSduQW"
      },
      "execution_count": 113,
      "outputs": []
    },
    {
      "cell_type": "markdown",
      "source": [
        "```\n",
        "\"seed\" : 43,\n",
        "\"learning_rate\": 2e-5,\n",
        "\"device\": \"cuda:0\" if torch.cuda.is_available() else \"cpu\"\n",
        "\"batch_size\" 64,\n",
        "\"weight_decay\": 1e-4,\n",
        "\"num_epochs\": 70,\n",
        "\"num_workers\": 2,\n",
        "\"pin_memory\": True,\n",
        "```\n",
        "-------------------------------------------\n",
        "```\n",
        "\"load_model\": True\n",
        "(if saved model exists)\n",
        "\"load_model_file\": \"./drive/MyDrive/ResLSTM.path.tar\",\n",
        "```"
      ],
      "metadata": {
        "id": "2Y4UJXF2UwH1"
      }
    },
    {
      "cell_type": "code",
      "source": [
        "#------------------------------- Traing Settings -------------------------------#\n",
        "SETTING= {\n",
        "    \"seed\": 43,\n",
        "    \"learning_rate\": 2e-5,\n",
        "    \"device\": \"cuda:0\" if torch.cuda.is_available() else \"cpu\",\n",
        "    \"batch_size\": 64,\n",
        "    \"weight_decay\": 1e-4,\n",
        "    \"num_epochs\": 70,\n",
        "    \"num_workers\": 2,\n",
        "    \"pin_memory\": True,\n",
        "    \"load_model\": False,\n",
        "    \"load_model_file\": \"./drive/MyDrive/ResLSTM.path.tar\",\n",
        "    \"patience\": 10,\n",
        "#    \"feat_dir\": directory of features\n",
        "#    \"label_dir\": directory of labels\n",
        "\n",
        "}\n",
        "\n",
        "torch.manual_seed(SETTING[\"seed\"])\n",
        "\n",
        "\n",
        "#------------------------------- DataLoader -------------------------------#\n",
        "\n",
        "train_ds= PhonemeASRDataset(train_feats, train_labels, ipa2idx= ipa2idx)\n",
        "dev_ds= PhonemeASRDataset(dev_feats, dev_labels, ipa2idx= ipa2idx)\n",
        "# test_ds =  test 어쩌구\n",
        "\n",
        "train_loader= DataLoader(train_ds,\n",
        "                          batch_size= SETTING[\"batch_size\"],\n",
        "                          shuffle= True, collate_fn= pad_collate,\n",
        "                         num_workers= SETTING[\"num_workers\"],\n",
        "                         pin_memory= SETTING[\"pin_memory\"]) # yields batch_size x max_len x num_feats as one training batch\n",
        "dev_loader= DataLoader(dev_ds,\n",
        "                      batch_size= SETTING[\"batch_size\"],\n",
        "                       shuffle= False, collate_fn= pad_collate,\n",
        "                       num_workers= SETTING[\"num_workers\"],\n",
        "                      pin_memory= SETTING[\"pin_memory\"])\n",
        "\n",
        "early_stopping =  EarlyStopping(patience= SETTING[\"patience\"], delta= 0.001, mode =  \"max\")"
      ],
      "metadata": {
        "id": "5fndYEgkbfYz"
      },
      "execution_count": 114,
      "outputs": []
    },
    {
      "cell_type": "code",
      "source": [
        "\n",
        "#------------------------------- CONFIG -------------------------------#\n",
        "cnn_param= {\n",
        "    'ResNet': {\n",
        "        'in_channels': 39,\n",
        "        'out_channels': 50,\n",
        "        'kernel_size': 15,\n",
        "        'stride': 1\n",
        "},\n",
        "    'ResBlock': {\n",
        "        'in_channels': 50,\n",
        "        'out_channels': 50,\n",
        "        'kernel_size' : 15,\n",
        "        'stride': 1\n",
        "    },\n",
        "}\n",
        "\n",
        "rnn_param= {\n",
        "    'biLSTM': {\n",
        "        'input_size': 50,\n",
        "        'hidden_size': 170,\n",
        "        'bidirectional': True,\n",
        "        'num_layers': 2,\n",
        "        'batch_first': True,\n",
        "        'batch_norm': True,\n",
        "        'ipa2idx': ipa2idx,\n",
        "        'dropout': 0.25}\n",
        "}\n",
        "\n",
        "#------------------------------- Model & Optimizer -------------------------------#\n",
        "model= CTCModel(cnn_param= cnn_param, rnn_param= rnn_param,\n",
        "                   ipa2idx= ipa2idx)\n",
        "\n",
        "optimizer= optim.Adam(model.parameters(),\n",
        "                       lr= SETTING[\"learning_rate\"],\n",
        "                       weight_decay= SETTING[\"weight_decay\"],\n",
        "                       )\n",
        "loss_fn = nn.CTCLoss(blank= 0, reduction= 'sum')\n",
        "\n",
        "if SETTING[\"load_model\"]:\n",
        "  checkpoint= torch.load(SETTING[\"load_model_file\"])\n",
        "  load_checkpoint(checkpoint, model, optimizer)\n",
        "\n"
      ],
      "metadata": {
        "id": "T5CRKJDNfj1h"
      },
      "execution_count": 118,
      "outputs": []
    },
    {
      "cell_type": "code",
      "source": [
        "# review\n",
        "print(model)"
      ],
      "metadata": {
        "colab": {
          "base_uri": "https://localhost:8080/"
        },
        "id": "LvsKzl4Fft-N",
        "outputId": "a80f77b8-5c83-4ade-a63b-d578bb84761c"
      },
      "execution_count": 119,
      "outputs": [
        {
          "output_type": "stream",
          "name": "stdout",
          "text": [
            "CTCModel(\n",
            "  (ResBlock): ResidualBlock(\n",
            "    (conv1): Conv1d(50, 50, kernel_size=(15,), stride=(1,), padding=(7,))\n",
            "    (conv2): Conv1d(50, 50, kernel_size=(15,), stride=(1,), padding=(7,))\n",
            "    (norm1): BatchNorm1d(50, eps=1e-05, momentum=0.1, affine=True, track_running_stats=True)\n",
            "    (norm2): BatchNorm1d(50, eps=1e-05, momentum=0.1, affine=True, track_running_stats=True)\n",
            "    (PReLU): PReLU(num_parameters=1)\n",
            "    (shortcut): Identity()\n",
            "  )\n",
            "  (cnn): ResidualNet(\n",
            "    (stem): Sequential(\n",
            "      (0): Conv1d(39, 50, kernel_size=(15,), stride=(1,), padding=(7,))\n",
            "      (1): BatchNorm1d(50, eps=1e-05, momentum=0.1, affine=True, track_running_stats=True)\n",
            "    )\n",
            "    (layer1): ResidualBlock(\n",
            "      (conv1): Conv1d(50, 50, kernel_size=(15,), stride=(1,), padding=(7,))\n",
            "      (conv2): Conv1d(50, 50, kernel_size=(15,), stride=(1,), padding=(7,))\n",
            "      (norm1): BatchNorm1d(50, eps=1e-05, momentum=0.1, affine=True, track_running_stats=True)\n",
            "      (norm2): BatchNorm1d(50, eps=1e-05, momentum=0.1, affine=True, track_running_stats=True)\n",
            "      (PReLU): PReLU(num_parameters=1)\n",
            "      (shortcut): Identity()\n",
            "    )\n",
            "    (layer2): ResidualBlock(\n",
            "      (conv1): Conv1d(50, 50, kernel_size=(15,), stride=(1,), padding=(7,))\n",
            "      (conv2): Conv1d(50, 50, kernel_size=(15,), stride=(1,), padding=(7,))\n",
            "      (norm1): BatchNorm1d(50, eps=1e-05, momentum=0.1, affine=True, track_running_stats=True)\n",
            "      (norm2): BatchNorm1d(50, eps=1e-05, momentum=0.1, affine=True, track_running_stats=True)\n",
            "      (PReLU): PReLU(num_parameters=1)\n",
            "      (shortcut): Identity()\n",
            "    )\n",
            "    (layer3): ResidualBlock(\n",
            "      (conv1): Conv1d(50, 50, kernel_size=(15,), stride=(1,), padding=(7,))\n",
            "      (conv2): Conv1d(50, 50, kernel_size=(15,), stride=(1,), padding=(7,))\n",
            "      (norm1): BatchNorm1d(50, eps=1e-05, momentum=0.1, affine=True, track_running_stats=True)\n",
            "      (norm2): BatchNorm1d(50, eps=1e-05, momentum=0.1, affine=True, track_running_stats=True)\n",
            "      (PReLU): PReLU(num_parameters=1)\n",
            "      (shortcut): Identity()\n",
            "    )\n",
            "    (layer4): ResidualBlock(\n",
            "      (conv1): Conv1d(50, 50, kernel_size=(15,), stride=(1,), padding=(7,))\n",
            "      (conv2): Conv1d(50, 50, kernel_size=(15,), stride=(1,), padding=(7,))\n",
            "      (norm1): BatchNorm1d(50, eps=1e-05, momentum=0.1, affine=True, track_running_stats=True)\n",
            "      (norm2): BatchNorm1d(50, eps=1e-05, momentum=0.1, affine=True, track_running_stats=True)\n",
            "      (PReLU): PReLU(num_parameters=1)\n",
            "      (shortcut): Identity()\n",
            "    )\n",
            "    (layer5): ResidualBlock(\n",
            "      (conv1): Conv1d(50, 50, kernel_size=(15,), stride=(1,), padding=(7,))\n",
            "      (conv2): Conv1d(50, 50, kernel_size=(15,), stride=(1,), padding=(7,))\n",
            "      (norm1): BatchNorm1d(50, eps=1e-05, momentum=0.1, affine=True, track_running_stats=True)\n",
            "      (norm2): BatchNorm1d(50, eps=1e-05, momentum=0.1, affine=True, track_running_stats=True)\n",
            "      (PReLU): PReLU(num_parameters=1)\n",
            "      (shortcut): Identity()\n",
            "    )\n",
            "  )\n",
            "  (rnn): biLSTM(\n",
            "    (rnn): LSTM(50, 170, num_layers=2, bias=False, dropout=0.25, bidirectional=True)\n",
            "    (dropout): Dropout(p=0.25, inplace=False)\n",
            "  )\n",
            "  (fc): Sequential(\n",
            "    (0): Linear(in_features=340, out_features=170, bias=False)\n",
            "    (1): ReLU()\n",
            "    (2): Linear(in_features=170, out_features=49, bias=True)\n",
            "  )\n",
            "  (log_softmax): LogSoftmax(dim=-2)\n",
            ")\n"
          ]
        }
      ]
    },
    {
      "cell_type": "markdown",
      "source": [
        "execute and review"
      ],
      "metadata": {
        "id": "0mV_tbLAd8VZ"
      }
    },
    {
      "cell_type": "code",
      "source": [
        "losses, PER_list, PER_list_train= [], [], []\n",
        "outer_loop= tqdm(range(SETTING[\"num_epochs\"]), desc= \"Epoch\", position= 0)\n",
        "eval_interval= 5\n",
        "\n",
        "for epoch in outer_loop:\n",
        "  avg_loss= train_fn(train_loader, model, optimizer, loss_fn)\n",
        "  losses.append(avg_loss)\n",
        "\n",
        "  if epoch % eval_interval == 0:\n",
        "    with torch.no_grad():\n",
        "      PER = evaluate_PER(model, dev_loader)\n",
        "      PER_train = evaluate_PER(model, train_loader)\n",
        "\n",
        "  else:\n",
        "    PER = PER_list[-1] if PER_list else 0.0\n",
        "    PER_train = PER_list_train[-1] if PER_list_train else 0.0\n",
        "\n",
        "  PER_list.append(PER)\n",
        "  PER_list_train.append(PER_train)\n",
        "\n",
        "  outer_loop.set_postfix({\n",
        "      \"Loss\": f\"{avg_loss:.6f}\",\n",
        "      \"Train PER\": f\"{PER_train:.6f}\" if PER is not None else \"N/A\",\n",
        "      \"PER\": f\"{PER:.6f}\" if PER is not None else \"N/A\"\n",
        "  })\n",
        "\n",
        "  if early_stopping(PER):\n",
        "    print(f\"Early stopping at epoch {epoch}\")\n",
        "    break"
      ],
      "metadata": {
        "colab": {
          "base_uri": "https://localhost:8080/",
          "height": 81,
          "referenced_widgets": [
            "d864f7529dad4eb3adcc3595e248565b",
            "c3e333b19ae249e6ba92da2a40fbb09b",
            "c82a1af8c16a4a4d918ed461c5b8687d",
            "9df021e219784be49508e812f31a2e85",
            "ddd4d8b06808477aa960a1b81cc03de3",
            "435b89392d704510a8bbfb460a8c62d7",
            "7e3d6d6bc776492ca247d02c1e2d890d",
            "0bcc231b4db1408489c181eb7dd2ebf7",
            "0efd239d984c4984acfab642582eee34",
            "12c4b9371f264c6fa15abd6582101d4c",
            "04bfeeab900947b7a2d4076ec115b5ea",
            "479a99148deb4d40a6b3f1a5cc4a442a",
            "a40c66756fa0498f94bd59584652199d",
            "aaf060ea3b184dcc8246309d6397be93",
            "e98cc21cafd14b6481abf4a82f9ab1ba",
            "03108c128e5745d2a69dcb5e832f806f",
            "825243a9803845188d346dfec2f29c55",
            "e9a60a3210ff4409be235784631b76ba",
            "f8efae5a2613454693e9941534d8359e",
            "7bd0cc10a70c45cfaf69be4f6b80d485",
            "055869b1039b4b508f934567e700ef7e",
            "39b069c46e1f4a0ba58930f16430cf63"
          ]
        },
        "id": "7hbX4VBpd871",
        "outputId": "a177ea90-6843-4493-f5ec-6f47eea74de6"
      },
      "execution_count": null,
      "outputs": [
        {
          "output_type": "display_data",
          "data": {
            "text/plain": [
              "Epoch:   0%|          | 0/70 [00:00<?, ?it/s]"
            ],
            "application/vnd.jupyter.widget-view+json": {
              "version_major": 2,
              "version_minor": 0,
              "model_id": "d864f7529dad4eb3adcc3595e248565b"
            }
          },
          "metadata": {}
        },
        {
          "output_type": "display_data",
          "data": {
            "text/plain": [
              "Batch:   0%|          | 0/55 [00:00<?, ?it/s]"
            ],
            "application/vnd.jupyter.widget-view+json": {
              "version_major": 2,
              "version_minor": 0,
              "model_id": "479a99148deb4d40a6b3f1a5cc4a442a"
            }
          },
          "metadata": {}
        }
      ]
    },
    {
      "cell_type": "code",
      "source": [
        "## datasets\n",
        " ## train\n",
        " ## more TIMIT?\n",
        "\n",
        " ## test\n",
        " ## Yoruba audio <- Aaron\n",
        " ## Yoruba labels <- Kai Ilinca Nikita\n",
        "\n",
        "## model\n",
        "  ## CNN\n",
        "  ## pooling layer <- Ilinca and Haejin\n",
        "\n",
        "  ## other parameter settings <- Haejin\n",
        "\n",
        "## Folder and path (GitHub -> someone pull -> upload the whole folder to Google Drive)\n",
        "  ## <- Kai starting 5.8.\n",
        "  ## <- everyone rename file before 5.8."
      ],
      "metadata": {
        "id": "8l_ftxIthYzC"
      },
      "execution_count": null,
      "outputs": []
    }
  ]
}